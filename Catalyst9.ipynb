{
 "cells": [
  {
   "cell_type": "code",
   "execution_count": 13,
   "metadata": {},
   "outputs": [
    {
     "data": {
      "application/vnd.jupyter.widget-view+json": {
       "model_id": "1b864581e6424925b5e7ce6309351baf",
       "version_major": 2,
       "version_minor": 0
      },
      "text/plain": [
       "1/100 * Epoch (train):   0%|          | 0/15 [00:00<?, ?it/s]"
      ]
     },
     "metadata": {},
     "output_type": "display_data"
    },
    {
     "name": "stdout",
     "output_type": "stream",
     "text": [
      "train (1/100) accuracy01: 0.4043956046576028 | accuracy01/std: 0.11502142528361907 | f1/_macro: 0.3514498811611515 | f1/_micro: 0.4043906044574243 | f1/_weighted: 0.303801786223319 | loss: 3.766295112096347 | loss/mean: 3.766295112096347 | loss/std: 7.178169551638469 | lr: 0.02 | momentum: 0.9 | precision/_macro: 0.5348557692307692 | precision/_micro: 0.4043956043956044 | precision/_weighted: 0.5753434065934065 | recall/_macro: 0.5116998386229155 | recall/_micro: 0.4043956043956044 | recall/_weighted: 0.40439560439560435\n"
     ]
    },
    {
     "data": {
      "application/vnd.jupyter.widget-view+json": {
       "model_id": "d594982a8226471290ec0f4c9feb02aa",
       "version_major": 2,
       "version_minor": 0
      },
      "text/plain": [
       "1/100 * Epoch (valid):   0%|          | 0/4 [00:00<?, ?it/s]"
      ]
     },
     "metadata": {},
     "output_type": "display_data"
    },
    {
     "name": "stdout",
     "output_type": "stream",
     "text": [
      "valid (1/100) accuracy01: 0.6228070175438597 | accuracy01/std: 0.07245393742001471 | f1/_macro: 0.3837814188604459 | f1/_micro: 0.622802017584 | f1/_weighted: 0.4780435217384502 | loss: 0.685055348956794 | loss/mean: 0.685055348956794 | loss/std: 0.005145979761551792 | lr: 0.02 | momentum: 0.9 | precision/_macro: 0.3114035087719298 | precision/_micro: 0.6228070175438596 | precision/_weighted: 0.3878885811018775 | recall/_macro: 0.5 | recall/_micro: 0.6228070175438596 | recall/_weighted: 0.6228070175438597\n",
      "* Epoch (1/100) \n"
     ]
    },
    {
     "data": {
      "application/vnd.jupyter.widget-view+json": {
       "model_id": "554075f9242f41c2b7e26250fd30bdb1",
       "version_major": 2,
       "version_minor": 0
      },
      "text/plain": [
       "2/100 * Epoch (train):   0%|          | 0/15 [00:00<?, ?it/s]"
      ]
     },
     "metadata": {},
     "output_type": "display_data"
    },
    {
     "name": "stdout",
     "output_type": "stream",
     "text": [
      "train (2/100) accuracy01: 0.6285714287679274 | accuracy01/std: 0.08764541018578878 | f1/_macro: 0.38596254233526633 | f1/_micro: 0.6285664286112009 | f1/_weighted: 0.48521005322147764 | loss: 0.6728031623494494 | loss/mean: 0.6728031623494494 | loss/std: 0.024347893233090393 | lr: 0.02 | momentum: 0.9 | precision/_macro: 0.3142857142857143 | precision/_micro: 0.6285714285714286 | precision/_weighted: 0.3951020408163265 | recall/_macro: 0.5 | recall/_micro: 0.6285714285714286 | recall/_weighted: 0.6285714285714286\n"
     ]
    },
    {
     "data": {
      "application/vnd.jupyter.widget-view+json": {
       "model_id": "203c56272e744272878c29aa430df521",
       "version_major": 2,
       "version_minor": 0
      },
      "text/plain": [
       "2/100 * Epoch (valid):   0%|          | 0/4 [00:00<?, ?it/s]"
      ]
     },
     "metadata": {},
     "output_type": "display_data"
    },
    {
     "name": "stdout",
     "output_type": "stream",
     "text": [
      "valid (2/100) accuracy01: 0.6228070175438597 | accuracy01/std: 0.07245393742001471 | f1/_macro: 0.3837814188604459 | f1/_micro: 0.622802017584 | f1/_weighted: 0.4780435217384502 | loss: 0.6648598010079902 | loss/mean: 0.6648598010079902 | loss/std: 0.02650014172410429 | lr: 0.02 | momentum: 0.9 | precision/_macro: 0.3114035087719298 | precision/_micro: 0.6228070175438596 | precision/_weighted: 0.3878885811018775 | recall/_macro: 0.5 | recall/_micro: 0.6228070175438596 | recall/_weighted: 0.6228070175438597\n",
      "* Epoch (2/100) \n"
     ]
    },
    {
     "data": {
      "application/vnd.jupyter.widget-view+json": {
       "model_id": "d2dc1209f3c348f3bb9b4fdc998352b0",
       "version_major": 2,
       "version_minor": 0
      },
      "text/plain": [
       "3/100 * Epoch (train):   0%|          | 0/15 [00:00<?, ?it/s]"
      ]
     },
     "metadata": {},
     "output_type": "display_data"
    },
    {
     "name": "stdout",
     "output_type": "stream",
     "text": [
      "train (3/100) accuracy01: 0.6285714289644263 | accuracy01/std: 0.08232290689516042 | f1/_macro: 0.38596254233526633 | f1/_micro: 0.6285664286112009 | f1/_weighted: 0.48521005322147764 | loss: 0.6607408837957697 | loss/mean: 0.6607408837957697 | loss/std: 0.033918151790092395 | lr: 0.02 | momentum: 0.9 | precision/_macro: 0.3142857142857143 | precision/_micro: 0.6285714285714286 | precision/_weighted: 0.3951020408163265 | recall/_macro: 0.5 | recall/_micro: 0.6285714285714286 | recall/_weighted: 0.6285714285714286\n"
     ]
    },
    {
     "data": {
      "application/vnd.jupyter.widget-view+json": {
       "model_id": "0a677f8b839f4fcc99a120250ef54754",
       "version_major": 2,
       "version_minor": 0
      },
      "text/plain": [
       "3/100 * Epoch (valid):   0%|          | 0/4 [00:00<?, ?it/s]"
      ]
     },
     "metadata": {},
     "output_type": "display_data"
    },
    {
     "name": "stdout",
     "output_type": "stream",
     "text": [
      "valid (3/100) accuracy01: 0.6228070175438597 | accuracy01/std: 0.07245393742001471 | f1/_macro: 0.3837814188604459 | f1/_micro: 0.622802017584 | f1/_weighted: 0.4780435217384502 | loss: 0.662838245693006 | loss/mean: 0.662838245693006 | loss/std: 0.03362258572057743 | lr: 0.02 | momentum: 0.9 | precision/_macro: 0.3114035087719298 | precision/_micro: 0.6228070175438596 | precision/_weighted: 0.3878885811018775 | recall/_macro: 0.5 | recall/_micro: 0.6228070175438596 | recall/_weighted: 0.6228070175438597\n",
      "* Epoch (3/100) \n"
     ]
    },
    {
     "data": {
      "application/vnd.jupyter.widget-view+json": {
       "model_id": "4e0459de004e412e9c7d7cef34cd6592",
       "version_major": 2,
       "version_minor": 0
      },
      "text/plain": [
       "4/100 * Epoch (train):   0%|          | 0/15 [00:00<?, ?it/s]"
      ]
     },
     "metadata": {},
     "output_type": "display_data"
    },
    {
     "name": "stdout",
     "output_type": "stream",
     "text": [
      "train (4/100) accuracy01: 0.6285714289644261 | accuracy01/std: 0.05531817646349473 | f1/_macro: 0.38596254233526633 | f1/_micro: 0.6285664286112009 | f1/_weighted: 0.48521005322147764 | loss: 0.6602260905307729 | loss/mean: 0.6602260905307729 | loss/std: 0.026972653573989272 | lr: 0.02 | momentum: 0.9 | precision/_macro: 0.3142857142857143 | precision/_micro: 0.6285714285714286 | precision/_weighted: 0.3951020408163265 | recall/_macro: 0.5 | recall/_micro: 0.6285714285714286 | recall/_weighted: 0.6285714285714286\n"
     ]
    },
    {
     "data": {
      "application/vnd.jupyter.widget-view+json": {
       "model_id": "11a36a4ea2584a39a0de9c4276dea3e9",
       "version_major": 2,
       "version_minor": 0
      },
      "text/plain": [
       "4/100 * Epoch (valid):   0%|          | 0/4 [00:00<?, ?it/s]"
      ]
     },
     "metadata": {},
     "output_type": "display_data"
    },
    {
     "name": "stdout",
     "output_type": "stream",
     "text": [
      "valid (4/100) accuracy01: 0.6228070175438597 | accuracy01/std: 0.07245393742001471 | f1/_macro: 0.3837814188604459 | f1/_micro: 0.622802017584 | f1/_weighted: 0.4780435217384502 | loss: 0.662801394337102 | loss/mean: 0.662801394337102 | loss/std: 0.03873121440984255 | lr: 0.02 | momentum: 0.9 | precision/_macro: 0.3114035087719298 | precision/_micro: 0.6228070175438596 | precision/_weighted: 0.3878885811018775 | recall/_macro: 0.5 | recall/_micro: 0.6228070175438596 | recall/_weighted: 0.6228070175438597\n",
      "* Epoch (4/100) \n"
     ]
    },
    {
     "data": {
      "application/vnd.jupyter.widget-view+json": {
       "model_id": "dd98a1a98b0e42f8a6a375f1dd6f557b",
       "version_major": 2,
       "version_minor": 0
      },
      "text/plain": [
       "5/100 * Epoch (train):   0%|          | 0/15 [00:00<?, ?it/s]"
      ]
     },
     "metadata": {},
     "output_type": "display_data"
    },
    {
     "name": "stdout",
     "output_type": "stream",
     "text": [
      "train (5/100) accuracy01: 0.6285714288334272 | accuracy01/std: 0.08803721205152913 | f1/_macro: 0.38596254233526633 | f1/_micro: 0.6285664286112009 | f1/_weighted: 0.48521005322147764 | loss: 0.6600260167331485 | loss/mean: 0.6600260167331485 | loss/std: 0.04629861970386282 | lr: 0.02 | momentum: 0.9 | precision/_macro: 0.3142857142857143 | precision/_micro: 0.6285714285714286 | precision/_weighted: 0.3951020408163265 | recall/_macro: 0.5 | recall/_micro: 0.6285714285714286 | recall/_weighted: 0.6285714285714286\n"
     ]
    },
    {
     "data": {
      "application/vnd.jupyter.widget-view+json": {
       "model_id": "916368630c854be7a08b9142ae5ab924",
       "version_major": 2,
       "version_minor": 0
      },
      "text/plain": [
       "5/100 * Epoch (valid):   0%|          | 0/4 [00:00<?, ?it/s]"
      ]
     },
     "metadata": {},
     "output_type": "display_data"
    },
    {
     "name": "stdout",
     "output_type": "stream",
     "text": [
      "valid (5/100) accuracy01: 0.6228070175438597 | accuracy01/std: 0.07245393742001471 | f1/_macro: 0.3837814188604459 | f1/_micro: 0.622802017584 | f1/_weighted: 0.4780435217384502 | loss: 0.6628004270687438 | loss/mean: 0.6628004270687438 | loss/std: 0.03872035831770979 | lr: 0.02 | momentum: 0.9 | precision/_macro: 0.3114035087719298 | precision/_micro: 0.6228070175438596 | precision/_weighted: 0.3878885811018775 | recall/_macro: 0.5 | recall/_micro: 0.6228070175438596 | recall/_weighted: 0.6228070175438597\n",
      "* Epoch (5/100) \n"
     ]
    },
    {
     "data": {
      "application/vnd.jupyter.widget-view+json": {
       "model_id": "db142682ee08411db3b7cd6d20a16e73",
       "version_major": 2,
       "version_minor": 0
      },
      "text/plain": [
       "6/100 * Epoch (train):   0%|          | 0/15 [00:00<?, ?it/s]"
      ]
     },
     "metadata": {},
     "output_type": "display_data"
    },
    {
     "name": "stdout",
     "output_type": "stream",
     "text": [
      "train (6/100) accuracy01: 0.6285714290954255 | accuracy01/std: 0.09727040762873647 | f1/_macro: 0.38596254233526633 | f1/_micro: 0.6285664286112009 | f1/_weighted: 0.48521005322147764 | loss: 0.6599416922736954 | loss/mean: 0.6599416922736954 | loss/std: 0.051671271403764964 | lr: 0.02 | momentum: 0.9 | precision/_macro: 0.3142857142857143 | precision/_micro: 0.6285714285714286 | precision/_weighted: 0.3951020408163265 | recall/_macro: 0.5 | recall/_micro: 0.6285714285714286 | recall/_weighted: 0.6285714285714286\n"
     ]
    },
    {
     "data": {
      "application/vnd.jupyter.widget-view+json": {
       "model_id": "af3635586bce4298bdbbde0a1cae2f2f",
       "version_major": 2,
       "version_minor": 0
      },
      "text/plain": [
       "6/100 * Epoch (valid):   0%|          | 0/4 [00:00<?, ?it/s]"
      ]
     },
     "metadata": {},
     "output_type": "display_data"
    },
    {
     "name": "stdout",
     "output_type": "stream",
     "text": [
      "valid (6/100) accuracy01: 0.6228070175438597 | accuracy01/std: 0.07245393742001471 | f1/_macro: 0.3837814188604459 | f1/_micro: 0.622802017584 | f1/_weighted: 0.4780435217384502 | loss: 0.6628291439591792 | loss/mean: 0.6628291439591792 | loss/std: 0.03897763881167532 | lr: 0.02 | momentum: 0.9 | precision/_macro: 0.3114035087719298 | precision/_micro: 0.6228070175438596 | precision/_weighted: 0.3878885811018775 | recall/_macro: 0.5 | recall/_micro: 0.6228070175438596 | recall/_weighted: 0.6228070175438597\n",
      "* Epoch (6/100) \n"
     ]
    },
    {
     "data": {
      "application/vnd.jupyter.widget-view+json": {
       "model_id": "280a5841b8404a8195bfe473ebd14df0",
       "version_major": 2,
       "version_minor": 0
      },
      "text/plain": [
       "7/100 * Epoch (train):   0%|          | 0/15 [00:00<?, ?it/s]"
      ]
     },
     "metadata": {},
     "output_type": "display_data"
    },
    {
     "name": "stdout",
     "output_type": "stream",
     "text": [
      "train (7/100) accuracy01: 0.6285714285714287 | accuracy01/std: 0.09175625425599745 | f1/_macro: 0.38596254233526633 | f1/_micro: 0.6285664286112009 | f1/_weighted: 0.48521005322147764 | loss: 0.6600369216976585 | loss/mean: 0.6600369216976585 | loss/std: 0.04665118954152373 | lr: 0.02 | momentum: 0.9 | precision/_macro: 0.3142857142857143 | precision/_micro: 0.6285714285714286 | precision/_weighted: 0.3951020408163265 | recall/_macro: 0.5 | recall/_micro: 0.6285714285714286 | recall/_weighted: 0.6285714285714286\n"
     ]
    },
    {
     "data": {
      "application/vnd.jupyter.widget-view+json": {
       "model_id": "b4c788eea73b4c7682b1b565ff0449be",
       "version_major": 2,
       "version_minor": 0
      },
      "text/plain": [
       "7/100 * Epoch (valid):   0%|          | 0/4 [00:00<?, ?it/s]"
      ]
     },
     "metadata": {},
     "output_type": "display_data"
    },
    {
     "name": "stdout",
     "output_type": "stream",
     "text": [
      "valid (7/100) accuracy01: 0.6228070175438597 | accuracy01/std: 0.07245393742001471 | f1/_macro: 0.3837814188604459 | f1/_micro: 0.622802017584 | f1/_weighted: 0.4780435217384502 | loss: 0.6626895498811153 | loss/mean: 0.6626895498811153 | loss/std: 0.037188959630487954 | lr: 0.02 | momentum: 0.9 | precision/_macro: 0.3114035087719298 | precision/_micro: 0.6228070175438596 | precision/_weighted: 0.3878885811018775 | recall/_macro: 0.5 | recall/_micro: 0.6228070175438596 | recall/_weighted: 0.6228070175438597\n",
      "* Epoch (7/100) \n"
     ]
    },
    {
     "data": {
      "application/vnd.jupyter.widget-view+json": {
       "model_id": "530fd03e2a714ffbb617cacd78448585",
       "version_major": 2,
       "version_minor": 0
      },
      "text/plain": [
       "8/100 * Epoch (train):   0%|          | 0/15 [00:00<?, ?it/s]"
      ]
     },
     "metadata": {},
     "output_type": "display_data"
    },
    {
     "name": "stdout",
     "output_type": "stream",
     "text": [
      "train (8/100) accuracy01: 0.6285714288334271 | accuracy01/std: 0.07540273690150523 | f1/_macro: 0.38596254233526633 | f1/_micro: 0.6285664286112009 | f1/_weighted: 0.48521005322147764 | loss: 0.6596707658453302 | loss/mean: 0.6596707658453302 | loss/std: 0.03981468772917 | lr: 0.02 | momentum: 0.9 | precision/_macro: 0.3142857142857143 | precision/_micro: 0.6285714285714286 | precision/_weighted: 0.3951020408163265 | recall/_macro: 0.5 | recall/_micro: 0.6285714285714286 | recall/_weighted: 0.6285714285714286\n"
     ]
    },
    {
     "data": {
      "application/vnd.jupyter.widget-view+json": {
       "model_id": "194e247a943e4bec9ccc6a25667570e8",
       "version_major": 2,
       "version_minor": 0
      },
      "text/plain": [
       "8/100 * Epoch (valid):   0%|          | 0/4 [00:00<?, ?it/s]"
      ]
     },
     "metadata": {},
     "output_type": "display_data"
    },
    {
     "name": "stdout",
     "output_type": "stream",
     "text": [
      "valid (8/100) accuracy01: 0.6228070175438597 | accuracy01/std: 0.07245393742001471 | f1/_macro: 0.3837814188604459 | f1/_micro: 0.622802017584 | f1/_weighted: 0.4780435217384502 | loss: 0.66288339464288 | loss/mean: 0.66288339464288 | loss/std: 0.03940446211931581 | lr: 0.02 | momentum: 0.9 | precision/_macro: 0.3114035087719298 | precision/_micro: 0.6228070175438596 | precision/_weighted: 0.3878885811018775 | recall/_macro: 0.5 | recall/_micro: 0.6228070175438596 | recall/_weighted: 0.6228070175438597\n",
      "* Epoch (8/100) \n"
     ]
    },
    {
     "data": {
      "application/vnd.jupyter.widget-view+json": {
       "model_id": "f1791eb89e2e4a8ba2b6d462b45e2914",
       "version_major": 2,
       "version_minor": 0
      },
      "text/plain": [
       "9/100 * Epoch (train):   0%|          | 0/15 [00:00<?, ?it/s]"
      ]
     },
     "metadata": {},
     "output_type": "display_data"
    },
    {
     "name": "stdout",
     "output_type": "stream",
     "text": [
      "train (9/100) accuracy01: 0.6285714289644262 | accuracy01/std: 0.06964013371855955 | f1/_macro: 0.38596254233526633 | f1/_micro: 0.6285664286112009 | f1/_weighted: 0.48521005322147764 | loss: 0.659997419996576 | loss/mean: 0.659997419996576 | loss/std: 0.03941359519233847 | lr: 0.02 | momentum: 0.9 | precision/_macro: 0.3142857142857143 | precision/_micro: 0.6285714285714286 | precision/_weighted: 0.3951020408163265 | recall/_macro: 0.5 | recall/_micro: 0.6285714285714286 | recall/_weighted: 0.6285714285714286\n"
     ]
    },
    {
     "data": {
      "application/vnd.jupyter.widget-view+json": {
       "model_id": "7a33dc26368e419e844cf2bf8a77beac",
       "version_major": 2,
       "version_minor": 0
      },
      "text/plain": [
       "9/100 * Epoch (valid):   0%|          | 0/4 [00:00<?, ?it/s]"
      ]
     },
     "metadata": {},
     "output_type": "display_data"
    },
    {
     "name": "stdout",
     "output_type": "stream",
     "text": [
      "valid (9/100) accuracy01: 0.6228070175438597 | accuracy01/std: 0.07245393742001471 | f1/_macro: 0.3837814188604459 | f1/_micro: 0.622802017584 | f1/_weighted: 0.4780435217384502 | loss: 0.663388098541059 | loss/mean: 0.663388098541059 | loss/std: 0.042005505568512666 | lr: 0.02 | momentum: 0.9 | precision/_macro: 0.3114035087719298 | precision/_micro: 0.6228070175438596 | precision/_weighted: 0.3878885811018775 | recall/_macro: 0.5 | recall/_micro: 0.6228070175438596 | recall/_weighted: 0.6228070175438597\n",
      "* Epoch (9/100) \n"
     ]
    },
    {
     "data": {
      "application/vnd.jupyter.widget-view+json": {
       "model_id": "2b00e3421155495493b94bff25ebad49",
       "version_major": 2,
       "version_minor": 0
      },
      "text/plain": [
       "10/100 * Epoch (train):   0%|          | 0/15 [00:00<?, ?it/s]"
      ]
     },
     "metadata": {},
     "output_type": "display_data"
    },
    {
     "name": "stdout",
     "output_type": "stream",
     "text": [
      "train (10/100) accuracy01: 0.6285714289644261 | accuracy01/std: 0.07624568585830978 | f1/_macro: 0.38596254233526633 | f1/_micro: 0.6285664286112009 | f1/_weighted: 0.48521005322147764 | loss: 0.6604941271163604 | loss/mean: 0.6604941271163604 | loss/std: 0.04192892445958273 | lr: 0.02 | momentum: 0.9 | precision/_macro: 0.3142857142857143 | precision/_micro: 0.6285714285714286 | precision/_weighted: 0.3951020408163265 | recall/_macro: 0.5 | recall/_micro: 0.6285714285714286 | recall/_weighted: 0.6285714285714286\n"
     ]
    },
    {
     "data": {
      "application/vnd.jupyter.widget-view+json": {
       "model_id": "bb5f456ab4b04cd3a84fff5425c90688",
       "version_major": 2,
       "version_minor": 0
      },
      "text/plain": [
       "10/100 * Epoch (valid):   0%|          | 0/4 [00:00<?, ?it/s]"
      ]
     },
     "metadata": {},
     "output_type": "display_data"
    },
    {
     "name": "stdout",
     "output_type": "stream",
     "text": [
      "valid (10/100) accuracy01: 0.6228070175438597 | accuracy01/std: 0.07245393742001471 | f1/_macro: 0.3837814188604459 | f1/_micro: 0.622802017584 | f1/_weighted: 0.4780435217384502 | loss: 0.6627124987150493 | loss/mean: 0.6627124987150493 | loss/std: 0.03765855222184792 | lr: 0.02 | momentum: 0.9 | precision/_macro: 0.3114035087719298 | precision/_micro: 0.6228070175438596 | precision/_weighted: 0.3878885811018775 | recall/_macro: 0.5 | recall/_micro: 0.6228070175438596 | recall/_weighted: 0.6228070175438597\n",
      "* Epoch (10/100) \n"
     ]
    },
    {
     "data": {
      "application/vnd.jupyter.widget-view+json": {
       "model_id": "ab02504271b84c078532c9cbb828978f",
       "version_major": 2,
       "version_minor": 0
      },
      "text/plain": [
       "11/100 * Epoch (train):   0%|          | 0/15 [00:00<?, ?it/s]"
      ]
     },
     "metadata": {},
     "output_type": "display_data"
    },
    {
     "name": "stdout",
     "output_type": "stream",
     "text": [
      "train (11/100) accuracy01: 0.628571428833427 | accuracy01/std: 0.08403704370464538 | f1/_macro: 0.38596254233526633 | f1/_micro: 0.6285664286112009 | f1/_weighted: 0.48521005322147764 | loss: 0.659996299298255 | loss/mean: 0.659996299298255 | loss/std: 0.045118626203462485 | lr: 0.02 | momentum: 0.9 | precision/_macro: 0.3142857142857143 | precision/_micro: 0.6285714285714286 | precision/_weighted: 0.3951020408163265 | recall/_macro: 0.5 | recall/_micro: 0.6285714285714286 | recall/_weighted: 0.6285714285714286\n"
     ]
    },
    {
     "data": {
      "application/vnd.jupyter.widget-view+json": {
       "model_id": "8dbc25c251a54babbf22fe6f09cd66cf",
       "version_major": 2,
       "version_minor": 0
      },
      "text/plain": [
       "11/100 * Epoch (valid):   0%|          | 0/4 [00:00<?, ?it/s]"
      ]
     },
     "metadata": {},
     "output_type": "display_data"
    },
    {
     "name": "stdout",
     "output_type": "stream",
     "text": [
      "valid (11/100) accuracy01: 0.6228070175438597 | accuracy01/std: 0.07245393742001471 | f1/_macro: 0.3837814188604459 | f1/_micro: 0.622802017584 | f1/_weighted: 0.4780435217384502 | loss: 0.662839178453412 | loss/mean: 0.662839178453412 | loss/std: 0.03906215330624098 | lr: 0.02 | momentum: 0.9 | precision/_macro: 0.3114035087719298 | precision/_micro: 0.6228070175438596 | precision/_weighted: 0.3878885811018775 | recall/_macro: 0.5 | recall/_micro: 0.6228070175438596 | recall/_weighted: 0.6228070175438597\n",
      "* Epoch (11/100) \n"
     ]
    },
    {
     "data": {
      "application/vnd.jupyter.widget-view+json": {
       "model_id": "712d05d2b1ea4b9296b7259c663d612d",
       "version_major": 2,
       "version_minor": 0
      },
      "text/plain": [
       "12/100 * Epoch (train):   0%|          | 0/15 [00:00<?, ?it/s]"
      ]
     },
     "metadata": {},
     "output_type": "display_data"
    },
    {
     "name": "stdout",
     "output_type": "stream",
     "text": [
      "train (12/100) accuracy01: 0.628571428833427 | accuracy01/std: 0.09553639457392536 | f1/_macro: 0.38596254233526633 | f1/_micro: 0.6285664286112009 | f1/_weighted: 0.48521005322147764 | loss: 0.6599766719472278 | loss/mean: 0.6599766719472278 | loss/std: 0.05116254952726863 | lr: 0.02 | momentum: 0.9 | precision/_macro: 0.3142857142857143 | precision/_micro: 0.6285714285714286 | precision/_weighted: 0.3951020408163265 | recall/_macro: 0.5 | recall/_micro: 0.6285714285714286 | recall/_weighted: 0.6285714285714286\n"
     ]
    },
    {
     "data": {
      "application/vnd.jupyter.widget-view+json": {
       "model_id": "ece9ae2a6b844041938fdf6fa878b49b",
       "version_major": 2,
       "version_minor": 0
      },
      "text/plain": [
       "12/100 * Epoch (valid):   0%|          | 0/4 [00:00<?, ?it/s]"
      ]
     },
     "metadata": {},
     "output_type": "display_data"
    },
    {
     "name": "stdout",
     "output_type": "stream",
     "text": [
      "valid (12/100) accuracy01: 0.6228070175438597 | accuracy01/std: 0.07245393742001471 | f1/_macro: 0.3837814188604459 | f1/_micro: 0.622802017584 | f1/_weighted: 0.4780435217384502 | loss: 0.6628554149677879 | loss/mean: 0.6628554149677879 | loss/std: 0.039193200533202466 | lr: 0.02 | momentum: 0.9 | precision/_macro: 0.3114035087719298 | precision/_micro: 0.6228070175438596 | precision/_weighted: 0.3878885811018775 | recall/_macro: 0.5 | recall/_micro: 0.6228070175438596 | recall/_weighted: 0.6228070175438597\n",
      "* Epoch (12/100) \n"
     ]
    },
    {
     "data": {
      "application/vnd.jupyter.widget-view+json": {
       "model_id": "34f398794c494ae98d1983f093ff476b",
       "version_major": 2,
       "version_minor": 0
      },
      "text/plain": [
       "13/100 * Epoch (train):   0%|          | 0/15 [00:00<?, ?it/s]"
      ]
     },
     "metadata": {},
     "output_type": "display_data"
    },
    {
     "name": "stdout",
     "output_type": "stream",
     "text": [
      "train (13/100) accuracy01: 0.6285714285714286 | accuracy01/std: 0.1278082903953013 | f1/_macro: 0.38596254233526633 | f1/_micro: 0.6285664286112009 | f1/_weighted: 0.48521005322147764 | loss: 0.6607146965278372 | loss/mean: 0.6607146965278372 | loss/std: 0.06628891568774373 | lr: 0.02 | momentum: 0.9 | precision/_macro: 0.3142857142857143 | precision/_micro: 0.6285714285714286 | precision/_weighted: 0.3951020408163265 | recall/_macro: 0.5 | recall/_micro: 0.6285714285714286 | recall/_weighted: 0.6285714285714286\n"
     ]
    },
    {
     "data": {
      "application/vnd.jupyter.widget-view+json": {
       "model_id": "3d62c58bd2114830be78ee2032b8c221",
       "version_major": 2,
       "version_minor": 0
      },
      "text/plain": [
       "13/100 * Epoch (valid):   0%|          | 0/4 [00:00<?, ?it/s]"
      ]
     },
     "metadata": {},
     "output_type": "display_data"
    },
    {
     "name": "stdout",
     "output_type": "stream",
     "text": [
      "valid (13/100) accuracy01: 0.6228070175438597 | accuracy01/std: 0.07245393742001471 | f1/_macro: 0.3837814188604459 | f1/_micro: 0.622802017584 | f1/_weighted: 0.4780435217384502 | loss: 0.6626823920952646 | loss/mean: 0.6626823920952646 | loss/std: 0.03697639975292411 | lr: 0.02 | momentum: 0.9 | precision/_macro: 0.3114035087719298 | precision/_micro: 0.6228070175438596 | precision/_weighted: 0.3878885811018775 | recall/_macro: 0.5 | recall/_micro: 0.6228070175438596 | recall/_weighted: 0.6228070175438597\n",
      "* Epoch (13/100) \n"
     ]
    },
    {
     "data": {
      "application/vnd.jupyter.widget-view+json": {
       "model_id": "996d46520fa44185ab74fe1e1cd98c2a",
       "version_major": 2,
       "version_minor": 0
      },
      "text/plain": [
       "14/100 * Epoch (train):   0%|          | 0/15 [00:00<?, ?it/s]"
      ]
     },
     "metadata": {},
     "output_type": "display_data"
    },
    {
     "name": "stdout",
     "output_type": "stream",
     "text": [
      "train (14/100) accuracy01: 0.6285714287679274 | accuracy01/std: 0.10415381647403292 | f1/_macro: 0.38596254233526633 | f1/_micro: 0.6285664286112009 | f1/_weighted: 0.48521005322147764 | loss: 0.6601279503696567 | loss/mean: 0.6601279503696567 | loss/std: 0.049327721588564535 | lr: 0.02 | momentum: 0.9 | precision/_macro: 0.3142857142857143 | precision/_micro: 0.6285714285714286 | precision/_weighted: 0.3951020408163265 | recall/_macro: 0.5 | recall/_micro: 0.6285714285714286 | recall/_weighted: 0.6285714285714286\n"
     ]
    },
    {
     "data": {
      "application/vnd.jupyter.widget-view+json": {
       "model_id": "73565d281fba425994b9282b29ecf013",
       "version_major": 2,
       "version_minor": 0
      },
      "text/plain": [
       "14/100 * Epoch (valid):   0%|          | 0/4 [00:00<?, ?it/s]"
      ]
     },
     "metadata": {},
     "output_type": "display_data"
    },
    {
     "name": "stdout",
     "output_type": "stream",
     "text": [
      "valid (14/100) accuracy01: 0.6228070175438597 | accuracy01/std: 0.07245393742001471 | f1/_macro: 0.3837814188604459 | f1/_micro: 0.622802017584 | f1/_weighted: 0.4780435217384502 | loss: 0.6628187037350838 | loss/mean: 0.6628187037350838 | loss/std: 0.03378773541741899 | lr: 0.02 | momentum: 0.9 | precision/_macro: 0.3114035087719298 | precision/_micro: 0.6228070175438596 | precision/_weighted: 0.3878885811018775 | recall/_macro: 0.5 | recall/_micro: 0.6228070175438596 | recall/_weighted: 0.6228070175438597\n",
      "* Epoch (14/100) \n"
     ]
    },
    {
     "data": {
      "application/vnd.jupyter.widget-view+json": {
       "model_id": "00ce0d29a1a24b67918e956cd5e840b1",
       "version_major": 2,
       "version_minor": 0
      },
      "text/plain": [
       "15/100 * Epoch (train):   0%|          | 0/15 [00:00<?, ?it/s]"
      ]
     },
     "metadata": {},
     "output_type": "display_data"
    },
    {
     "name": "stdout",
     "output_type": "stream",
     "text": [
      "train (15/100) accuracy01: 0.6285714289644262 | accuracy01/std: 0.09403211671145946 | f1/_macro: 0.38596254233526633 | f1/_micro: 0.6285664286112009 | f1/_weighted: 0.48521005322147764 | loss: 0.6617290013439052 | loss/mean: 0.6617290013439052 | loss/std: 0.039121586565806714 | lr: 0.02 | momentum: 0.9 | precision/_macro: 0.3142857142857143 | precision/_micro: 0.6285714285714286 | precision/_weighted: 0.3951020408163265 | recall/_macro: 0.5 | recall/_micro: 0.6285714285714286 | recall/_weighted: 0.6285714285714286\n"
     ]
    },
    {
     "data": {
      "application/vnd.jupyter.widget-view+json": {
       "model_id": "e083f038866040bca8d7b1166b4cdb93",
       "version_major": 2,
       "version_minor": 0
      },
      "text/plain": [
       "15/100 * Epoch (valid):   0%|          | 0/4 [00:00<?, ?it/s]"
      ]
     },
     "metadata": {},
     "output_type": "display_data"
    },
    {
     "name": "stdout",
     "output_type": "stream",
     "text": [
      "valid (15/100) accuracy01: 0.6228070175438597 | accuracy01/std: 0.07245393742001471 | f1/_macro: 0.3837814188604459 | f1/_micro: 0.622802017584 | f1/_weighted: 0.4780435217384502 | loss: 0.6632971198935258 | loss/mean: 0.6632971198935258 | loss/std: 0.031068850147006232 | lr: 0.02 | momentum: 0.9 | precision/_macro: 0.3114035087719298 | precision/_micro: 0.6228070175438596 | precision/_weighted: 0.3878885811018775 | recall/_macro: 0.5 | recall/_micro: 0.6228070175438596 | recall/_weighted: 0.6228070175438597\n",
      "* Epoch (15/100) \n"
     ]
    },
    {
     "data": {
      "application/vnd.jupyter.widget-view+json": {
       "model_id": "1e932d8f9c134ef1981d3820d12ef468",
       "version_major": 2,
       "version_minor": 0
      },
      "text/plain": [
       "16/100 * Epoch (train):   0%|          | 0/15 [00:00<?, ?it/s]"
      ]
     },
     "metadata": {},
     "output_type": "display_data"
    },
    {
     "name": "stdout",
     "output_type": "stream",
     "text": [
      "train (16/100) accuracy01: 0.628571428833427 | accuracy01/std: 0.0848521650451794 | f1/_macro: 0.38596254233526633 | f1/_micro: 0.6285664286112009 | f1/_weighted: 0.48521005322147764 | loss: 0.6606163504359485 | loss/mean: 0.6606163504359485 | loss/std: 0.03974980227778146 | lr: 0.02 | momentum: 0.9 | precision/_macro: 0.3142857142857143 | precision/_micro: 0.6285714285714286 | precision/_weighted: 0.3951020408163265 | recall/_macro: 0.5 | recall/_micro: 0.6285714285714286 | recall/_weighted: 0.6285714285714286\n"
     ]
    },
    {
     "data": {
      "application/vnd.jupyter.widget-view+json": {
       "model_id": "47dda82cf3a84b2294dd866155e31cef",
       "version_major": 2,
       "version_minor": 0
      },
      "text/plain": [
       "16/100 * Epoch (valid):   0%|          | 0/4 [00:00<?, ?it/s]"
      ]
     },
     "metadata": {},
     "output_type": "display_data"
    },
    {
     "name": "stdout",
     "output_type": "stream",
     "text": [
      "valid (16/100) accuracy01: 0.6228070175438597 | accuracy01/std: 0.07245393742001471 | f1/_macro: 0.3837814188604459 | f1/_micro: 0.622802017584 | f1/_weighted: 0.4780435217384502 | loss: 0.6626740495363871 | loss/mean: 0.6626740495363871 | loss/std: 0.03613923102971436 | lr: 0.02 | momentum: 0.9 | precision/_macro: 0.3114035087719298 | precision/_micro: 0.6228070175438596 | precision/_weighted: 0.3878885811018775 | recall/_macro: 0.5 | recall/_micro: 0.6228070175438596 | recall/_weighted: 0.6228070175438597\n",
      "* Epoch (16/100) \n"
     ]
    },
    {
     "data": {
      "application/vnd.jupyter.widget-view+json": {
       "model_id": "fe033707cb834cd6a4ec94ac09f87859",
       "version_major": 2,
       "version_minor": 0
      },
      "text/plain": [
       "17/100 * Epoch (train):   0%|          | 0/15 [00:00<?, ?it/s]"
      ]
     },
     "metadata": {},
     "output_type": "display_data"
    },
    {
     "name": "stdout",
     "output_type": "stream",
     "text": [
      "train (17/100) accuracy01: 0.6285714289644263 | accuracy01/std: 0.11020890948987191 | f1/_macro: 0.38596254233526633 | f1/_micro: 0.6285664286112009 | f1/_weighted: 0.48521005322147764 | loss: 0.6602625832452879 | loss/mean: 0.6602625832452879 | loss/std: 0.057833446535499794 | lr: 0.02 | momentum: 0.9 | precision/_macro: 0.3142857142857143 | precision/_micro: 0.6285714285714286 | precision/_weighted: 0.3951020408163265 | recall/_macro: 0.5 | recall/_micro: 0.6285714285714286 | recall/_weighted: 0.6285714285714286\n"
     ]
    },
    {
     "data": {
      "application/vnd.jupyter.widget-view+json": {
       "model_id": "723a3dc825aa4405a76240968d72df63",
       "version_major": 2,
       "version_minor": 0
      },
      "text/plain": [
       "17/100 * Epoch (valid):   0%|          | 0/4 [00:00<?, ?it/s]"
      ]
     },
     "metadata": {},
     "output_type": "display_data"
    },
    {
     "name": "stdout",
     "output_type": "stream",
     "text": [
      "valid (17/100) accuracy01: 0.6228070175438597 | accuracy01/std: 0.07245393742001471 | f1/_macro: 0.3837814188604459 | f1/_micro: 0.622802017584 | f1/_weighted: 0.4780435217384502 | loss: 0.6627969449026543 | loss/mean: 0.6627969449026543 | loss/std: 0.03868914912832253 | lr: 0.02 | momentum: 0.9 | precision/_macro: 0.3114035087719298 | precision/_micro: 0.6228070175438596 | precision/_weighted: 0.3878885811018775 | recall/_macro: 0.5 | recall/_micro: 0.6228070175438596 | recall/_weighted: 0.6228070175438597\n",
      "* Epoch (17/100) \n"
     ]
    },
    {
     "data": {
      "application/vnd.jupyter.widget-view+json": {
       "model_id": "52b50fe9b023480d94e93df330a66ea4",
       "version_major": 2,
       "version_minor": 0
      },
      "text/plain": [
       "18/100 * Epoch (train):   0%|          | 0/15 [00:00<?, ?it/s]"
      ]
     },
     "metadata": {},
     "output_type": "display_data"
    },
    {
     "name": "stdout",
     "output_type": "stream",
     "text": [
      "train (18/100) accuracy01: 0.628571428833427 | accuracy01/std: 0.05019236169743616 | f1/_macro: 0.38596254233526633 | f1/_micro: 0.6285664286112009 | f1/_weighted: 0.48521005322147764 | loss: 0.6597721707689893 | loss/mean: 0.6597721707689893 | loss/std: 0.026799914682088404 | lr: 0.02 | momentum: 0.9 | precision/_macro: 0.3142857142857143 | precision/_micro: 0.6285714285714286 | precision/_weighted: 0.3951020408163265 | recall/_macro: 0.5 | recall/_micro: 0.6285714285714286 | recall/_weighted: 0.6285714285714286\n"
     ]
    },
    {
     "data": {
      "application/vnd.jupyter.widget-view+json": {
       "model_id": "e66fdbbde49d4812bb4a50606c7067f5",
       "version_major": 2,
       "version_minor": 0
      },
      "text/plain": [
       "18/100 * Epoch (valid):   0%|          | 0/4 [00:00<?, ?it/s]"
      ]
     },
     "metadata": {},
     "output_type": "display_data"
    },
    {
     "name": "stdout",
     "output_type": "stream",
     "text": [
      "valid (18/100) accuracy01: 0.6228070175438597 | accuracy01/std: 0.07245393742001471 | f1/_macro: 0.3837814188604459 | f1/_micro: 0.622802017584 | f1/_weighted: 0.4780435217384502 | loss: 0.6628229503046003 | loss/mean: 0.6628229503046003 | loss/std: 0.038925754921701285 | lr: 0.02 | momentum: 0.9 | precision/_macro: 0.3114035087719298 | precision/_micro: 0.6228070175438596 | precision/_weighted: 0.3878885811018775 | recall/_macro: 0.5 | recall/_micro: 0.6228070175438596 | recall/_weighted: 0.6228070175438597\n",
      "* Epoch (18/100) \n"
     ]
    },
    {
     "data": {
      "application/vnd.jupyter.widget-view+json": {
       "model_id": "f37fd26821604aa4a5e499db03c37bf1",
       "version_major": 2,
       "version_minor": 0
      },
      "text/plain": [
       "19/100 * Epoch (train):   0%|          | 0/15 [00:00<?, ?it/s]"
      ]
     },
     "metadata": {},
     "output_type": "display_data"
    },
    {
     "name": "stdout",
     "output_type": "stream",
     "text": [
      "train (19/100) accuracy01: 0.6285714296194225 | accuracy01/std: 0.10813730044532273 | f1/_macro: 0.38596254233526633 | f1/_micro: 0.6285664286112009 | f1/_weighted: 0.48521005322147764 | loss: 0.66014766902714 | loss/mean: 0.66014766902714 | loss/std: 0.05817503043385673 | lr: 0.02 | momentum: 0.9 | precision/_macro: 0.3142857142857143 | precision/_micro: 0.6285714285714286 | precision/_weighted: 0.3951020408163265 | recall/_macro: 0.5 | recall/_micro: 0.6285714285714286 | recall/_weighted: 0.6285714285714286\n"
     ]
    },
    {
     "data": {
      "application/vnd.jupyter.widget-view+json": {
       "model_id": "64e06ed05ed14a1b9edd804f6dba9e44",
       "version_major": 2,
       "version_minor": 0
      },
      "text/plain": [
       "19/100 * Epoch (valid):   0%|          | 0/4 [00:00<?, ?it/s]"
      ]
     },
     "metadata": {},
     "output_type": "display_data"
    },
    {
     "name": "stdout",
     "output_type": "stream",
     "text": [
      "valid (19/100) accuracy01: 0.6228070175438597 | accuracy01/std: 0.07245393742001471 | f1/_macro: 0.3837814188604459 | f1/_micro: 0.622802017584 | f1/_weighted: 0.4780435217384502 | loss: 0.6628658436892326 | loss/mean: 0.6628658436892326 | loss/std: 0.03927303824095615 | lr: 0.02 | momentum: 0.9 | precision/_macro: 0.3114035087719298 | precision/_micro: 0.6228070175438596 | precision/_weighted: 0.3878885811018775 | recall/_macro: 0.5 | recall/_micro: 0.6228070175438596 | recall/_weighted: 0.6228070175438597\n",
      "* Epoch (19/100) \n"
     ]
    },
    {
     "data": {
      "application/vnd.jupyter.widget-view+json": {
       "model_id": "e85baf5411464f74bb029b9f822571e8",
       "version_major": 2,
       "version_minor": 0
      },
      "text/plain": [
       "20/100 * Epoch (train):   0%|          | 0/15 [00:00<?, ?it/s]"
      ]
     },
     "metadata": {},
     "output_type": "display_data"
    },
    {
     "name": "stdout",
     "output_type": "stream",
     "text": [
      "train (20/100) accuracy01: 0.6285714296194225 | accuracy01/std: 0.07952819007323415 | f1/_macro: 0.38596254233526633 | f1/_micro: 0.6285664286112009 | f1/_weighted: 0.48521005322147764 | loss: 0.6602703516299909 | loss/mean: 0.6602703516299909 | loss/std: 0.04567236714146799 | lr: 0.02 | momentum: 0.9 | precision/_macro: 0.3142857142857143 | precision/_micro: 0.6285714285714286 | precision/_weighted: 0.3951020408163265 | recall/_macro: 0.5 | recall/_micro: 0.6285714285714286 | recall/_weighted: 0.6285714285714286\n"
     ]
    },
    {
     "data": {
      "application/vnd.jupyter.widget-view+json": {
       "model_id": "6861156139a746629e7c1d72da7cc617",
       "version_major": 2,
       "version_minor": 0
      },
      "text/plain": [
       "20/100 * Epoch (valid):   0%|          | 0/4 [00:00<?, ?it/s]"
      ]
     },
     "metadata": {},
     "output_type": "display_data"
    },
    {
     "name": "stdout",
     "output_type": "stream",
     "text": [
      "valid (20/100) accuracy01: 0.6228070175438597 | accuracy01/std: 0.07245393742001471 | f1/_macro: 0.3837814188604459 | f1/_micro: 0.622802017584 | f1/_weighted: 0.4780435217384502 | loss: 0.6634522279103597 | loss/mean: 0.6634522279103597 | loss/std: 0.042255467479293124 | lr: 0.02 | momentum: 0.9 | precision/_macro: 0.3114035087719298 | precision/_micro: 0.6228070175438596 | precision/_weighted: 0.3878885811018775 | recall/_macro: 0.5 | recall/_micro: 0.6228070175438596 | recall/_weighted: 0.6228070175438597\n",
      "* Epoch (20/100) \n"
     ]
    },
    {
     "data": {
      "application/vnd.jupyter.widget-view+json": {
       "model_id": "bd952aab7bd249e8bd5b86faa858d904",
       "version_major": 2,
       "version_minor": 0
      },
      "text/plain": [
       "21/100 * Epoch (train):   0%|          | 0/15 [00:00<?, ?it/s]"
      ]
     },
     "metadata": {},
     "output_type": "display_data"
    },
    {
     "name": "stdout",
     "output_type": "stream",
     "text": [
      "train (21/100) accuracy01: 0.6285714289644263 | accuracy01/std: 0.07158965442586397 | f1/_macro: 0.38596254233526633 | f1/_micro: 0.6285664286112009 | f1/_weighted: 0.48521005322147764 | loss: 0.6602778690201896 | loss/mean: 0.6602778690201896 | loss/std: 0.04164054772096873 | lr: 0.02 | momentum: 0.9 | precision/_macro: 0.3142857142857143 | precision/_micro: 0.6285714285714286 | precision/_weighted: 0.3951020408163265 | recall/_macro: 0.5 | recall/_micro: 0.6285714285714286 | recall/_weighted: 0.6285714285714286\n"
     ]
    },
    {
     "data": {
      "application/vnd.jupyter.widget-view+json": {
       "model_id": "5a9b6f6193634f04b8c3cacd70c5094d",
       "version_major": 2,
       "version_minor": 0
      },
      "text/plain": [
       "21/100 * Epoch (valid):   0%|          | 0/4 [00:00<?, ?it/s]"
      ]
     },
     "metadata": {},
     "output_type": "display_data"
    },
    {
     "name": "stdout",
     "output_type": "stream",
     "text": [
      "valid (21/100) accuracy01: 0.6228070175438597 | accuracy01/std: 0.07245393742001471 | f1/_macro: 0.3837814188604459 | f1/_micro: 0.622802017584 | f1/_weighted: 0.4780435217384502 | loss: 0.6630413720482274 | loss/mean: 0.6630413720482274 | loss/std: 0.04040005675628776 | lr: 0.02 | momentum: 0.9 | precision/_macro: 0.3114035087719298 | precision/_micro: 0.6228070175438596 | precision/_weighted: 0.3878885811018775 | recall/_macro: 0.5 | recall/_micro: 0.6228070175438596 | recall/_weighted: 0.6228070175438597\n",
      "* Epoch (21/100) \n"
     ]
    },
    {
     "data": {
      "application/vnd.jupyter.widget-view+json": {
       "model_id": "888b1f5cd89b49fd9b907c20155e3de6",
       "version_major": 2,
       "version_minor": 0
      },
      "text/plain": [
       "22/100 * Epoch (train):   0%|          | 0/15 [00:00<?, ?it/s]"
      ]
     },
     "metadata": {},
     "output_type": "display_data"
    },
    {
     "name": "stdout",
     "output_type": "stream",
     "text": [
      "train (22/100) accuracy01: 0.6285714288334271 | accuracy01/std: 0.07261251364278726 | f1/_macro: 0.38596254233526633 | f1/_micro: 0.6285664286112009 | f1/_weighted: 0.48521005322147764 | loss: 0.6608939348996341 | loss/mean: 0.6608939348996341 | loss/std: 0.03672310590252872 | lr: 0.02 | momentum: 0.9 | precision/_macro: 0.3142857142857143 | precision/_micro: 0.6285714285714286 | precision/_weighted: 0.3951020408163265 | recall/_macro: 0.5 | recall/_micro: 0.6285714285714286 | recall/_weighted: 0.6285714285714286\n"
     ]
    },
    {
     "data": {
      "application/vnd.jupyter.widget-view+json": {
       "model_id": "6c3e4ab5eb664261803bd8353871ce5f",
       "version_major": 2,
       "version_minor": 0
      },
      "text/plain": [
       "22/100 * Epoch (valid):   0%|          | 0/4 [00:00<?, ?it/s]"
      ]
     },
     "metadata": {},
     "output_type": "display_data"
    },
    {
     "name": "stdout",
     "output_type": "stream",
     "text": [
      "valid (22/100) accuracy01: 0.6228070175438597 | accuracy01/std: 0.07245393742001471 | f1/_macro: 0.3837814188604459 | f1/_micro: 0.622802017584 | f1/_weighted: 0.4780435217384502 | loss: 0.6626747658378199 | loss/mean: 0.6626747658378199 | loss/std: 0.03606755256963219 | lr: 0.02 | momentum: 0.9 | precision/_macro: 0.3114035087719298 | precision/_micro: 0.6228070175438596 | precision/_weighted: 0.3878885811018775 | recall/_macro: 0.5 | recall/_micro: 0.6228070175438596 | recall/_weighted: 0.6228070175438597\n",
      "* Epoch (22/100) \n"
     ]
    },
    {
     "data": {
      "application/vnd.jupyter.widget-view+json": {
       "model_id": "5c55e214345f42dab487e9dc773e009f",
       "version_major": 2,
       "version_minor": 0
      },
      "text/plain": [
       "23/100 * Epoch (train):   0%|          | 0/15 [00:00<?, ?it/s]"
      ]
     },
     "metadata": {},
     "output_type": "display_data"
    },
    {
     "name": "stdout",
     "output_type": "stream",
     "text": [
      "train (23/100) accuracy01: 0.6285714289644262 | accuracy01/std: 0.08315483267920837 | f1/_macro: 0.38596254233526633 | f1/_micro: 0.6285664286112009 | f1/_weighted: 0.48521005322147764 | loss: 0.6598745010711334 | loss/mean: 0.6598745010711334 | loss/std: 0.043975425638943876 | lr: 0.02 | momentum: 0.9 | precision/_macro: 0.3142857142857143 | precision/_micro: 0.6285714285714286 | precision/_weighted: 0.3951020408163265 | recall/_macro: 0.5 | recall/_micro: 0.6285714285714286 | recall/_weighted: 0.6285714285714286\n"
     ]
    },
    {
     "data": {
      "application/vnd.jupyter.widget-view+json": {
       "model_id": "85284dab088b47e785b0de619d0bc100",
       "version_major": 2,
       "version_minor": 0
      },
      "text/plain": [
       "23/100 * Epoch (valid):   0%|          | 0/4 [00:00<?, ?it/s]"
      ]
     },
     "metadata": {},
     "output_type": "display_data"
    },
    {
     "name": "stdout",
     "output_type": "stream",
     "text": [
      "valid (23/100) accuracy01: 0.6228070175438597 | accuracy01/std: 0.07245393742001471 | f1/_macro: 0.3837814188604459 | f1/_micro: 0.622802017584 | f1/_weighted: 0.4780435217384502 | loss: 0.6627841319954186 | loss/mean: 0.6627841319954186 | loss/std: 0.03856262388943236 | lr: 0.02 | momentum: 0.9 | precision/_macro: 0.3114035087719298 | precision/_micro: 0.6228070175438596 | precision/_weighted: 0.3878885811018775 | recall/_macro: 0.5 | recall/_micro: 0.6228070175438596 | recall/_weighted: 0.6228070175438597\n",
      "* Epoch (23/100) \n"
     ]
    },
    {
     "data": {
      "application/vnd.jupyter.widget-view+json": {
       "model_id": "96c1dc66c7fa4fe899c938b1d3df6e3a",
       "version_major": 2,
       "version_minor": 0
      },
      "text/plain": [
       "24/100 * Epoch (train):   0%|          | 0/15 [00:00<?, ?it/s]"
      ]
     },
     "metadata": {},
     "output_type": "display_data"
    },
    {
     "name": "stdout",
     "output_type": "stream",
     "text": [
      "train (24/100) accuracy01: 0.6285714288334271 | accuracy01/std: 0.0635105530867351 | f1/_macro: 0.38596254233526633 | f1/_micro: 0.6285664286112009 | f1/_weighted: 0.48521005322147764 | loss: 0.6600758560411224 | loss/mean: 0.6600758560411224 | loss/std: 0.034865475808071165 | lr: 0.02 | momentum: 0.9 | precision/_macro: 0.3142857142857143 | precision/_micro: 0.6285714285714286 | precision/_weighted: 0.3951020408163265 | recall/_macro: 0.5 | recall/_micro: 0.6285714285714286 | recall/_weighted: 0.6285714285714286\n"
     ]
    },
    {
     "data": {
      "application/vnd.jupyter.widget-view+json": {
       "model_id": "04d41024e8f347e5aa36c234e63ec4aa",
       "version_major": 2,
       "version_minor": 0
      },
      "text/plain": [
       "24/100 * Epoch (valid):   0%|          | 0/4 [00:00<?, ?it/s]"
      ]
     },
     "metadata": {},
     "output_type": "display_data"
    },
    {
     "name": "stdout",
     "output_type": "stream",
     "text": [
      "valid (24/100) accuracy01: 0.6228070175438597 | accuracy01/std: 0.07245393742001471 | f1/_macro: 0.3837814188604459 | f1/_micro: 0.622802017584 | f1/_weighted: 0.4780435217384502 | loss: 0.6629879579209446 | loss/mean: 0.6629879579209446 | loss/std: 0.04009257306266988 | lr: 0.02 | momentum: 0.9 | precision/_macro: 0.3114035087719298 | precision/_micro: 0.6228070175438596 | precision/_weighted: 0.3878885811018775 | recall/_macro: 0.5 | recall/_micro: 0.6228070175438596 | recall/_weighted: 0.6228070175438597\n",
      "* Epoch (24/100) \n"
     ]
    },
    {
     "data": {
      "application/vnd.jupyter.widget-view+json": {
       "model_id": "212e6406dad049d2939bcb734463436e",
       "version_major": 2,
       "version_minor": 0
      },
      "text/plain": [
       "25/100 * Epoch (train):   0%|          | 0/15 [00:00<?, ?it/s]"
      ]
     },
     "metadata": {},
     "output_type": "display_data"
    },
    {
     "name": "stdout",
     "output_type": "stream",
     "text": [
      "train (25/100) accuracy01: 0.628571428669678 | accuracy01/std: 0.08415397216318513 | f1/_macro: 0.38596254233526633 | f1/_micro: 0.6285664286112009 | f1/_weighted: 0.48521005322147764 | loss: 0.659847942682413 | loss/mean: 0.659847942682413 | loss/std: 0.04615338324751729 | lr: 0.02 | momentum: 0.9 | precision/_macro: 0.3142857142857143 | precision/_micro: 0.6285714285714286 | precision/_weighted: 0.3951020408163265 | recall/_macro: 0.5 | recall/_micro: 0.6285714285714286 | recall/_weighted: 0.6285714285714286\n"
     ]
    },
    {
     "data": {
      "application/vnd.jupyter.widget-view+json": {
       "model_id": "854375f710324971932709e14b154f63",
       "version_major": 2,
       "version_minor": 0
      },
      "text/plain": [
       "25/100 * Epoch (valid):   0%|          | 0/4 [00:00<?, ?it/s]"
      ]
     },
     "metadata": {},
     "output_type": "display_data"
    },
    {
     "name": "stdout",
     "output_type": "stream",
     "text": [
      "valid (25/100) accuracy01: 0.6228070175438597 | accuracy01/std: 0.07245393742001471 | f1/_macro: 0.3837814188604459 | f1/_micro: 0.622802017584 | f1/_weighted: 0.4780435217384502 | loss: 0.6627767452022485 | loss/mean: 0.6627767452022485 | loss/std: 0.03848736168515261 | lr: 0.02 | momentum: 0.9 | precision/_macro: 0.3114035087719298 | precision/_micro: 0.6228070175438596 | precision/_weighted: 0.3878885811018775 | recall/_macro: 0.5 | recall/_micro: 0.6228070175438596 | recall/_weighted: 0.6228070175438597\n",
      "* Epoch (25/100) \n"
     ]
    },
    {
     "data": {
      "application/vnd.jupyter.widget-view+json": {
       "model_id": "c89e2ea794a94176b8f2a88bf64002f5",
       "version_major": 2,
       "version_minor": 0
      },
      "text/plain": [
       "26/100 * Epoch (train):   0%|          | 0/15 [00:00<?, ?it/s]"
      ]
     },
     "metadata": {},
     "output_type": "display_data"
    },
    {
     "name": "stdout",
     "output_type": "stream",
     "text": [
      "train (26/100) accuracy01: 0.6285714288334269 | accuracy01/std: 0.10113616699325638 | f1/_macro: 0.38596254233526633 | f1/_micro: 0.6285664286112009 | f1/_weighted: 0.48521005322147764 | loss: 0.6610526133369612 | loss/mean: 0.6610526133369612 | loss/std: 0.04708667040393836 | lr: 0.02 | momentum: 0.9 | precision/_macro: 0.3142857142857143 | precision/_micro: 0.6285714285714286 | precision/_weighted: 0.3951020408163265 | recall/_macro: 0.5 | recall/_micro: 0.6285714285714286 | recall/_weighted: 0.6285714285714286\n"
     ]
    },
    {
     "data": {
      "application/vnd.jupyter.widget-view+json": {
       "model_id": "0814ffd2467f4ca794821849ee703d8d",
       "version_major": 2,
       "version_minor": 0
      },
      "text/plain": [
       "26/100 * Epoch (valid):   0%|          | 0/4 [00:00<?, ?it/s]"
      ]
     },
     "metadata": {},
     "output_type": "display_data"
    },
    {
     "name": "stdout",
     "output_type": "stream",
     "text": [
      "valid (26/100) accuracy01: 0.6228070175438597 | accuracy01/std: 0.07245393742001471 | f1/_macro: 0.3837814188604459 | f1/_micro: 0.622802017584 | f1/_weighted: 0.4780435217384502 | loss: 0.6630142749401561 | loss/mean: 0.6630142749401561 | loss/std: 0.03243764795235179 | lr: 0.02 | momentum: 0.9 | precision/_macro: 0.3114035087719298 | precision/_micro: 0.6228070175438596 | precision/_weighted: 0.3878885811018775 | recall/_macro: 0.5 | recall/_micro: 0.6228070175438596 | recall/_weighted: 0.6228070175438597\n",
      "* Epoch (26/100) \n"
     ]
    },
    {
     "data": {
      "application/vnd.jupyter.widget-view+json": {
       "model_id": "bb483bab4f9d45c3b736242ef2feae51",
       "version_major": 2,
       "version_minor": 0
      },
      "text/plain": [
       "27/100 * Epoch (train):   0%|          | 0/15 [00:00<?, ?it/s]"
      ]
     },
     "metadata": {},
     "output_type": "display_data"
    },
    {
     "name": "stdout",
     "output_type": "stream",
     "text": [
      "train (27/100) accuracy01: 0.6285714296194224 | accuracy01/std: 0.06734304299058626 | f1/_macro: 0.38596254233526633 | f1/_micro: 0.6285664286112009 | f1/_weighted: 0.48521005322147764 | loss: 0.6601024153468373 | loss/mean: 0.6601024153468373 | loss/std: 0.03222783958996435 | lr: 0.02 | momentum: 0.9 | precision/_macro: 0.3142857142857143 | precision/_micro: 0.6285714285714286 | precision/_weighted: 0.3951020408163265 | recall/_macro: 0.5 | recall/_micro: 0.6285714285714286 | recall/_weighted: 0.6285714285714286\n"
     ]
    },
    {
     "data": {
      "application/vnd.jupyter.widget-view+json": {
       "model_id": "d50237d623af4d6f8a818594a698a9f5",
       "version_major": 2,
       "version_minor": 0
      },
      "text/plain": [
       "27/100 * Epoch (valid):   0%|          | 0/4 [00:00<?, ?it/s]"
      ]
     },
     "metadata": {},
     "output_type": "display_data"
    },
    {
     "name": "stdout",
     "output_type": "stream",
     "text": [
      "valid (27/100) accuracy01: 0.6228070175438597 | accuracy01/std: 0.07245393742001471 | f1/_macro: 0.3837814188604459 | f1/_micro: 0.622802017584 | f1/_weighted: 0.4780435217384502 | loss: 0.6627139396834792 | loss/mean: 0.6627139396834792 | loss/std: 0.037683067770488264 | lr: 0.02 | momentum: 0.9 | precision/_macro: 0.3114035087719298 | precision/_micro: 0.6228070175438596 | precision/_weighted: 0.3878885811018775 | recall/_macro: 0.5 | recall/_micro: 0.6228070175438596 | recall/_weighted: 0.6228070175438597\n",
      "* Epoch (27/100) \n"
     ]
    },
    {
     "data": {
      "application/vnd.jupyter.widget-view+json": {
       "model_id": "19a7a8b2b32946dfb14fcba595429f48",
       "version_major": 2,
       "version_minor": 0
      },
      "text/plain": [
       "28/100 * Epoch (train):   0%|          | 0/15 [00:00<?, ?it/s]"
      ]
     },
     "metadata": {},
     "output_type": "display_data"
    },
    {
     "name": "stdout",
     "output_type": "stream",
     "text": [
      "train (28/100) accuracy01: 0.6285714290954256 | accuracy01/std: 0.0867998814799315 | f1/_macro: 0.38596254233526633 | f1/_micro: 0.6285664286112009 | f1/_weighted: 0.48521005322147764 | loss: 0.6601753055394352 | loss/mean: 0.6601753055394352 | loss/std: 0.04922569994344272 | lr: 0.02 | momentum: 0.9 | precision/_macro: 0.3142857142857143 | precision/_micro: 0.6285714285714286 | precision/_weighted: 0.3951020408163265 | recall/_macro: 0.5 | recall/_micro: 0.6285714285714286 | recall/_weighted: 0.6285714285714286\n"
     ]
    },
    {
     "data": {
      "application/vnd.jupyter.widget-view+json": {
       "model_id": "746b73a411d34cefb4727c2225ca69ff",
       "version_major": 2,
       "version_minor": 0
      },
      "text/plain": [
       "28/100 * Epoch (valid):   0%|          | 0/4 [00:00<?, ?it/s]"
      ]
     },
     "metadata": {},
     "output_type": "display_data"
    },
    {
     "name": "stdout",
     "output_type": "stream",
     "text": [
      "valid (28/100) accuracy01: 0.6228070175438597 | accuracy01/std: 0.07245393742001471 | f1/_macro: 0.3837814188604459 | f1/_micro: 0.622802017584 | f1/_weighted: 0.4780435217384502 | loss: 0.6632766765460634 | loss/mean: 0.6632766765460634 | loss/std: 0.04154344306754827 | lr: 0.02 | momentum: 0.9 | precision/_macro: 0.3114035087719298 | precision/_micro: 0.6228070175438596 | precision/_weighted: 0.3878885811018775 | recall/_macro: 0.5 | recall/_micro: 0.6228070175438596 | recall/_weighted: 0.6228070175438597\n",
      "* Epoch (28/100) \n"
     ]
    },
    {
     "data": {
      "application/vnd.jupyter.widget-view+json": {
       "model_id": "c51fb61b31da400f91c200047c97693e",
       "version_major": 2,
       "version_minor": 0
      },
      "text/plain": [
       "29/100 * Epoch (train):   0%|          | 0/15 [00:00<?, ?it/s]"
      ]
     },
     "metadata": {},
     "output_type": "display_data"
    },
    {
     "name": "stdout",
     "output_type": "stream",
     "text": [
      "train (29/100) accuracy01: 0.6285714289644262 | accuracy01/std: 0.08315483267920834 | f1/_macro: 0.38596254233526633 | f1/_micro: 0.6285664286112009 | f1/_weighted: 0.48521005322147764 | loss: 0.6598503821498746 | loss/mean: 0.6598503821498746 | loss/std: 0.047267338921775204 | lr: 0.02 | momentum: 0.9 | precision/_macro: 0.3142857142857143 | precision/_micro: 0.6285714285714286 | precision/_weighted: 0.3951020408163265 | recall/_macro: 0.5 | recall/_micro: 0.6285714285714286 | recall/_weighted: 0.6285714285714286\n"
     ]
    },
    {
     "data": {
      "application/vnd.jupyter.widget-view+json": {
       "model_id": "a0faecc268f948e694042f6fe51c9cc3",
       "version_major": 2,
       "version_minor": 0
      },
      "text/plain": [
       "29/100 * Epoch (valid):   0%|          | 0/4 [00:00<?, ?it/s]"
      ]
     },
     "metadata": {},
     "output_type": "display_data"
    },
    {
     "name": "stdout",
     "output_type": "stream",
     "text": [
      "valid (29/100) accuracy01: 0.6228070175438597 | accuracy01/std: 0.07245393742001471 | f1/_macro: 0.3837814188604459 | f1/_micro: 0.622802017584 | f1/_weighted: 0.4780435217384502 | loss: 0.6628021116842303 | loss/mean: 0.6628021116842303 | loss/std: 0.03873860004694914 | lr: 0.02 | momentum: 0.9 | precision/_macro: 0.3114035087719298 | precision/_micro: 0.6228070175438596 | precision/_weighted: 0.3878885811018775 | recall/_macro: 0.5 | recall/_micro: 0.6228070175438596 | recall/_weighted: 0.6228070175438597\n",
      "* Epoch (29/100) \n"
     ]
    },
    {
     "data": {
      "application/vnd.jupyter.widget-view+json": {
       "model_id": "9b18239201b6418181ab7f7001fb6290",
       "version_major": 2,
       "version_minor": 0
      },
      "text/plain": [
       "30/100 * Epoch (train):   0%|          | 0/15 [00:00<?, ?it/s]"
      ]
     },
     "metadata": {},
     "output_type": "display_data"
    },
    {
     "name": "stdout",
     "output_type": "stream",
     "text": [
      "train (30/100) accuracy01: 0.6285714288334271 | accuracy01/std: 0.08485216504517937 | f1/_macro: 0.38596254233526633 | f1/_micro: 0.6285664286112009 | f1/_weighted: 0.48521005322147764 | loss: 0.660799495597462 | loss/mean: 0.660799495597462 | loss/std: 0.040994617637702596 | lr: 0.02 | momentum: 0.9 | precision/_macro: 0.3142857142857143 | precision/_micro: 0.6285714285714286 | precision/_weighted: 0.3951020408163265 | recall/_macro: 0.5 | recall/_micro: 0.6285714285714286 | recall/_weighted: 0.6285714285714286\n"
     ]
    },
    {
     "data": {
      "application/vnd.jupyter.widget-view+json": {
       "model_id": "8b94feea9dc14cc38bbb917914cb1119",
       "version_major": 2,
       "version_minor": 0
      },
      "text/plain": [
       "30/100 * Epoch (valid):   0%|          | 0/4 [00:00<?, ?it/s]"
      ]
     },
     "metadata": {},
     "output_type": "display_data"
    },
    {
     "name": "stdout",
     "output_type": "stream",
     "text": [
      "valid (30/100) accuracy01: 0.6228070175438597 | accuracy01/std: 0.07245393742001471 | f1/_macro: 0.3837814188604459 | f1/_micro: 0.622802017584 | f1/_weighted: 0.4780435217384502 | loss: 0.6628511443472744 | loss/mean: 0.6628511443472744 | loss/std: 0.03351844077835882 | lr: 0.02 | momentum: 0.9 | precision/_macro: 0.3114035087719298 | precision/_micro: 0.6228070175438596 | precision/_weighted: 0.3878885811018775 | recall/_macro: 0.5 | recall/_micro: 0.6228070175438596 | recall/_weighted: 0.6228070175438597\n",
      "* Epoch (30/100) \n"
     ]
    },
    {
     "data": {
      "application/vnd.jupyter.widget-view+json": {
       "model_id": "42ba3512286946fa850d05bd88093007",
       "version_major": 2,
       "version_minor": 0
      },
      "text/plain": [
       "31/100 * Epoch (train):   0%|          | 0/15 [00:00<?, ?it/s]"
      ]
     },
     "metadata": {},
     "output_type": "display_data"
    },
    {
     "name": "stdout",
     "output_type": "stream",
     "text": [
      "train (31/100) accuracy01: 0.628571428833427 | accuracy01/std: 0.1038228542616672 | f1/_macro: 0.38596254233526633 | f1/_micro: 0.6285664286112009 | f1/_weighted: 0.48521005322147764 | loss: 0.6601894382592086 | loss/mean: 0.6601894382592086 | loss/std: 0.05296502357709032 | lr: 0.02 | momentum: 0.9 | precision/_macro: 0.3142857142857143 | precision/_micro: 0.6285714285714286 | precision/_weighted: 0.3951020408163265 | recall/_macro: 0.5 | recall/_micro: 0.6285714285714286 | recall/_weighted: 0.6285714285714286\n"
     ]
    },
    {
     "data": {
      "application/vnd.jupyter.widget-view+json": {
       "model_id": "6adf7886e405441aa4e052ade068a5ab",
       "version_major": 2,
       "version_minor": 0
      },
      "text/plain": [
       "31/100 * Epoch (valid):   0%|          | 0/4 [00:00<?, ?it/s]"
      ]
     },
     "metadata": {},
     "output_type": "display_data"
    },
    {
     "name": "stdout",
     "output_type": "stream",
     "text": [
      "valid (31/100) accuracy01: 0.6228070175438597 | accuracy01/std: 0.07245393742001471 | f1/_macro: 0.3837814188604459 | f1/_micro: 0.622802017584 | f1/_weighted: 0.4780435217384502 | loss: 0.6628204008989167 | loss/mean: 0.6628204008989167 | loss/std: 0.03890344998089247 | lr: 0.02 | momentum: 0.9 | precision/_macro: 0.3114035087719298 | precision/_micro: 0.6228070175438596 | precision/_weighted: 0.3878885811018775 | recall/_macro: 0.5 | recall/_micro: 0.6228070175438596 | recall/_weighted: 0.6228070175438597\n",
      "* Epoch (31/100) \n"
     ]
    },
    {
     "data": {
      "application/vnd.jupyter.widget-view+json": {
       "model_id": "5cfd47225c9f46af8f401193c9dd5142",
       "version_major": 2,
       "version_minor": 0
      },
      "text/plain": [
       "32/100 * Epoch (train):   0%|          | 0/15 [00:00<?, ?it/s]"
      ]
     },
     "metadata": {},
     "output_type": "display_data"
    },
    {
     "name": "stdout",
     "output_type": "stream",
     "text": [
      "train (32/100) accuracy01: 0.6285714296194224 | accuracy01/std: 0.08124077432422849 | f1/_macro: 0.38596254233526633 | f1/_micro: 0.6285664286112009 | f1/_weighted: 0.48521005322147764 | loss: 0.6608322946579902 | loss/mean: 0.6608322946579902 | loss/std: 0.04712386943571507 | lr: 0.02 | momentum: 0.9 | precision/_macro: 0.3142857142857143 | precision/_micro: 0.6285714285714286 | precision/_weighted: 0.3951020408163265 | recall/_macro: 0.5 | recall/_micro: 0.6285714285714286 | recall/_weighted: 0.6285714285714286\n"
     ]
    },
    {
     "data": {
      "application/vnd.jupyter.widget-view+json": {
       "model_id": "9fc3b4a3a4f14180b96d75bfa1d3f12c",
       "version_major": 2,
       "version_minor": 0
      },
      "text/plain": [
       "32/100 * Epoch (valid):   0%|          | 0/4 [00:00<?, ?it/s]"
      ]
     },
     "metadata": {},
     "output_type": "display_data"
    },
    {
     "name": "stdout",
     "output_type": "stream",
     "text": [
      "valid (32/100) accuracy01: 0.6228070175438597 | accuracy01/std: 0.07245393742001471 | f1/_macro: 0.3837814188604459 | f1/_micro: 0.622802017584 | f1/_weighted: 0.4780435217384502 | loss: 0.6633467329175848 | loss/mean: 0.6633467329175848 | loss/std: 0.041838411819128674 | lr: 0.02 | momentum: 0.9 | precision/_macro: 0.3114035087719298 | precision/_micro: 0.6228070175438596 | precision/_weighted: 0.3878885811018775 | recall/_macro: 0.5 | recall/_micro: 0.6228070175438596 | recall/_weighted: 0.6228070175438597\n",
      "* Epoch (32/100) \n"
     ]
    },
    {
     "data": {
      "application/vnd.jupyter.widget-view+json": {
       "model_id": "17af02c9cb2a42bf8cc6530f7abd365e",
       "version_major": 2,
       "version_minor": 0
      },
      "text/plain": [
       "33/100 * Epoch (train):   0%|          | 0/15 [00:00<?, ?it/s]"
      ]
     },
     "metadata": {},
     "output_type": "display_data"
    },
    {
     "name": "stdout",
     "output_type": "stream",
     "text": [
      "train (33/100) accuracy01: 0.6285714290954255 | accuracy01/std: 0.09143418733907722 | f1/_macro: 0.38596254233526633 | f1/_micro: 0.6285664286112009 | f1/_weighted: 0.48521005322147764 | loss: 0.6601458142091939 | loss/mean: 0.6601458142091939 | loss/std: 0.052380694423963946 | lr: 0.02 | momentum: 0.9 | precision/_macro: 0.3142857142857143 | precision/_micro: 0.6285714285714286 | precision/_weighted: 0.3951020408163265 | recall/_macro: 0.5 | recall/_micro: 0.6285714285714286 | recall/_weighted: 0.6285714285714286\n"
     ]
    },
    {
     "data": {
      "application/vnd.jupyter.widget-view+json": {
       "model_id": "47b07c61a08545dba759357949d2ea5d",
       "version_major": 2,
       "version_minor": 0
      },
      "text/plain": [
       "33/100 * Epoch (valid):   0%|          | 0/4 [00:00<?, ?it/s]"
      ]
     },
     "metadata": {},
     "output_type": "display_data"
    },
    {
     "name": "stdout",
     "output_type": "stream",
     "text": [
      "valid (33/100) accuracy01: 0.6228070175438597 | accuracy01/std: 0.07245393742001471 | f1/_macro: 0.3837814188604459 | f1/_micro: 0.622802017584 | f1/_weighted: 0.4780435217384502 | loss: 0.6629472019379599 | loss/mean: 0.6629472019379599 | loss/std: 0.03984068893977486 | lr: 0.02 | momentum: 0.9 | precision/_macro: 0.3114035087719298 | precision/_micro: 0.6228070175438596 | precision/_weighted: 0.3878885811018775 | recall/_macro: 0.5 | recall/_micro: 0.6228070175438596 | recall/_weighted: 0.6228070175438597\n",
      "* Epoch (33/100) \n"
     ]
    },
    {
     "data": {
      "application/vnd.jupyter.widget-view+json": {
       "model_id": "89f1e2823adc4a7b829907e8a74978a3",
       "version_major": 2,
       "version_minor": 0
      },
      "text/plain": [
       "34/100 * Epoch (train):   0%|          | 0/15 [00:00<?, ?it/s]"
      ]
     },
     "metadata": {},
     "output_type": "display_data"
    },
    {
     "name": "stdout",
     "output_type": "stream",
     "text": [
      "train (34/100) accuracy01: 0.6285714289644262 | accuracy01/std: 0.09029791239031004 | f1/_macro: 0.38596254233526633 | f1/_micro: 0.6285664286112009 | f1/_weighted: 0.48521005322147764 | loss: 0.6603814439459162 | loss/mean: 0.6603814439459162 | loss/std: 0.04367421578304787 | lr: 0.02 | momentum: 0.9 | precision/_macro: 0.3142857142857143 | precision/_micro: 0.6285714285714286 | precision/_weighted: 0.3951020408163265 | recall/_macro: 0.5 | recall/_micro: 0.6285714285714286 | recall/_weighted: 0.6285714285714286\n"
     ]
    },
    {
     "data": {
      "application/vnd.jupyter.widget-view+json": {
       "model_id": "e2764eb086c74116874f7798e0a40ed1",
       "version_major": 2,
       "version_minor": 0
      },
      "text/plain": [
       "34/100 * Epoch (valid):   0%|          | 0/4 [00:00<?, ?it/s]"
      ]
     },
     "metadata": {},
     "output_type": "display_data"
    },
    {
     "name": "stdout",
     "output_type": "stream",
     "text": [
      "valid (34/100) accuracy01: 0.6228070175438597 | accuracy01/std: 0.07245393742001471 | f1/_macro: 0.3837814188604459 | f1/_micro: 0.622802017584 | f1/_weighted: 0.4780435217384502 | loss: 0.6627216610992164 | loss/mean: 0.6627216610992164 | loss/std: 0.03486554926163036 | lr: 0.02 | momentum: 0.9 | precision/_macro: 0.3114035087719298 | precision/_micro: 0.6228070175438596 | precision/_weighted: 0.3878885811018775 | recall/_macro: 0.5 | recall/_micro: 0.6228070175438596 | recall/_weighted: 0.6228070175438597\n",
      "* Epoch (34/100) \n"
     ]
    },
    {
     "data": {
      "application/vnd.jupyter.widget-view+json": {
       "model_id": "079961225f0a46fe8edf2445ed740d48",
       "version_major": 2,
       "version_minor": 0
      },
      "text/plain": [
       "35/100 * Epoch (train):   0%|          | 0/15 [00:00<?, ?it/s]"
      ]
     },
     "metadata": {},
     "output_type": "display_data"
    },
    {
     "name": "stdout",
     "output_type": "stream",
     "text": [
      "train (35/100) accuracy01: 0.6285714287679275 | accuracy01/std: 0.08196378187327603 | f1/_macro: 0.38596254233526633 | f1/_micro: 0.6285664286112009 | f1/_weighted: 0.48521005322147764 | loss: 0.6604870268276759 | loss/mean: 0.6604870268276759 | loss/std: 0.041354677911908756 | lr: 0.02 | momentum: 0.9 | precision/_macro: 0.3142857142857143 | precision/_micro: 0.6285714285714286 | precision/_weighted: 0.3951020408163265 | recall/_macro: 0.5 | recall/_micro: 0.6285714285714286 | recall/_weighted: 0.6285714285714286\n"
     ]
    },
    {
     "data": {
      "application/vnd.jupyter.widget-view+json": {
       "model_id": "0e0e21108bdd4b80a84bf8eb9ddb0594",
       "version_major": 2,
       "version_minor": 0
      },
      "text/plain": [
       "35/100 * Epoch (valid):   0%|          | 0/4 [00:00<?, ?it/s]"
      ]
     },
     "metadata": {},
     "output_type": "display_data"
    },
    {
     "name": "stdout",
     "output_type": "stream",
     "text": [
      "valid (35/100) accuracy01: 0.6228070175438597 | accuracy01/std: 0.07245393742001471 | f1/_macro: 0.3837814188604459 | f1/_micro: 0.622802017584 | f1/_weighted: 0.4780435217384502 | loss: 0.6627290510294731 | loss/mean: 0.6627290510294731 | loss/std: 0.03791313012388161 | lr: 0.02 | momentum: 0.9 | precision/_macro: 0.3114035087719298 | precision/_micro: 0.6228070175438596 | precision/_weighted: 0.3878885811018775 | recall/_macro: 0.5 | recall/_micro: 0.6228070175438596 | recall/_weighted: 0.6228070175438597\n",
      "* Epoch (35/100) \n"
     ]
    },
    {
     "data": {
      "application/vnd.jupyter.widget-view+json": {
       "model_id": "bad98016fe764cb4ae7ac2dedeb202d4",
       "version_major": 2,
       "version_minor": 0
      },
      "text/plain": [
       "36/100 * Epoch (train):   0%|          | 0/15 [00:00<?, ?it/s]"
      ]
     },
     "metadata": {},
     "output_type": "display_data"
    },
    {
     "name": "stdout",
     "output_type": "stream",
     "text": [
      "train (36/100) accuracy01: 0.6285714288334271 | accuracy01/std: 0.0780933308737134 | f1/_macro: 0.38596254233526633 | f1/_micro: 0.6285664286112009 | f1/_weighted: 0.48521005322147764 | loss: 0.6603304996595277 | loss/mean: 0.6603304996595277 | loss/std: 0.03633508857613005 | lr: 0.02 | momentum: 0.9 | precision/_macro: 0.3142857142857143 | precision/_micro: 0.6285714285714286 | precision/_weighted: 0.3951020408163265 | recall/_macro: 0.5 | recall/_micro: 0.6285714285714286 | recall/_weighted: 0.6285714285714286\n"
     ]
    },
    {
     "data": {
      "application/vnd.jupyter.widget-view+json": {
       "model_id": "480ffc06909748578deda8dc6bd8bd8a",
       "version_major": 2,
       "version_minor": 0
      },
      "text/plain": [
       "36/100 * Epoch (valid):   0%|          | 0/4 [00:00<?, ?it/s]"
      ]
     },
     "metadata": {},
     "output_type": "display_data"
    },
    {
     "name": "stdout",
     "output_type": "stream",
     "text": [
      "valid (36/100) accuracy01: 0.6228070175438597 | accuracy01/std: 0.07245393742001471 | f1/_macro: 0.3837814188604459 | f1/_micro: 0.622802017584 | f1/_weighted: 0.4780435217384502 | loss: 0.6628552413823311 | loss/mean: 0.6628552413823311 | loss/std: 0.0334855805300784 | lr: 0.02 | momentum: 0.9 | precision/_macro: 0.3114035087719298 | precision/_micro: 0.6228070175438596 | precision/_weighted: 0.3878885811018775 | recall/_macro: 0.5 | recall/_micro: 0.6228070175438596 | recall/_weighted: 0.6228070175438597\n",
      "* Epoch (36/100) \n"
     ]
    },
    {
     "data": {
      "application/vnd.jupyter.widget-view+json": {
       "model_id": "c5fa3f19162349e3b48d39307f98ea8d",
       "version_major": 2,
       "version_minor": 0
      },
      "text/plain": [
       "37/100 * Epoch (train):   0%|          | 0/15 [00:00<?, ?it/s]"
      ]
     },
     "metadata": {},
     "output_type": "display_data"
    },
    {
     "name": "stdout",
     "output_type": "stream",
     "text": [
      "train (37/100) accuracy01: 0.6285714296194224 | accuracy01/std: 0.0803890428762673 | f1/_macro: 0.38596254233526633 | f1/_micro: 0.6285664286112009 | f1/_weighted: 0.48521005322147764 | loss: 0.6605435317689247 | loss/mean: 0.6605435317689247 | loss/std: 0.03969178172813155 | lr: 0.02 | momentum: 0.9 | precision/_macro: 0.3142857142857143 | precision/_micro: 0.6285714285714286 | precision/_weighted: 0.3951020408163265 | recall/_macro: 0.5 | recall/_micro: 0.6285714285714286 | recall/_weighted: 0.6285714285714286\n"
     ]
    },
    {
     "data": {
      "application/vnd.jupyter.widget-view+json": {
       "model_id": "99370ddb06054450ad4cb5ab8eacb7c2",
       "version_major": 2,
       "version_minor": 0
      },
      "text/plain": [
       "37/100 * Epoch (valid):   0%|          | 0/4 [00:00<?, ?it/s]"
      ]
     },
     "metadata": {},
     "output_type": "display_data"
    },
    {
     "name": "stdout",
     "output_type": "stream",
     "text": [
      "valid (37/100) accuracy01: 0.6228070175438597 | accuracy01/std: 0.07245393742001471 | f1/_macro: 0.3837814188604459 | f1/_micro: 0.622802017584 | f1/_weighted: 0.4780435217384502 | loss: 0.6627026942738315 | loss/mean: 0.6627026942738315 | loss/std: 0.037482038866706396 | lr: 0.02 | momentum: 0.9 | precision/_macro: 0.3114035087719298 | precision/_micro: 0.6228070175438596 | precision/_weighted: 0.3878885811018775 | recall/_macro: 0.5 | recall/_micro: 0.6228070175438596 | recall/_weighted: 0.6228070175438597\n",
      "* Epoch (37/100) \n"
     ]
    },
    {
     "data": {
      "application/vnd.jupyter.widget-view+json": {
       "model_id": "04d25b3266fd4365b8964d1b5415d9c7",
       "version_major": 2,
       "version_minor": 0
      },
      "text/plain": [
       "38/100 * Epoch (train):   0%|          | 0/15 [00:00<?, ?it/s]"
      ]
     },
     "metadata": {},
     "output_type": "display_data"
    },
    {
     "name": "stdout",
     "output_type": "stream",
     "text": [
      "train (38/100) accuracy01: 0.6285714289644262 | accuracy01/std: 0.05775319076658981 | f1/_macro: 0.38596254233526633 | f1/_micro: 0.6285664286112009 | f1/_weighted: 0.48521005322147764 | loss: 0.6606071692246657 | loss/mean: 0.6606071692246657 | loss/std: 0.033197194671781255 | lr: 0.02 | momentum: 0.9 | precision/_macro: 0.3142857142857143 | precision/_micro: 0.6285714285714286 | precision/_weighted: 0.3951020408163265 | recall/_macro: 0.5 | recall/_micro: 0.6285714285714286 | recall/_weighted: 0.6285714285714286\n"
     ]
    },
    {
     "data": {
      "application/vnd.jupyter.widget-view+json": {
       "model_id": "438b21009e17423789114cf9229ec00d",
       "version_major": 2,
       "version_minor": 0
      },
      "text/plain": [
       "38/100 * Epoch (valid):   0%|          | 0/4 [00:00<?, ?it/s]"
      ]
     },
     "metadata": {},
     "output_type": "display_data"
    },
    {
     "name": "stdout",
     "output_type": "stream",
     "text": [
      "valid (38/100) accuracy01: 0.6228070175438597 | accuracy01/std: 0.07245393742001471 | f1/_macro: 0.3837814188604459 | f1/_micro: 0.622802017584 | f1/_weighted: 0.4780435217384502 | loss: 0.6634949037903234 | loss/mean: 0.6634949037903234 | loss/std: 0.042415475865353346 | lr: 0.02 | momentum: 0.9 | precision/_macro: 0.3114035087719298 | precision/_micro: 0.6228070175438596 | precision/_weighted: 0.3878885811018775 | recall/_macro: 0.5 | recall/_micro: 0.6228070175438596 | recall/_weighted: 0.6228070175438597\n",
      "* Epoch (38/100) \n"
     ]
    },
    {
     "data": {
      "application/vnd.jupyter.widget-view+json": {
       "model_id": "97ed068673c949ca8d52d6daa783aecb",
       "version_major": 2,
       "version_minor": 0
      },
      "text/plain": [
       "39/100 * Epoch (train):   0%|          | 0/15 [00:00<?, ?it/s]"
      ]
     },
     "metadata": {},
     "output_type": "display_data"
    },
    {
     "name": "stdout",
     "output_type": "stream",
     "text": [
      "train (39/100) accuracy01: 0.628571428833427 | accuracy01/std: 0.07355434953666472 | f1/_macro: 0.38596254233526633 | f1/_micro: 0.6285664286112009 | f1/_weighted: 0.48521005322147764 | loss: 0.661506317605029 | loss/mean: 0.661506317605029 | loss/std: 0.039164196988958226 | lr: 0.02 | momentum: 0.9 | precision/_macro: 0.3142857142857143 | precision/_micro: 0.6285714285714286 | precision/_weighted: 0.3951020408163265 | recall/_macro: 0.5 | recall/_micro: 0.6285714285714286 | recall/_weighted: 0.6285714285714286\n"
     ]
    },
    {
     "data": {
      "application/vnd.jupyter.widget-view+json": {
       "model_id": "a560d534857b4f4286a8a2b216dd9fdc",
       "version_major": 2,
       "version_minor": 0
      },
      "text/plain": [
       "39/100 * Epoch (valid):   0%|          | 0/4 [00:00<?, ?it/s]"
      ]
     },
     "metadata": {},
     "output_type": "display_data"
    },
    {
     "name": "stdout",
     "output_type": "stream",
     "text": [
      "valid (39/100) accuracy01: 0.6228070175438597 | accuracy01/std: 0.07245393742001471 | f1/_macro: 0.3837814188604459 | f1/_micro: 0.622802017584 | f1/_weighted: 0.4780435217384502 | loss: 0.662682038650178 | loss/mean: 0.662682038650178 | loss/std: 0.036964132591068656 | lr: 0.02 | momentum: 0.9 | precision/_macro: 0.3114035087719298 | precision/_micro: 0.6228070175438596 | precision/_weighted: 0.3878885811018775 | recall/_macro: 0.5 | recall/_micro: 0.6228070175438596 | recall/_weighted: 0.6228070175438597\n",
      "* Epoch (39/100) \n"
     ]
    },
    {
     "data": {
      "application/vnd.jupyter.widget-view+json": {
       "model_id": "c5a7ec5a01714c3aa3c2b2d37259f070",
       "version_major": 2,
       "version_minor": 0
      },
      "text/plain": [
       "40/100 * Epoch (train):   0%|          | 0/15 [00:00<?, ?it/s]"
      ]
     },
     "metadata": {},
     "output_type": "display_data"
    },
    {
     "name": "stdout",
     "output_type": "stream",
     "text": [
      "train (40/100) accuracy01: 0.6285714289644262 | accuracy01/std: 0.07348747524095789 | f1/_macro: 0.38596254233526633 | f1/_micro: 0.6285664286112009 | f1/_weighted: 0.48521005322147764 | loss: 0.6597211743449117 | loss/mean: 0.6597211743449117 | loss/std: 0.03812896172662529 | lr: 0.02 | momentum: 0.9 | precision/_macro: 0.3142857142857143 | precision/_micro: 0.6285714285714286 | precision/_weighted: 0.3951020408163265 | recall/_macro: 0.5 | recall/_micro: 0.6285714285714286 | recall/_weighted: 0.6285714285714286\n"
     ]
    },
    {
     "data": {
      "application/vnd.jupyter.widget-view+json": {
       "model_id": "5dd5ee02e6d147509af4968dd3dc7f2a",
       "version_major": 2,
       "version_minor": 0
      },
      "text/plain": [
       "40/100 * Epoch (valid):   0%|          | 0/4 [00:00<?, ?it/s]"
      ]
     },
     "metadata": {},
     "output_type": "display_data"
    },
    {
     "name": "stdout",
     "output_type": "stream",
     "text": [
      "valid (40/100) accuracy01: 0.6228070175438597 | accuracy01/std: 0.07245393742001471 | f1/_macro: 0.3837814188604459 | f1/_micro: 0.622802017584 | f1/_weighted: 0.4780435217384502 | loss: 0.6627901918009708 | loss/mean: 0.6627901918009708 | loss/std: 0.038623561079228166 | lr: 0.02 | momentum: 0.9 | precision/_macro: 0.3114035087719298 | precision/_micro: 0.6228070175438596 | precision/_weighted: 0.3878885811018775 | recall/_macro: 0.5 | recall/_micro: 0.6228070175438596 | recall/_weighted: 0.6228070175438597\n",
      "* Epoch (40/100) \n"
     ]
    },
    {
     "data": {
      "application/vnd.jupyter.widget-view+json": {
       "model_id": "7253698c1cbe498c9256850f3c8e9b0b",
       "version_major": 2,
       "version_minor": 0
      },
      "text/plain": [
       "41/100 * Epoch (train):   0%|          | 0/15 [00:00<?, ?it/s]"
      ]
     },
     "metadata": {},
     "output_type": "display_data"
    },
    {
     "name": "stdout",
     "output_type": "stream",
     "text": [
      "train (41/100) accuracy01: 0.6285714290954254 | accuracy01/std: 0.07110728413213527 | f1/_macro: 0.38596254233526633 | f1/_micro: 0.6285664286112009 | f1/_weighted: 0.48521005322147764 | loss: 0.6599148950733981 | loss/mean: 0.6599148950733981 | loss/std: 0.03874939094077024 | lr: 0.02 | momentum: 0.9 | precision/_macro: 0.3142857142857143 | precision/_micro: 0.6285714285714286 | precision/_weighted: 0.3951020408163265 | recall/_macro: 0.5 | recall/_micro: 0.6285714285714286 | recall/_weighted: 0.6285714285714286\n"
     ]
    },
    {
     "data": {
      "application/vnd.jupyter.widget-view+json": {
       "model_id": "2cd8b470db3c48f3a68b6cc89c823d86",
       "version_major": 2,
       "version_minor": 0
      },
      "text/plain": [
       "41/100 * Epoch (valid):   0%|          | 0/4 [00:00<?, ?it/s]"
      ]
     },
     "metadata": {},
     "output_type": "display_data"
    },
    {
     "name": "stdout",
     "output_type": "stream",
     "text": [
      "valid (41/100) accuracy01: 0.6228070175438597 | accuracy01/std: 0.07245393742001471 | f1/_macro: 0.3837814188604459 | f1/_micro: 0.622802017584 | f1/_weighted: 0.4780435217384502 | loss: 0.6628281976047316 | loss/mean: 0.6628281976047316 | loss/std: 0.03897084439848671 | lr: 0.02 | momentum: 0.9 | precision/_macro: 0.3114035087719298 | precision/_micro: 0.6228070175438596 | precision/_weighted: 0.3878885811018775 | recall/_macro: 0.5 | recall/_micro: 0.6228070175438596 | recall/_weighted: 0.6228070175438597\n",
      "* Epoch (41/100) \n"
     ]
    },
    {
     "data": {
      "application/vnd.jupyter.widget-view+json": {
       "model_id": "db3926d03b18429fb9bab1f6c2155a5c",
       "version_major": 2,
       "version_minor": 0
      },
      "text/plain": [
       "42/100 * Epoch (train):   0%|          | 0/15 [00:00<?, ?it/s]"
      ]
     },
     "metadata": {},
     "output_type": "display_data"
    },
    {
     "name": "stdout",
     "output_type": "stream",
     "text": [
      "train (42/100) accuracy01: 0.6285714290954256 | accuracy01/std: 0.0720687939047554 | f1/_macro: 0.38596254233526633 | f1/_micro: 0.6285664286112009 | f1/_weighted: 0.48521005322147764 | loss: 0.6599155057917585 | loss/mean: 0.6599155057917585 | loss/std: 0.0380017057456849 | lr: 0.02 | momentum: 0.9 | precision/_macro: 0.3142857142857143 | precision/_micro: 0.6285714285714286 | precision/_weighted: 0.3951020408163265 | recall/_macro: 0.5 | recall/_micro: 0.6285714285714286 | recall/_weighted: 0.6285714285714286\n"
     ]
    },
    {
     "data": {
      "application/vnd.jupyter.widget-view+json": {
       "model_id": "b5dd90e907704db0b4e0a01b1ff893a9",
       "version_major": 2,
       "version_minor": 0
      },
      "text/plain": [
       "42/100 * Epoch (valid):   0%|          | 0/4 [00:00<?, ?it/s]"
      ]
     },
     "metadata": {},
     "output_type": "display_data"
    },
    {
     "name": "stdout",
     "output_type": "stream",
     "text": [
      "valid (42/100) accuracy01: 0.6228070175438597 | accuracy01/std: 0.07245393742001471 | f1/_macro: 0.3837814188604459 | f1/_micro: 0.622802017584 | f1/_weighted: 0.4780435217384502 | loss: 0.6626922885576884 | loss/mean: 0.6626922885576884 | loss/std: 0.037259484252406536 | lr: 0.02 | momentum: 0.9 | precision/_macro: 0.3114035087719298 | precision/_micro: 0.6228070175438596 | precision/_weighted: 0.3878885811018775 | recall/_macro: 0.5 | recall/_micro: 0.6228070175438596 | recall/_weighted: 0.6228070175438597\n",
      "* Epoch (42/100) \n"
     ]
    },
    {
     "data": {
      "application/vnd.jupyter.widget-view+json": {
       "model_id": "a817b2c7e14b4aafa367d82c81cb27d8",
       "version_major": 2,
       "version_minor": 0
      },
      "text/plain": [
       "43/100 * Epoch (train):   0%|          | 0/15 [00:00<?, ?it/s]"
      ]
     },
     "metadata": {},
     "output_type": "display_data"
    },
    {
     "name": "stdout",
     "output_type": "stream",
     "text": [
      "train (43/100) accuracy01: 0.628571428833427 | accuracy01/std: 0.08565953018253279 | f1/_macro: 0.38596254233526633 | f1/_micro: 0.6285664286112009 | f1/_weighted: 0.48521005322147764 | loss: 0.6598853958832039 | loss/mean: 0.6598853958832039 | loss/std: 0.04170664871319973 | lr: 0.02 | momentum: 0.9 | precision/_macro: 0.3142857142857143 | precision/_micro: 0.6285714285714286 | precision/_weighted: 0.3951020408163265 | recall/_macro: 0.5 | recall/_micro: 0.6285714285714286 | recall/_weighted: 0.6285714285714286\n"
     ]
    },
    {
     "data": {
      "application/vnd.jupyter.widget-view+json": {
       "model_id": "00bfabd9d4b2442b8429b73ab4c320f3",
       "version_major": 2,
       "version_minor": 0
      },
      "text/plain": [
       "43/100 * Epoch (valid):   0%|          | 0/4 [00:00<?, ?it/s]"
      ]
     },
     "metadata": {},
     "output_type": "display_data"
    },
    {
     "name": "stdout",
     "output_type": "stream",
     "text": [
      "valid (43/100) accuracy01: 0.6228070175438597 | accuracy01/std: 0.07245393742001471 | f1/_macro: 0.3837814188604459 | f1/_micro: 0.622802017584 | f1/_weighted: 0.4780435217384502 | loss: 0.66277477615758 | loss/mean: 0.66277477615758 | loss/std: 0.03420721881235671 | lr: 0.02 | momentum: 0.9 | precision/_macro: 0.3114035087719298 | precision/_micro: 0.6228070175438596 | precision/_weighted: 0.3878885811018775 | recall/_macro: 0.5 | recall/_micro: 0.6228070175438596 | recall/_weighted: 0.6228070175438597\n",
      "* Epoch (43/100) \n"
     ]
    },
    {
     "data": {
      "application/vnd.jupyter.widget-view+json": {
       "model_id": "f83ba33c09cc4e89b08da1e318846a22",
       "version_major": 2,
       "version_minor": 0
      },
      "text/plain": [
       "44/100 * Epoch (train):   0%|          | 0/15 [00:00<?, ?it/s]"
      ]
     },
     "metadata": {},
     "output_type": "display_data"
    },
    {
     "name": "stdout",
     "output_type": "stream",
     "text": [
      "train (44/100) accuracy01: 0.628571428833427 | accuracy01/std: 0.07165829986321251 | f1/_macro: 0.38596254233526633 | f1/_micro: 0.6285664286112009 | f1/_weighted: 0.48521005322147764 | loss: 0.6600969462604314 | loss/mean: 0.6600969462604314 | loss/std: 0.03523345866985169 | lr: 0.02 | momentum: 0.9 | precision/_macro: 0.3142857142857143 | precision/_micro: 0.6285714285714286 | precision/_weighted: 0.3951020408163265 | recall/_macro: 0.5 | recall/_micro: 0.6285714285714286 | recall/_weighted: 0.6285714285714286\n"
     ]
    },
    {
     "data": {
      "application/vnd.jupyter.widget-view+json": {
       "model_id": "2c7acd9084d14caa88c1a84f71e06028",
       "version_major": 2,
       "version_minor": 0
      },
      "text/plain": [
       "44/100 * Epoch (valid):   0%|          | 0/4 [00:00<?, ?it/s]"
      ]
     },
     "metadata": {},
     "output_type": "display_data"
    },
    {
     "name": "stdout",
     "output_type": "stream",
     "text": [
      "valid (44/100) accuracy01: 0.6228070175438597 | accuracy01/std: 0.07245393742001471 | f1/_macro: 0.3837814188604459 | f1/_micro: 0.622802017584 | f1/_weighted: 0.4780435217384502 | loss: 0.6627020177088285 | loss/mean: 0.6627020177088285 | loss/std: 0.03746897165588716 | lr: 0.02 | momentum: 0.9 | precision/_macro: 0.3114035087719298 | precision/_micro: 0.6228070175438596 | precision/_weighted: 0.3878885811018775 | recall/_macro: 0.5 | recall/_micro: 0.6228070175438596 | recall/_weighted: 0.6228070175438597\n",
      "* Epoch (44/100) \n"
     ]
    },
    {
     "data": {
      "application/vnd.jupyter.widget-view+json": {
       "model_id": "4d34df1c230044e6ad48b7320af03a6b",
       "version_major": 2,
       "version_minor": 0
      },
      "text/plain": [
       "45/100 * Epoch (train):   0%|          | 0/15 [00:00<?, ?it/s]"
      ]
     },
     "metadata": {},
     "output_type": "display_data"
    },
    {
     "name": "stdout",
     "output_type": "stream",
     "text": [
      "train (45/100) accuracy01: 0.6285714285714287 | accuracy01/std: 0.09897404799981713 | f1/_macro: 0.38596254233526633 | f1/_micro: 0.6285664286112009 | f1/_weighted: 0.48521005322147764 | loss: 0.6607186814585885 | loss/mean: 0.6607186814585885 | loss/std: 0.04884326915258767 | lr: 0.02 | momentum: 0.9 | precision/_macro: 0.3142857142857143 | precision/_micro: 0.6285714285714286 | precision/_weighted: 0.3951020408163265 | recall/_macro: 0.5 | recall/_micro: 0.6285714285714286 | recall/_weighted: 0.6285714285714286\n"
     ]
    },
    {
     "data": {
      "application/vnd.jupyter.widget-view+json": {
       "model_id": "4de37057a5f9463fbd148ade0d85e9d8",
       "version_major": 2,
       "version_minor": 0
      },
      "text/plain": [
       "45/100 * Epoch (valid):   0%|          | 0/4 [00:00<?, ?it/s]"
      ]
     },
     "metadata": {},
     "output_type": "display_data"
    },
    {
     "name": "stdout",
     "output_type": "stream",
     "text": [
      "valid (45/100) accuracy01: 0.6228070175438597 | accuracy01/std: 0.07245393742001471 | f1/_macro: 0.3837814188604459 | f1/_micro: 0.622802017584 | f1/_weighted: 0.4780435217384502 | loss: 0.6626793282073841 | loss/mean: 0.6626793282073841 | loss/std: 0.03685885718373316 | lr: 0.02 | momentum: 0.9 | precision/_macro: 0.3114035087719298 | precision/_micro: 0.6228070175438596 | precision/_weighted: 0.3878885811018775 | recall/_macro: 0.5 | recall/_micro: 0.6228070175438596 | recall/_weighted: 0.6228070175438597\n",
      "* Epoch (45/100) \n"
     ]
    },
    {
     "data": {
      "application/vnd.jupyter.widget-view+json": {
       "model_id": "76cc323ed0cf4712a51205ef4b0e607a",
       "version_major": 2,
       "version_minor": 0
      },
      "text/plain": [
       "46/100 * Epoch (train):   0%|          | 0/15 [00:00<?, ?it/s]"
      ]
     },
     "metadata": {},
     "output_type": "display_data"
    },
    {
     "name": "stdout",
     "output_type": "stream",
     "text": [
      "train (46/100) accuracy01: 0.6285714296194224 | accuracy01/std: 0.08291799448416491 | f1/_macro: 0.38596254233526633 | f1/_micro: 0.6285664286112009 | f1/_weighted: 0.48521005322147764 | loss: 0.6596371505286668 | loss/mean: 0.6596371505286668 | loss/std: 0.04666648684462899 | lr: 0.02 | momentum: 0.9 | precision/_macro: 0.3142857142857143 | precision/_micro: 0.6285714285714286 | precision/_weighted: 0.3951020408163265 | recall/_macro: 0.5 | recall/_micro: 0.6285714285714286 | recall/_weighted: 0.6285714285714286\n"
     ]
    },
    {
     "data": {
      "application/vnd.jupyter.widget-view+json": {
       "model_id": "5e3fa664a1c542068fd1332ba822744f",
       "version_major": 2,
       "version_minor": 0
      },
      "text/plain": [
       "46/100 * Epoch (valid):   0%|          | 0/4 [00:00<?, ?it/s]"
      ]
     },
     "metadata": {},
     "output_type": "display_data"
    },
    {
     "name": "stdout",
     "output_type": "stream",
     "text": [
      "valid (46/100) accuracy01: 0.6228070175438597 | accuracy01/std: 0.07245393742001471 | f1/_macro: 0.3837814188604459 | f1/_micro: 0.622802017584 | f1/_weighted: 0.4780435217384502 | loss: 0.6638398630577221 | loss/mean: 0.6638398630577221 | loss/std: 0.043586125019796765 | lr: 0.02 | momentum: 0.9 | precision/_macro: 0.3114035087719298 | precision/_micro: 0.6228070175438596 | precision/_weighted: 0.3878885811018775 | recall/_macro: 0.5 | recall/_micro: 0.6228070175438596 | recall/_weighted: 0.6228070175438597\n",
      "* Epoch (46/100) \n"
     ]
    },
    {
     "data": {
      "application/vnd.jupyter.widget-view+json": {
       "model_id": "f14712f0682e42b59ad9b6099d45a8e0",
       "version_major": 2,
       "version_minor": 0
      },
      "text/plain": [
       "47/100 * Epoch (train):   0%|          | 0/15 [00:00<?, ?it/s]"
      ]
     },
     "metadata": {},
     "output_type": "display_data"
    },
    {
     "name": "stdout",
     "output_type": "stream",
     "text": [
      "train (47/100) accuracy01: 0.6285714289644262 | accuracy01/std: 0.08719548261863434 | f1/_macro: 0.38596254233526633 | f1/_micro: 0.6285664286112009 | f1/_weighted: 0.48521005322147764 | loss: 0.6611325236467216 | loss/mean: 0.6611325236467216 | loss/std: 0.054116144721331735 | lr: 0.02 | momentum: 0.9 | precision/_macro: 0.3142857142857143 | precision/_micro: 0.6285714285714286 | precision/_weighted: 0.3951020408163265 | recall/_macro: 0.5 | recall/_micro: 0.6285714285714286 | recall/_weighted: 0.6285714285714286\n"
     ]
    },
    {
     "data": {
      "application/vnd.jupyter.widget-view+json": {
       "model_id": "ed9bad85173d4b5e8c89a94c8b8be619",
       "version_major": 2,
       "version_minor": 0
      },
      "text/plain": [
       "47/100 * Epoch (valid):   0%|          | 0/4 [00:00<?, ?it/s]"
      ]
     },
     "metadata": {},
     "output_type": "display_data"
    },
    {
     "name": "stdout",
     "output_type": "stream",
     "text": [
      "valid (47/100) accuracy01: 0.6228070175438597 | accuracy01/std: 0.07245393742001471 | f1/_macro: 0.3837814188604459 | f1/_micro: 0.622802017584 | f1/_weighted: 0.4780435217384502 | loss: 0.6638981794056139 | loss/mean: 0.6638981794056139 | loss/std: 0.043765823627323425 | lr: 0.02 | momentum: 0.9 | precision/_macro: 0.3114035087719298 | precision/_micro: 0.6228070175438596 | precision/_weighted: 0.3878885811018775 | recall/_macro: 0.5 | recall/_micro: 0.6228070175438596 | recall/_weighted: 0.6228070175438597\n",
      "* Epoch (47/100) \n"
     ]
    },
    {
     "data": {
      "application/vnd.jupyter.widget-view+json": {
       "model_id": "f5545ea4dbe04bb2aef29e4fef456b8a",
       "version_major": 2,
       "version_minor": 0
      },
      "text/plain": [
       "48/100 * Epoch (train):   0%|          | 0/15 [00:00<?, ?it/s]"
      ]
     },
     "metadata": {},
     "output_type": "display_data"
    },
    {
     "name": "stdout",
     "output_type": "stream",
     "text": [
      "train (48/100) accuracy01: 0.628571428833427 | accuracy01/std: 0.04880172102014815 | f1/_macro: 0.38596254233526633 | f1/_micro: 0.6285664286112009 | f1/_weighted: 0.48521005322147764 | loss: 0.6602268707621228 | loss/mean: 0.6602268707621228 | loss/std: 0.027747755561718154 | lr: 0.02 | momentum: 0.9 | precision/_macro: 0.3142857142857143 | precision/_micro: 0.6285714285714286 | precision/_weighted: 0.3951020408163265 | recall/_macro: 0.5 | recall/_micro: 0.6285714285714286 | recall/_weighted: 0.6285714285714286\n"
     ]
    },
    {
     "data": {
      "application/vnd.jupyter.widget-view+json": {
       "model_id": "e8717102074a4302965d0cf2b4b31e5b",
       "version_major": 2,
       "version_minor": 0
      },
      "text/plain": [
       "48/100 * Epoch (valid):   0%|          | 0/4 [00:00<?, ?it/s]"
      ]
     },
     "metadata": {},
     "output_type": "display_data"
    },
    {
     "name": "stdout",
     "output_type": "stream",
     "text": [
      "valid (48/100) accuracy01: 0.6228070175438597 | accuracy01/std: 0.07245393742001471 | f1/_macro: 0.3837814188604459 | f1/_micro: 0.622802017584 | f1/_weighted: 0.4780435217384502 | loss: 0.6629911797088489 | loss/mean: 0.6629911797088489 | loss/std: 0.040112103759669435 | lr: 0.02 | momentum: 0.9 | precision/_macro: 0.3114035087719298 | precision/_micro: 0.6228070175438596 | precision/_weighted: 0.3878885811018775 | recall/_macro: 0.5 | recall/_micro: 0.6228070175438596 | recall/_weighted: 0.6228070175438597\n",
      "* Epoch (48/100) \n"
     ]
    },
    {
     "data": {
      "application/vnd.jupyter.widget-view+json": {
       "model_id": "ebb3905d6cac45049c596566d203dcb6",
       "version_major": 2,
       "version_minor": 0
      },
      "text/plain": [
       "49/100 * Epoch (train):   0%|          | 0/15 [00:00<?, ?it/s]"
      ]
     },
     "metadata": {},
     "output_type": "display_data"
    },
    {
     "name": "stdout",
     "output_type": "stream",
     "text": [
      "train (49/100) accuracy01: 0.6285714289644262 | accuracy01/std: 0.09620309022038322 | f1/_macro: 0.38596254233526633 | f1/_micro: 0.6285664286112009 | f1/_weighted: 0.48521005322147764 | loss: 0.6601853582885239 | loss/mean: 0.6601853582885239 | loss/std: 0.05201609819153679 | lr: 0.02 | momentum: 0.9 | precision/_macro: 0.3142857142857143 | precision/_micro: 0.6285714285714286 | precision/_weighted: 0.3951020408163265 | recall/_macro: 0.5 | recall/_micro: 0.6285714285714286 | recall/_weighted: 0.6285714285714286\n"
     ]
    },
    {
     "data": {
      "application/vnd.jupyter.widget-view+json": {
       "model_id": "94672b029ba448f9a2468873aca4e620",
       "version_major": 2,
       "version_minor": 0
      },
      "text/plain": [
       "49/100 * Epoch (valid):   0%|          | 0/4 [00:00<?, ?it/s]"
      ]
     },
     "metadata": {},
     "output_type": "display_data"
    },
    {
     "name": "stdout",
     "output_type": "stream",
     "text": [
      "valid (49/100) accuracy01: 0.6228070175438597 | accuracy01/std: 0.07245393742001471 | f1/_macro: 0.3837814188604459 | f1/_micro: 0.622802017584 | f1/_weighted: 0.4780435217384502 | loss: 0.6627048400410435 | loss/mean: 0.6627048400410435 | loss/std: 0.03752252371945603 | lr: 0.02 | momentum: 0.9 | precision/_macro: 0.3114035087719298 | precision/_micro: 0.6228070175438596 | precision/_weighted: 0.3878885811018775 | recall/_macro: 0.5 | recall/_micro: 0.6228070175438596 | recall/_weighted: 0.6228070175438597\n",
      "* Epoch (49/100) \n"
     ]
    },
    {
     "data": {
      "application/vnd.jupyter.widget-view+json": {
       "model_id": "d1f1ba0373114939ad8ba1db10ffcfdf",
       "version_major": 2,
       "version_minor": 0
      },
      "text/plain": [
       "50/100 * Epoch (train):   0%|          | 0/15 [00:00<?, ?it/s]"
      ]
     },
     "metadata": {},
     "output_type": "display_data"
    },
    {
     "name": "stdout",
     "output_type": "stream",
     "text": [
      "train (50/100) accuracy01: 0.6285714289644262 | accuracy01/std: 0.08063330951408035 | f1/_macro: 0.38596254233526633 | f1/_micro: 0.6285664286112009 | f1/_weighted: 0.48521005322147764 | loss: 0.6598624856917413 | loss/mean: 0.6598624856917413 | loss/std: 0.04201680864796404 | lr: 0.02 | momentum: 0.9 | precision/_macro: 0.3142857142857143 | precision/_micro: 0.6285714285714286 | precision/_weighted: 0.3951020408163265 | recall/_macro: 0.5 | recall/_micro: 0.6285714285714286 | recall/_weighted: 0.6285714285714286\n"
     ]
    },
    {
     "data": {
      "application/vnd.jupyter.widget-view+json": {
       "model_id": "1ba805fdc19647a287daec2facc29f09",
       "version_major": 2,
       "version_minor": 0
      },
      "text/plain": [
       "50/100 * Epoch (valid):   0%|          | 0/4 [00:00<?, ?it/s]"
      ]
     },
     "metadata": {},
     "output_type": "display_data"
    },
    {
     "name": "stdout",
     "output_type": "stream",
     "text": [
      "valid (50/100) accuracy01: 0.6228070175438597 | accuracy01/std: 0.07245393742001471 | f1/_macro: 0.3837814188604459 | f1/_micro: 0.622802017584 | f1/_weighted: 0.4780435217384502 | loss: 0.662691803354966 | loss/mean: 0.662691803354966 | loss/std: 0.03724624921522682 | lr: 0.02 | momentum: 0.9 | precision/_macro: 0.3114035087719298 | precision/_micro: 0.6228070175438596 | precision/_weighted: 0.3878885811018775 | recall/_macro: 0.5 | recall/_micro: 0.6228070175438596 | recall/_weighted: 0.6228070175438597\n",
      "* Epoch (50/100) \n"
     ]
    },
    {
     "data": {
      "application/vnd.jupyter.widget-view+json": {
       "model_id": "920908902bfd4fcda051947f0abd486f",
       "version_major": 2,
       "version_minor": 0
      },
      "text/plain": [
       "51/100 * Epoch (train):   0%|          | 0/15 [00:00<?, ?it/s]"
      ]
     },
     "metadata": {},
     "output_type": "display_data"
    },
    {
     "name": "stdout",
     "output_type": "stream",
     "text": [
      "train (51/100) accuracy01: 0.6285714296194223 | accuracy01/std: 0.08537206454098234 | f1/_macro: 0.38596254233526633 | f1/_micro: 0.6285664286112009 | f1/_weighted: 0.48521005322147764 | loss: 0.6603538890461345 | loss/mean: 0.6603538890461345 | loss/std: 0.04581702918757931 | lr: 0.02 | momentum: 0.9 | precision/_macro: 0.3142857142857143 | precision/_micro: 0.6285714285714286 | precision/_weighted: 0.3951020408163265 | recall/_macro: 0.5 | recall/_micro: 0.6285714285714286 | recall/_weighted: 0.6285714285714286\n"
     ]
    },
    {
     "data": {
      "application/vnd.jupyter.widget-view+json": {
       "model_id": "d6eb44c77cfd449c8fbed33f02466ecc",
       "version_major": 2,
       "version_minor": 0
      },
      "text/plain": [
       "51/100 * Epoch (valid):   0%|          | 0/4 [00:00<?, ?it/s]"
      ]
     },
     "metadata": {},
     "output_type": "display_data"
    },
    {
     "name": "stdout",
     "output_type": "stream",
     "text": [
      "valid (51/100) accuracy01: 0.6228070175438597 | accuracy01/std: 0.07245393742001471 | f1/_macro: 0.3837814188604459 | f1/_micro: 0.622802017584 | f1/_weighted: 0.4780435217384502 | loss: 0.6628283555047554 | loss/mean: 0.6628283555047554 | loss/std: 0.03897128184542522 | lr: 0.02 | momentum: 0.9 | precision/_macro: 0.3114035087719298 | precision/_micro: 0.6228070175438596 | precision/_weighted: 0.3878885811018775 | recall/_macro: 0.5 | recall/_micro: 0.6228070175438596 | recall/_weighted: 0.6228070175438597\n",
      "* Epoch (51/100) \n"
     ]
    },
    {
     "data": {
      "application/vnd.jupyter.widget-view+json": {
       "model_id": "ee1cc567314047fb8d5783f84e338cbe",
       "version_major": 2,
       "version_minor": 0
      },
      "text/plain": [
       "52/100 * Epoch (train):   0%|          | 0/15 [00:00<?, ?it/s]"
      ]
     },
     "metadata": {},
     "output_type": "display_data"
    },
    {
     "name": "stdout",
     "output_type": "stream",
     "text": [
      "train (52/100) accuracy01: 0.6285714289644262 | accuracy01/std: 0.06343309100864893 | f1/_macro: 0.38596254233526633 | f1/_micro: 0.6285664286112009 | f1/_weighted: 0.48521005322147764 | loss: 0.6609961786112943 | loss/mean: 0.6609961786112943 | loss/std: 0.0366383494710236 | lr: 0.02 | momentum: 0.9 | precision/_macro: 0.3142857142857143 | precision/_micro: 0.6285714285714286 | precision/_weighted: 0.3951020408163265 | recall/_macro: 0.5 | recall/_micro: 0.6285714285714286 | recall/_weighted: 0.6285714285714286\n"
     ]
    },
    {
     "data": {
      "application/vnd.jupyter.widget-view+json": {
       "model_id": "84847d131a03475aad364f4f5ea282b3",
       "version_major": 2,
       "version_minor": 0
      },
      "text/plain": [
       "52/100 * Epoch (valid):   0%|          | 0/4 [00:00<?, ?it/s]"
      ]
     },
     "metadata": {},
     "output_type": "display_data"
    },
    {
     "name": "stdout",
     "output_type": "stream",
     "text": [
      "valid (52/100) accuracy01: 0.6228070175438597 | accuracy01/std: 0.07245393742001471 | f1/_macro: 0.3837814188604459 | f1/_micro: 0.622802017584 | f1/_weighted: 0.4780435217384502 | loss: 0.6633034599454779 | loss/mean: 0.6633034599454779 | loss/std: 0.041658366702541506 | lr: 0.02 | momentum: 0.9 | precision/_macro: 0.3114035087719298 | precision/_micro: 0.6228070175438596 | precision/_weighted: 0.3878885811018775 | recall/_macro: 0.5 | recall/_micro: 0.6228070175438596 | recall/_weighted: 0.6228070175438597\n",
      "* Epoch (52/100) \n"
     ]
    },
    {
     "data": {
      "application/vnd.jupyter.widget-view+json": {
       "model_id": "9a12447650374dfdae9a8ba9c6632728",
       "version_major": 2,
       "version_minor": 0
      },
      "text/plain": [
       "53/100 * Epoch (train):   0%|          | 0/15 [00:00<?, ?it/s]"
      ]
     },
     "metadata": {},
     "output_type": "display_data"
    },
    {
     "name": "stdout",
     "output_type": "stream",
     "text": [
      "train (53/100) accuracy01: 0.6285714296194224 | accuracy01/std: 0.06526679893143357 | f1/_macro: 0.38596254233526633 | f1/_micro: 0.6285664286112009 | f1/_weighted: 0.48521005322147764 | loss: 0.6600837818868869 | loss/mean: 0.6600837818868869 | loss/std: 0.03371770706163671 | lr: 0.02 | momentum: 0.9 | precision/_macro: 0.3142857142857143 | precision/_micro: 0.6285714285714286 | precision/_weighted: 0.3951020408163265 | recall/_macro: 0.5 | recall/_micro: 0.6285714285714286 | recall/_weighted: 0.6285714285714286\n"
     ]
    },
    {
     "data": {
      "application/vnd.jupyter.widget-view+json": {
       "model_id": "12d66a6c59d64ed28dc7c8288caf4820",
       "version_major": 2,
       "version_minor": 0
      },
      "text/plain": [
       "53/100 * Epoch (valid):   0%|          | 0/4 [00:00<?, ?it/s]"
      ]
     },
     "metadata": {},
     "output_type": "display_data"
    },
    {
     "name": "stdout",
     "output_type": "stream",
     "text": [
      "valid (53/100) accuracy01: 0.6228070175438597 | accuracy01/std: 0.07245393742001471 | f1/_macro: 0.3837814188604459 | f1/_micro: 0.622802017584 | f1/_weighted: 0.4780435217384502 | loss: 0.6627044562707868 | loss/mean: 0.6627044562707868 | loss/std: 0.03515489774594081 | lr: 0.02 | momentum: 0.9 | precision/_macro: 0.3114035087719298 | precision/_micro: 0.6228070175438596 | precision/_weighted: 0.3878885811018775 | recall/_macro: 0.5 | recall/_micro: 0.6228070175438596 | recall/_weighted: 0.6228070175438597\n",
      "* Epoch (53/100) \n"
     ]
    },
    {
     "data": {
      "application/vnd.jupyter.widget-view+json": {
       "model_id": "6b2df7148d484880a29d9578a7619aab",
       "version_major": 2,
       "version_minor": 0
      },
      "text/plain": [
       "54/100 * Epoch (train):   0%|          | 0/15 [00:00<?, ?it/s]"
      ]
     },
     "metadata": {},
     "output_type": "display_data"
    },
    {
     "name": "stdout",
     "output_type": "stream",
     "text": [
      "train (54/100) accuracy01: 0.628571428669678 | accuracy01/std: 0.09777456008146533 | f1/_macro: 0.38596254233526633 | f1/_micro: 0.6285664286112009 | f1/_weighted: 0.48521005322147764 | loss: 0.6612578913405701 | loss/mean: 0.6612578913405701 | loss/std: 0.05397055916335954 | lr: 0.02 | momentum: 0.9 | precision/_macro: 0.3142857142857143 | precision/_micro: 0.6285714285714286 | precision/_weighted: 0.3951020408163265 | recall/_macro: 0.5 | recall/_micro: 0.6285714285714286 | recall/_weighted: 0.6285714285714286\n"
     ]
    },
    {
     "data": {
      "application/vnd.jupyter.widget-view+json": {
       "model_id": "f802e6bb5e0f43c994c042d36cbb044d",
       "version_major": 2,
       "version_minor": 0
      },
      "text/plain": [
       "54/100 * Epoch (valid):   0%|          | 0/4 [00:00<?, ?it/s]"
      ]
     },
     "metadata": {},
     "output_type": "display_data"
    },
    {
     "name": "stdout",
     "output_type": "stream",
     "text": [
      "valid (54/100) accuracy01: 0.6228070175438597 | accuracy01/std: 0.07245393742001471 | f1/_macro: 0.3837814188604459 | f1/_micro: 0.622802017584 | f1/_weighted: 0.4780435217384502 | loss: 0.6631364268169069 | loss/mean: 0.6631364268169069 | loss/std: 0.04089641343747232 | lr: 0.02 | momentum: 0.9 | precision/_macro: 0.3114035087719298 | precision/_micro: 0.6228070175438596 | precision/_weighted: 0.3878885811018775 | recall/_macro: 0.5 | recall/_micro: 0.6228070175438596 | recall/_weighted: 0.6228070175438597\n",
      "* Epoch (54/100) \n"
     ]
    },
    {
     "data": {
      "application/vnd.jupyter.widget-view+json": {
       "model_id": "5fe3a4bb2e164751af90b41bf85c2be4",
       "version_major": 2,
       "version_minor": 0
      },
      "text/plain": [
       "55/100 * Epoch (train):   0%|          | 0/15 [00:00<?, ?it/s]"
      ]
     },
     "metadata": {},
     "output_type": "display_data"
    },
    {
     "name": "stdout",
     "output_type": "stream",
     "text": [
      "train (55/100) accuracy01: 0.6285714290954255 | accuracy01/std: 0.09512379621076367 | f1/_macro: 0.38596254233526633 | f1/_micro: 0.6285664286112009 | f1/_weighted: 0.48521005322147764 | loss: 0.6592789495384299 | loss/mean: 0.6592789495384299 | loss/std: 0.04995820445288009 | lr: 0.02 | momentum: 0.9 | precision/_macro: 0.3142857142857143 | precision/_micro: 0.6285714285714286 | precision/_weighted: 0.3951020408163265 | recall/_macro: 0.5 | recall/_micro: 0.6285714285714286 | recall/_weighted: 0.6285714285714286\n"
     ]
    },
    {
     "data": {
      "application/vnd.jupyter.widget-view+json": {
       "model_id": "9de78521891848fcb4c8307535637d9f",
       "version_major": 2,
       "version_minor": 0
      },
      "text/plain": [
       "55/100 * Epoch (valid):   0%|          | 0/4 [00:00<?, ?it/s]"
      ]
     },
     "metadata": {},
     "output_type": "display_data"
    },
    {
     "name": "stdout",
     "output_type": "stream",
     "text": [
      "valid (55/100) accuracy01: 0.6228070175438597 | accuracy01/std: 0.07245393742001471 | f1/_macro: 0.3837814188604459 | f1/_micro: 0.622802017584 | f1/_weighted: 0.4780435217384502 | loss: 0.6632623578372755 | loss/mean: 0.6632623578372755 | loss/std: 0.031216943116866343 | lr: 0.02 | momentum: 0.9 | precision/_macro: 0.3114035087719298 | precision/_micro: 0.6228070175438596 | precision/_weighted: 0.3878885811018775 | recall/_macro: 0.5 | recall/_micro: 0.6228070175438596 | recall/_weighted: 0.6228070175438597\n",
      "* Epoch (55/100) \n"
     ]
    },
    {
     "data": {
      "application/vnd.jupyter.widget-view+json": {
       "model_id": "19b7d45e9fb449bea96dd79c5452978e",
       "version_major": 2,
       "version_minor": 0
      },
      "text/plain": [
       "56/100 * Epoch (train):   0%|          | 0/15 [00:00<?, ?it/s]"
      ]
     },
     "metadata": {},
     "output_type": "display_data"
    },
    {
     "name": "stdout",
     "output_type": "stream",
     "text": [
      "train (56/100) accuracy01: 0.6285714289644262 | accuracy01/std: 0.0734874752409579 | f1/_macro: 0.38596254233526633 | f1/_micro: 0.6285664286112009 | f1/_weighted: 0.48521005322147764 | loss: 0.6613186576864222 | loss/mean: 0.6613186576864222 | loss/std: 0.03211534636212052 | lr: 0.02 | momentum: 0.9 | precision/_macro: 0.3142857142857143 | precision/_micro: 0.6285714285714286 | precision/_weighted: 0.3951020408163265 | recall/_macro: 0.5 | recall/_micro: 0.6285714285714286 | recall/_weighted: 0.6285714285714286\n"
     ]
    },
    {
     "data": {
      "application/vnd.jupyter.widget-view+json": {
       "model_id": "61361fc631ed438b8463dc94698069e2",
       "version_major": 2,
       "version_minor": 0
      },
      "text/plain": [
       "56/100 * Epoch (valid):   0%|          | 0/4 [00:00<?, ?it/s]"
      ]
     },
     "metadata": {},
     "output_type": "display_data"
    },
    {
     "name": "stdout",
     "output_type": "stream",
     "text": [
      "valid (56/100) accuracy01: 0.6228070175438597 | accuracy01/std: 0.07245393742001471 | f1/_macro: 0.3837814188604459 | f1/_micro: 0.622802017584 | f1/_weighted: 0.4780435217384502 | loss: 0.6629168391227722 | loss/mean: 0.6629168391227722 | loss/std: 0.03304055393743828 | lr: 0.02 | momentum: 0.9 | precision/_macro: 0.3114035087719298 | precision/_micro: 0.6228070175438596 | precision/_weighted: 0.3878885811018775 | recall/_macro: 0.5 | recall/_micro: 0.6228070175438596 | recall/_weighted: 0.6228070175438597\n",
      "* Epoch (56/100) \n"
     ]
    },
    {
     "data": {
      "application/vnd.jupyter.widget-view+json": {
       "model_id": "8bce2913cead4ee0ad4cc3e642963260",
       "version_major": 2,
       "version_minor": 0
      },
      "text/plain": [
       "57/100 * Epoch (train):   0%|          | 0/15 [00:00<?, ?it/s]"
      ]
     },
     "metadata": {},
     "output_type": "display_data"
    },
    {
     "name": "stdout",
     "output_type": "stream",
     "text": [
      "train (57/100) accuracy01: 0.628571428833427 | accuracy01/std: 0.0848521650451794 | f1/_macro: 0.38596254233526633 | f1/_micro: 0.6285664286112009 | f1/_weighted: 0.48521005322147764 | loss: 0.6604207896924282 | loss/mean: 0.6604207896924282 | loss/std: 0.04079692513356829 | lr: 0.02 | momentum: 0.9 | precision/_macro: 0.3142857142857143 | precision/_micro: 0.6285714285714286 | precision/_weighted: 0.3951020408163265 | recall/_macro: 0.5 | recall/_micro: 0.6285714285714286 | recall/_weighted: 0.6285714285714286\n"
     ]
    },
    {
     "data": {
      "application/vnd.jupyter.widget-view+json": {
       "model_id": "f7d9d94ebdd747839dcf940b9e48de87",
       "version_major": 2,
       "version_minor": 0
      },
      "text/plain": [
       "57/100 * Epoch (valid):   0%|          | 0/4 [00:00<?, ?it/s]"
      ]
     },
     "metadata": {},
     "output_type": "display_data"
    },
    {
     "name": "stdout",
     "output_type": "stream",
     "text": [
      "valid (57/100) accuracy01: 0.6228070175438597 | accuracy01/std: 0.07245393742001471 | f1/_macro: 0.3837814188604459 | f1/_micro: 0.622802017584 | f1/_weighted: 0.4780435217384502 | loss: 0.6626791399821901 | loss/mean: 0.6626791399821901 | loss/std: 0.036852056001296145 | lr: 0.02 | momentum: 0.9 | precision/_macro: 0.3114035087719298 | precision/_micro: 0.6228070175438596 | precision/_weighted: 0.3878885811018775 | recall/_macro: 0.5 | recall/_micro: 0.6228070175438596 | recall/_weighted: 0.6228070175438597\n",
      "* Epoch (57/100) \n"
     ]
    },
    {
     "data": {
      "application/vnd.jupyter.widget-view+json": {
       "model_id": "b7a48e4d10df4686be8e876b0beeed1f",
       "version_major": 2,
       "version_minor": 0
      },
      "text/plain": [
       "58/100 * Epoch (train):   0%|          | 0/15 [00:00<?, ?it/s]"
      ]
     },
     "metadata": {},
     "output_type": "display_data"
    },
    {
     "name": "stdout",
     "output_type": "stream",
     "text": [
      "train (58/100) accuracy01: 0.6285714288334271 | accuracy01/std: 0.0815428054453783 | f1/_macro: 0.38596254233526633 | f1/_micro: 0.6285664286112009 | f1/_weighted: 0.48521005322147764 | loss: 0.660004441161732 | loss/mean: 0.660004441161732 | loss/std: 0.04332569467188357 | lr: 0.02 | momentum: 0.9 | precision/_macro: 0.3142857142857143 | precision/_micro: 0.6285714285714286 | precision/_weighted: 0.3951020408163265 | recall/_macro: 0.5 | recall/_micro: 0.6285714285714286 | recall/_weighted: 0.6285714285714286\n"
     ]
    },
    {
     "data": {
      "application/vnd.jupyter.widget-view+json": {
       "model_id": "a1974d36ce4c4b739d96280af2de6ffd",
       "version_major": 2,
       "version_minor": 0
      },
      "text/plain": [
       "58/100 * Epoch (valid):   0%|          | 0/4 [00:00<?, ?it/s]"
      ]
     },
     "metadata": {},
     "output_type": "display_data"
    },
    {
     "name": "stdout",
     "output_type": "stream",
     "text": [
      "valid (58/100) accuracy01: 0.6228070175438597 | accuracy01/std: 0.07245393742001471 | f1/_macro: 0.3837814188604459 | f1/_micro: 0.622802017584 | f1/_weighted: 0.4780435217384502 | loss: 0.6629794156342222 | loss/mean: 0.6629794156342222 | loss/std: 0.04004077908879858 | lr: 0.02 | momentum: 0.9 | precision/_macro: 0.3114035087719298 | precision/_micro: 0.6228070175438596 | precision/_weighted: 0.3878885811018775 | recall/_macro: 0.5 | recall/_micro: 0.6228070175438596 | recall/_weighted: 0.6228070175438597\n",
      "* Epoch (58/100) \n"
     ]
    },
    {
     "data": {
      "application/vnd.jupyter.widget-view+json": {
       "model_id": "06ae2f61099f481698f069d27bb73c4d",
       "version_major": 2,
       "version_minor": 0
      },
      "text/plain": [
       "59/100 * Epoch (train):   0%|          | 0/15 [00:00<?, ?it/s]"
      ]
     },
     "metadata": {},
     "output_type": "display_data"
    },
    {
     "name": "stdout",
     "output_type": "stream",
     "text": [
      "train (59/100) accuracy01: 0.6285714296194224 | accuracy01/std: 0.0759873162006194 | f1/_macro: 0.38596254233526633 | f1/_micro: 0.6285664286112009 | f1/_weighted: 0.48521005322147764 | loss: 0.6602405927993438 | loss/mean: 0.6602405927993438 | loss/std: 0.04351893922778721 | lr: 0.02 | momentum: 0.9 | precision/_macro: 0.3142857142857143 | precision/_micro: 0.6285714285714286 | precision/_weighted: 0.3951020408163265 | recall/_macro: 0.5 | recall/_micro: 0.6285714285714286 | recall/_weighted: 0.6285714285714286\n"
     ]
    },
    {
     "data": {
      "application/vnd.jupyter.widget-view+json": {
       "model_id": "dfc937d649d640298c81618e23539bbb",
       "version_major": 2,
       "version_minor": 0
      },
      "text/plain": [
       "59/100 * Epoch (valid):   0%|          | 0/4 [00:00<?, ?it/s]"
      ]
     },
     "metadata": {},
     "output_type": "display_data"
    },
    {
     "name": "stdout",
     "output_type": "stream",
     "text": [
      "valid (59/100) accuracy01: 0.6228070175438597 | accuracy01/std: 0.07245393742001471 | f1/_macro: 0.3837814188604459 | f1/_micro: 0.622802017584 | f1/_weighted: 0.4780435217384502 | loss: 0.6631052023486087 | loss/mean: 0.6631052023486087 | loss/std: 0.040739125779806984 | lr: 0.02 | momentum: 0.9 | precision/_macro: 0.3114035087719298 | precision/_micro: 0.6228070175438596 | precision/_weighted: 0.3878885811018775 | recall/_macro: 0.5 | recall/_micro: 0.6228070175438596 | recall/_weighted: 0.6228070175438597\n",
      "* Epoch (59/100) \n"
     ]
    },
    {
     "data": {
      "application/vnd.jupyter.widget-view+json": {
       "model_id": "4ef86580006b4fbebef457141501fcdb",
       "version_major": 2,
       "version_minor": 0
      },
      "text/plain": [
       "60/100 * Epoch (train):   0%|          | 0/15 [00:00<?, ?it/s]"
      ]
     },
     "metadata": {},
     "output_type": "display_data"
    },
    {
     "name": "stdout",
     "output_type": "stream",
     "text": [
      "train (60/100) accuracy01: 0.6285714296194224 | accuracy01/std: 0.10813730044532271 | f1/_macro: 0.38596254233526633 | f1/_micro: 0.6285664286112009 | f1/_weighted: 0.48521005322147764 | loss: 0.6601869632909586 | loss/mean: 0.6601869632909586 | loss/std: 0.05970939737564287 | lr: 0.02 | momentum: 0.9 | precision/_macro: 0.3142857142857143 | precision/_micro: 0.6285714285714286 | precision/_weighted: 0.3951020408163265 | recall/_macro: 0.5 | recall/_micro: 0.6285714285714286 | recall/_weighted: 0.6285714285714286\n"
     ]
    },
    {
     "data": {
      "application/vnd.jupyter.widget-view+json": {
       "model_id": "a7bdb8c63c054980a98aff18d9cbb478",
       "version_major": 2,
       "version_minor": 0
      },
      "text/plain": [
       "60/100 * Epoch (valid):   0%|          | 0/4 [00:00<?, ?it/s]"
      ]
     },
     "metadata": {},
     "output_type": "display_data"
    },
    {
     "name": "stdout",
     "output_type": "stream",
     "text": [
      "valid (60/100) accuracy01: 0.6228070175438597 | accuracy01/std: 0.07245393742001471 | f1/_macro: 0.3837814188604459 | f1/_micro: 0.622802017584 | f1/_weighted: 0.4780435217384502 | loss: 0.6628672710636206 | loss/mean: 0.6628672710636206 | loss/std: 0.03928446997494486 | lr: 0.02 | momentum: 0.9 | precision/_macro: 0.3114035087719298 | precision/_micro: 0.6228070175438596 | precision/_weighted: 0.3878885811018775 | recall/_macro: 0.5 | recall/_micro: 0.6228070175438596 | recall/_weighted: 0.6228070175438597\n",
      "* Epoch (60/100) \n"
     ]
    },
    {
     "data": {
      "application/vnd.jupyter.widget-view+json": {
       "model_id": "cc4dab6f0d7e410e9f814d513e128fa5",
       "version_major": 2,
       "version_minor": 0
      },
      "text/plain": [
       "61/100 * Epoch (train):   0%|          | 0/15 [00:00<?, ?it/s]"
      ]
     },
     "metadata": {},
     "output_type": "display_data"
    },
    {
     "name": "stdout",
     "output_type": "stream",
     "text": [
      "train (61/100) accuracy01: 0.6285714290954255 | accuracy01/std: 0.07758802900134412 | f1/_macro: 0.38596254233526633 | f1/_micro: 0.6285664286112009 | f1/_weighted: 0.48521005322147764 | loss: 0.6610656016475552 | loss/mean: 0.6610656016475552 | loss/std: 0.045719834652722204 | lr: 0.02 | momentum: 0.9 | precision/_macro: 0.3142857142857143 | precision/_micro: 0.6285714285714286 | precision/_weighted: 0.3951020408163265 | recall/_macro: 0.5 | recall/_micro: 0.6285714285714286 | recall/_weighted: 0.6285714285714286\n"
     ]
    },
    {
     "data": {
      "application/vnd.jupyter.widget-view+json": {
       "model_id": "0c84daeb982147ceb62d4899d0987e17",
       "version_major": 2,
       "version_minor": 0
      },
      "text/plain": [
       "61/100 * Epoch (valid):   0%|          | 0/4 [00:00<?, ?it/s]"
      ]
     },
     "metadata": {},
     "output_type": "display_data"
    },
    {
     "name": "stdout",
     "output_type": "stream",
     "text": [
      "valid (61/100) accuracy01: 0.6228070175438597 | accuracy01/std: 0.07245393742001471 | f1/_macro: 0.3837814188604459 | f1/_micro: 0.622802017584 | f1/_weighted: 0.4780435217384502 | loss: 0.663446987930097 | loss/mean: 0.663446987930097 | loss/std: 0.04223507019029884 | lr: 0.02 | momentum: 0.9 | precision/_macro: 0.3114035087719298 | precision/_micro: 0.6228070175438596 | precision/_weighted: 0.3878885811018775 | recall/_macro: 0.5 | recall/_micro: 0.6228070175438596 | recall/_weighted: 0.6228070175438597\n",
      "* Epoch (61/100) \n"
     ]
    },
    {
     "data": {
      "application/vnd.jupyter.widget-view+json": {
       "model_id": "11ee863e282a42a78a8ad59040cf826a",
       "version_major": 2,
       "version_minor": 0
      },
      "text/plain": [
       "62/100 * Epoch (train):   0%|          | 0/15 [00:00<?, ?it/s]"
      ]
     },
     "metadata": {},
     "output_type": "display_data"
    },
    {
     "name": "stdout",
     "output_type": "stream",
     "text": [
      "train (62/100) accuracy01: 0.628571428669678 | accuracy01/std: 0.11281030165102585 | f1/_macro: 0.38596254233526633 | f1/_micro: 0.6285664286112009 | f1/_weighted: 0.48521005322147764 | loss: 0.6594536690921575 | loss/mean: 0.6594536690921575 | loss/std: 0.0604085489643226 | lr: 0.02 | momentum: 0.9 | precision/_macro: 0.3142857142857143 | precision/_micro: 0.6285714285714286 | precision/_weighted: 0.3951020408163265 | recall/_macro: 0.5 | recall/_micro: 0.6285714285714286 | recall/_weighted: 0.6285714285714286\n"
     ]
    },
    {
     "data": {
      "application/vnd.jupyter.widget-view+json": {
       "model_id": "8f50bbc15dd947bdabaee52a97239b63",
       "version_major": 2,
       "version_minor": 0
      },
      "text/plain": [
       "62/100 * Epoch (valid):   0%|          | 0/4 [00:00<?, ?it/s]"
      ]
     },
     "metadata": {},
     "output_type": "display_data"
    },
    {
     "name": "stdout",
     "output_type": "stream",
     "text": [
      "valid (62/100) accuracy01: 0.6228070175438597 | accuracy01/std: 0.07245393742001471 | f1/_macro: 0.3837814188604459 | f1/_micro: 0.622802017584 | f1/_weighted: 0.4780435217384502 | loss: 0.6626732914071334 | loss/mean: 0.6626732914071334 | loss/std: 0.03627709451029263 | lr: 0.02 | momentum: 0.9 | precision/_macro: 0.3114035087719298 | precision/_micro: 0.6228070175438596 | precision/_weighted: 0.3878885811018775 | recall/_macro: 0.5 | recall/_micro: 0.6228070175438596 | recall/_weighted: 0.6228070175438597\n",
      "* Epoch (62/100) \n"
     ]
    },
    {
     "data": {
      "application/vnd.jupyter.widget-view+json": {
       "model_id": "811d9f6998d9432d8cd0af9dc138407f",
       "version_major": 2,
       "version_minor": 0
      },
      "text/plain": [
       "63/100 * Epoch (train):   0%|          | 0/15 [00:00<?, ?it/s]"
      ]
     },
     "metadata": {},
     "output_type": "display_data"
    },
    {
     "name": "stdout",
     "output_type": "stream",
     "text": [
      "train (63/100) accuracy01: 0.6285714290954256 | accuracy01/std: 0.0835676889232831 | f1/_macro: 0.38596254233526633 | f1/_micro: 0.6285664286112009 | f1/_weighted: 0.48521005322147764 | loss: 0.6622618055605626 | loss/mean: 0.6622618055605626 | loss/std: 0.03650693537271982 | lr: 0.02 | momentum: 0.9 | precision/_macro: 0.3142857142857143 | precision/_micro: 0.6285714285714286 | precision/_weighted: 0.3951020408163265 | recall/_macro: 0.5 | recall/_micro: 0.6285714285714286 | recall/_weighted: 0.6285714285714286\n"
     ]
    },
    {
     "data": {
      "application/vnd.jupyter.widget-view+json": {
       "model_id": "f5bbd4d8c6024eac9efa3ed58ce4b1cc",
       "version_major": 2,
       "version_minor": 0
      },
      "text/plain": [
       "63/100 * Epoch (valid):   0%|          | 0/4 [00:00<?, ?it/s]"
      ]
     },
     "metadata": {},
     "output_type": "display_data"
    },
    {
     "name": "stdout",
     "output_type": "stream",
     "text": [
      "valid (63/100) accuracy01: 0.6228070175438597 | accuracy01/std: 0.07245393742001471 | f1/_macro: 0.3837814188604459 | f1/_micro: 0.622802017584 | f1/_weighted: 0.4780435217384502 | loss: 0.6636605576465004 | loss/mean: 0.6636605576465004 | loss/std: 0.029715185706990326 | lr: 0.02 | momentum: 0.9 | precision/_macro: 0.3114035087719298 | precision/_micro: 0.6228070175438596 | precision/_weighted: 0.3878885811018775 | recall/_macro: 0.5 | recall/_micro: 0.6228070175438596 | recall/_weighted: 0.6228070175438597\n",
      "* Epoch (63/100) \n"
     ]
    },
    {
     "data": {
      "application/vnd.jupyter.widget-view+json": {
       "model_id": "88e458c4adca4c8dbb40b18d8ae98ae4",
       "version_major": 2,
       "version_minor": 0
      },
      "text/plain": [
       "64/100 * Epoch (train):   0%|          | 0/15 [00:00<?, ?it/s]"
      ]
     },
     "metadata": {},
     "output_type": "display_data"
    },
    {
     "name": "stdout",
     "output_type": "stream",
     "text": [
      "train (64/100) accuracy01: 0.6285714286696781 | accuracy01/std: 0.10258421412083478 | f1/_macro: 0.38596254233526633 | f1/_micro: 0.6285664286112009 | f1/_weighted: 0.48521005322147764 | loss: 0.6616100482888274 | loss/mean: 0.6616100482888274 | loss/std: 0.04641184353333354 | lr: 0.02 | momentum: 0.9 | precision/_macro: 0.3142857142857143 | precision/_micro: 0.6285714285714286 | precision/_weighted: 0.3951020408163265 | recall/_macro: 0.5 | recall/_micro: 0.6285714285714286 | recall/_weighted: 0.6285714285714286\n"
     ]
    },
    {
     "data": {
      "application/vnd.jupyter.widget-view+json": {
       "model_id": "34ee95007d2a426295ef8c246c76f246",
       "version_major": 2,
       "version_minor": 0
      },
      "text/plain": [
       "64/100 * Epoch (valid):   0%|          | 0/4 [00:00<?, ?it/s]"
      ]
     },
     "metadata": {},
     "output_type": "display_data"
    },
    {
     "name": "stdout",
     "output_type": "stream",
     "text": [
      "valid (64/100) accuracy01: 0.6228070175438597 | accuracy01/std: 0.07245393742001471 | f1/_macro: 0.3837814188604459 | f1/_micro: 0.622802017584 | f1/_weighted: 0.4780435217384502 | loss: 0.6627686044626069 | loss/mean: 0.6627686044626069 | loss/std: 0.03427339080519774 | lr: 0.02 | momentum: 0.9 | precision/_macro: 0.3114035087719298 | precision/_micro: 0.6228070175438596 | precision/_weighted: 0.3878885811018775 | recall/_macro: 0.5 | recall/_micro: 0.6228070175438596 | recall/_weighted: 0.6228070175438597\n",
      "* Epoch (64/100) \n"
     ]
    },
    {
     "data": {
      "application/vnd.jupyter.widget-view+json": {
       "model_id": "3167ebd4d38b476a8b064654eec6be2c",
       "version_major": 2,
       "version_minor": 0
      },
      "text/plain": [
       "65/100 * Epoch (train):   0%|          | 0/15 [00:00<?, ?it/s]"
      ]
     },
     "metadata": {},
     "output_type": "display_data"
    },
    {
     "name": "stdout",
     "output_type": "stream",
     "text": [
      "train (65/100) accuracy01: 0.6285714288334271 | accuracy01/std: 0.07261251364278729 | f1/_macro: 0.38596254233526633 | f1/_micro: 0.6285664286112009 | f1/_weighted: 0.48521005322147764 | loss: 0.6636497652137673 | loss/mean: 0.6636497652137673 | loss/std: 0.02867841287264264 | lr: 0.02 | momentum: 0.9 | precision/_macro: 0.3142857142857143 | precision/_micro: 0.6285714285714286 | precision/_weighted: 0.3951020408163265 | recall/_macro: 0.5 | recall/_micro: 0.6285714285714286 | recall/_weighted: 0.6285714285714286\n"
     ]
    },
    {
     "data": {
      "application/vnd.jupyter.widget-view+json": {
       "model_id": "0c49d45df14b4b7f8605446f799c43fd",
       "version_major": 2,
       "version_minor": 0
      },
      "text/plain": [
       "65/100 * Epoch (valid):   0%|          | 0/4 [00:00<?, ?it/s]"
      ]
     },
     "metadata": {},
     "output_type": "display_data"
    },
    {
     "name": "stdout",
     "output_type": "stream",
     "text": [
      "valid (65/100) accuracy01: 0.6228070175438597 | accuracy01/std: 0.07245393742001471 | f1/_macro: 0.3837814188604459 | f1/_micro: 0.622802017584 | f1/_weighted: 0.4780435217384502 | loss: 0.6635644780962091 | loss/mean: 0.6635644780962091 | loss/std: 0.03004471928113165 | lr: 0.02 | momentum: 0.9 | precision/_macro: 0.3114035087719298 | precision/_micro: 0.6228070175438596 | precision/_weighted: 0.3878885811018775 | recall/_macro: 0.5 | recall/_micro: 0.6228070175438596 | recall/_weighted: 0.6228070175438597\n",
      "* Epoch (65/100) \n"
     ]
    },
    {
     "data": {
      "application/vnd.jupyter.widget-view+json": {
       "model_id": "e19b5600c0874bf3a4b2567145b40532",
       "version_major": 2,
       "version_minor": 0
      },
      "text/plain": [
       "66/100 * Epoch (train):   0%|          | 0/15 [00:00<?, ?it/s]"
      ]
     },
     "metadata": {},
     "output_type": "display_data"
    },
    {
     "name": "stdout",
     "output_type": "stream",
     "text": [
      "train (66/100) accuracy01: 0.6285714289644262 | accuracy01/std: 0.08953238399489996 | f1/_macro: 0.38596254233526633 | f1/_micro: 0.6285664286112009 | f1/_weighted: 0.48521005322147764 | loss: 0.6611282745560447 | loss/mean: 0.6611282745560447 | loss/std: 0.04718780544695684 | lr: 0.02 | momentum: 0.9 | precision/_macro: 0.3142857142857143 | precision/_micro: 0.6285714285714286 | precision/_weighted: 0.3951020408163265 | recall/_macro: 0.5 | recall/_micro: 0.6285714285714286 | recall/_weighted: 0.6285714285714286\n"
     ]
    },
    {
     "data": {
      "application/vnd.jupyter.widget-view+json": {
       "model_id": "349e8ffc12d949c19039ca653efb99b7",
       "version_major": 2,
       "version_minor": 0
      },
      "text/plain": [
       "66/100 * Epoch (valid):   0%|          | 0/4 [00:00<?, ?it/s]"
      ]
     },
     "metadata": {},
     "output_type": "display_data"
    },
    {
     "name": "stdout",
     "output_type": "stream",
     "text": [
      "valid (66/100) accuracy01: 0.6228070175438597 | accuracy01/std: 0.07245393742001471 | f1/_macro: 0.3837814188604459 | f1/_micro: 0.622802017584 | f1/_weighted: 0.4780435217384502 | loss: 0.6632894591281289 | loss/mean: 0.6632894591281289 | loss/std: 0.041598367245729 | lr: 0.02 | momentum: 0.9 | precision/_macro: 0.3114035087719298 | precision/_micro: 0.6228070175438596 | precision/_weighted: 0.3878885811018775 | recall/_macro: 0.5 | recall/_micro: 0.6228070175438596 | recall/_weighted: 0.6228070175438597\n",
      "* Epoch (66/100) \n"
     ]
    },
    {
     "data": {
      "application/vnd.jupyter.widget-view+json": {
       "model_id": "5d50123ad31c42d39751f8fbd97bcf11",
       "version_major": 2,
       "version_minor": 0
      },
      "text/plain": [
       "67/100 * Epoch (train):   0%|          | 0/15 [00:00<?, ?it/s]"
      ]
     },
     "metadata": {},
     "output_type": "display_data"
    },
    {
     "name": "stdout",
     "output_type": "stream",
     "text": [
      "train (67/100) accuracy01: 0.6285714287679274 | accuracy01/std: 0.11363536183633516 | f1/_macro: 0.38596254233526633 | f1/_micro: 0.6285664286112009 | f1/_weighted: 0.48521005322147764 | loss: 0.6603230782917568 | loss/mean: 0.6603230782917568 | loss/std: 0.06366369343298703 | lr: 0.02 | momentum: 0.9 | precision/_macro: 0.3142857142857143 | precision/_micro: 0.6285714285714286 | precision/_weighted: 0.3951020408163265 | recall/_macro: 0.5 | recall/_micro: 0.6285714285714286 | recall/_weighted: 0.6285714285714286\n"
     ]
    },
    {
     "data": {
      "application/vnd.jupyter.widget-view+json": {
       "model_id": "d324e21d90bf4d66abb23e8a05c83e53",
       "version_major": 2,
       "version_minor": 0
      },
      "text/plain": [
       "67/100 * Epoch (valid):   0%|          | 0/4 [00:00<?, ?it/s]"
      ]
     },
     "metadata": {},
     "output_type": "display_data"
    },
    {
     "name": "stdout",
     "output_type": "stream",
     "text": [
      "valid (67/100) accuracy01: 0.6228070175438597 | accuracy01/std: 0.07245393742001471 | f1/_macro: 0.3837814188604459 | f1/_micro: 0.622802017584 | f1/_weighted: 0.4780435217384502 | loss: 0.6628444142508926 | loss/mean: 0.6628444142508926 | loss/std: 0.039104347458985 | lr: 0.02 | momentum: 0.9 | precision/_macro: 0.3114035087719298 | precision/_micro: 0.6228070175438596 | precision/_weighted: 0.3878885811018775 | recall/_macro: 0.5 | recall/_micro: 0.6228070175438596 | recall/_weighted: 0.6228070175438597\n",
      "* Epoch (67/100) \n"
     ]
    },
    {
     "data": {
      "application/vnd.jupyter.widget-view+json": {
       "model_id": "d6a91c9d73634685a6094df1b1c5d3dc",
       "version_major": 2,
       "version_minor": 0
      },
      "text/plain": [
       "68/100 * Epoch (train):   0%|          | 0/15 [00:00<?, ?it/s]"
      ]
     },
     "metadata": {},
     "output_type": "display_data"
    },
    {
     "name": "stdout",
     "output_type": "stream",
     "text": [
      "train (68/100) accuracy01: 0.6285714296194223 | accuracy01/std: 0.06631304729081648 | f1/_macro: 0.38596254233526633 | f1/_micro: 0.6285664286112009 | f1/_weighted: 0.48521005322147764 | loss: 0.6597757991853652 | loss/mean: 0.6597757991853652 | loss/std: 0.03238034798809143 | lr: 0.02 | momentum: 0.9 | precision/_macro: 0.3142857142857143 | precision/_micro: 0.6285714285714286 | precision/_weighted: 0.3951020408163265 | recall/_macro: 0.5 | recall/_micro: 0.6285714285714286 | recall/_weighted: 0.6285714285714286\n"
     ]
    },
    {
     "data": {
      "application/vnd.jupyter.widget-view+json": {
       "model_id": "9576901b02ae4e9e8ae8c60d7d96e63e",
       "version_major": 2,
       "version_minor": 0
      },
      "text/plain": [
       "68/100 * Epoch (valid):   0%|          | 0/4 [00:00<?, ?it/s]"
      ]
     },
     "metadata": {},
     "output_type": "display_data"
    },
    {
     "name": "stdout",
     "output_type": "stream",
     "text": [
      "valid (68/100) accuracy01: 0.6228070175438597 | accuracy01/std: 0.07245393742001471 | f1/_macro: 0.3837814188604459 | f1/_micro: 0.622802017584 | f1/_weighted: 0.4780435217384502 | loss: 0.6628192380854958 | loss/mean: 0.6628192380854958 | loss/std: 0.033782599343241175 | lr: 0.02 | momentum: 0.9 | precision/_macro: 0.3114035087719298 | precision/_micro: 0.6228070175438596 | precision/_weighted: 0.3878885811018775 | recall/_macro: 0.5 | recall/_micro: 0.6228070175438596 | recall/_weighted: 0.6228070175438597\n",
      "* Epoch (68/100) \n"
     ]
    },
    {
     "data": {
      "application/vnd.jupyter.widget-view+json": {
       "model_id": "db2cd150138d4c2f853ff44c839728c3",
       "version_major": 2,
       "version_minor": 0
      },
      "text/plain": [
       "69/100 * Epoch (train):   0%|          | 0/15 [00:00<?, ?it/s]"
      ]
     },
     "metadata": {},
     "output_type": "display_data"
    },
    {
     "name": "stdout",
     "output_type": "stream",
     "text": [
      "train (69/100) accuracy01: 0.6285714296194224 | accuracy01/std: 0.0945535392401801 | f1/_macro: 0.38596254233526633 | f1/_micro: 0.6285664286112009 | f1/_weighted: 0.48521005322147764 | loss: 0.6609116068253151 | loss/mean: 0.6609116068253151 | loss/std: 0.04281962139011341 | lr: 0.02 | momentum: 0.9 | precision/_macro: 0.3142857142857143 | precision/_micro: 0.6285714285714286 | precision/_weighted: 0.3951020408163265 | recall/_macro: 0.5 | recall/_micro: 0.6285714285714286 | recall/_weighted: 0.6285714285714286\n"
     ]
    },
    {
     "data": {
      "application/vnd.jupyter.widget-view+json": {
       "model_id": "3002efa3d7e14a97a0b990b428e0274c",
       "version_major": 2,
       "version_minor": 0
      },
      "text/plain": [
       "69/100 * Epoch (valid):   0%|          | 0/4 [00:00<?, ?it/s]"
      ]
     },
     "metadata": {},
     "output_type": "display_data"
    },
    {
     "name": "stdout",
     "output_type": "stream",
     "text": [
      "valid (69/100) accuracy01: 0.6228070175438597 | accuracy01/std: 0.07245393742001471 | f1/_macro: 0.3837814188604459 | f1/_micro: 0.622802017584 | f1/_weighted: 0.4780435217384502 | loss: 0.6626732809501782 | loss/mean: 0.6626732809501782 | loss/std: 0.03627673446272076 | lr: 0.02 | momentum: 0.9 | precision/_macro: 0.3114035087719298 | precision/_micro: 0.6228070175438596 | precision/_weighted: 0.3878885811018775 | recall/_macro: 0.5 | recall/_micro: 0.6228070175438596 | recall/_weighted: 0.6228070175438597\n",
      "* Epoch (69/100) \n"
     ]
    },
    {
     "data": {
      "application/vnd.jupyter.widget-view+json": {
       "model_id": "eba10ace0fb348b784e1042afa75757c",
       "version_major": 2,
       "version_minor": 0
      },
      "text/plain": [
       "70/100 * Epoch (train):   0%|          | 0/15 [00:00<?, ?it/s]"
      ]
     },
     "metadata": {},
     "output_type": "display_data"
    },
    {
     "name": "stdout",
     "output_type": "stream",
     "text": [
      "train (70/100) accuracy01: 0.6285714290954255 | accuracy01/std: 0.07013259340998544 | f1/_macro: 0.38596254233526633 | f1/_micro: 0.6285664286112009 | f1/_weighted: 0.48521005322147764 | loss: 0.660982969567016 | loss/mean: 0.660982969567016 | loss/std: 0.04108980076471556 | lr: 0.02 | momentum: 0.9 | precision/_macro: 0.3142857142857143 | precision/_micro: 0.6285714285714286 | precision/_weighted: 0.3951020408163265 | recall/_macro: 0.5 | recall/_micro: 0.6285714285714286 | recall/_weighted: 0.6285714285714286\n"
     ]
    },
    {
     "data": {
      "application/vnd.jupyter.widget-view+json": {
       "model_id": "db2d6987ba29445fb92eaffd45cc2303",
       "version_major": 2,
       "version_minor": 0
      },
      "text/plain": [
       "70/100 * Epoch (valid):   0%|          | 0/4 [00:00<?, ?it/s]"
      ]
     },
     "metadata": {},
     "output_type": "display_data"
    },
    {
     "name": "stdout",
     "output_type": "stream",
     "text": [
      "valid (70/100) accuracy01: 0.6228070175438597 | accuracy01/std: 0.07245393742001471 | f1/_macro: 0.3837814188604459 | f1/_micro: 0.622802017584 | f1/_weighted: 0.4780435217384502 | loss: 0.6647309263547262 | loss/mean: 0.6647309263547262 | loss/std: 0.0459796444040378 | lr: 0.02 | momentum: 0.9 | precision/_macro: 0.3114035087719298 | precision/_micro: 0.6228070175438596 | precision/_weighted: 0.3878885811018775 | recall/_macro: 0.5 | recall/_micro: 0.6228070175438596 | recall/_weighted: 0.6228070175438597\n",
      "* Epoch (70/100) \n"
     ]
    },
    {
     "data": {
      "application/vnd.jupyter.widget-view+json": {
       "model_id": "d0caf161e2f64ef7a804783825fc3bf9",
       "version_major": 2,
       "version_minor": 0
      },
      "text/plain": [
       "71/100 * Epoch (train):   0%|          | 0/15 [00:00<?, ?it/s]"
      ]
     },
     "metadata": {},
     "output_type": "display_data"
    },
    {
     "name": "stdout",
     "output_type": "stream",
     "text": [
      "train (71/100) accuracy01: 0.6285714290954254 | accuracy01/std: 0.08758929514026266 | f1/_macro: 0.38596254233526633 | f1/_micro: 0.6285664286112009 | f1/_weighted: 0.48521005322147764 | loss: 0.6615511936145824 | loss/mean: 0.6615511936145824 | loss/std: 0.04817234367676981 | lr: 0.02 | momentum: 0.9 | precision/_macro: 0.3142857142857143 | precision/_micro: 0.6285714285714286 | precision/_weighted: 0.3951020408163265 | recall/_macro: 0.5 | recall/_micro: 0.6285714285714286 | recall/_weighted: 0.6285714285714286\n"
     ]
    },
    {
     "data": {
      "application/vnd.jupyter.widget-view+json": {
       "model_id": "d5ab307481344484bb4de218d946dbf1",
       "version_major": 2,
       "version_minor": 0
      },
      "text/plain": [
       "71/100 * Epoch (valid):   0%|          | 0/4 [00:00<?, ?it/s]"
      ]
     },
     "metadata": {},
     "output_type": "display_data"
    },
    {
     "name": "stdout",
     "output_type": "stream",
     "text": [
      "valid (71/100) accuracy01: 0.6228070175438597 | accuracy01/std: 0.07245393742001471 | f1/_macro: 0.3837814188604459 | f1/_micro: 0.622802017584 | f1/_weighted: 0.4780435217384502 | loss: 0.6626781999019155 | loss/mean: 0.6626781999019155 | loss/std: 0.03680665117954219 | lr: 0.02 | momentum: 0.9 | precision/_macro: 0.3114035087719298 | precision/_micro: 0.6228070175438596 | precision/_weighted: 0.3878885811018775 | recall/_macro: 0.5 | recall/_micro: 0.6228070175438596 | recall/_weighted: 0.6228070175438597\n",
      "* Epoch (71/100) \n"
     ]
    },
    {
     "data": {
      "application/vnd.jupyter.widget-view+json": {
       "model_id": "7fdd3286561e4a07bae11380cd4d9656",
       "version_major": 2,
       "version_minor": 0
      },
      "text/plain": [
       "72/100 * Epoch (train):   0%|          | 0/15 [00:00<?, ?it/s]"
      ]
     },
     "metadata": {},
     "output_type": "display_data"
    },
    {
     "name": "stdout",
     "output_type": "stream",
     "text": [
      "train (72/100) accuracy01: 0.6285714288334271 | accuracy01/std: 0.10644174867029818 | f1/_macro: 0.38596254233526633 | f1/_micro: 0.6285664286112009 | f1/_weighted: 0.48521005322147764 | loss: 0.6607637119817209 | loss/mean: 0.6607637119817209 | loss/std: 0.0517899198575305 | lr: 0.02 | momentum: 0.9 | precision/_macro: 0.3142857142857143 | precision/_micro: 0.6285714285714286 | precision/_weighted: 0.3951020408163265 | recall/_macro: 0.5 | recall/_micro: 0.6285714285714286 | recall/_weighted: 0.6285714285714286\n"
     ]
    },
    {
     "data": {
      "application/vnd.jupyter.widget-view+json": {
       "model_id": "f3d8aabcbb0546c2ba4fda6cf39561f5",
       "version_major": 2,
       "version_minor": 0
      },
      "text/plain": [
       "72/100 * Epoch (valid):   0%|          | 0/4 [00:00<?, ?it/s]"
      ]
     },
     "metadata": {},
     "output_type": "display_data"
    },
    {
     "name": "stdout",
     "output_type": "stream",
     "text": [
      "valid (72/100) accuracy01: 0.6228070175438597 | accuracy01/std: 0.07245393742001471 | f1/_macro: 0.3837814188604459 | f1/_micro: 0.622802017584 | f1/_weighted: 0.4780435217384502 | loss: 0.6626791546219274 | loss/mean: 0.6626791546219274 | loss/std: 0.03581897835553168 | lr: 0.02 | momentum: 0.9 | precision/_macro: 0.3114035087719298 | precision/_micro: 0.6228070175438596 | precision/_weighted: 0.3878885811018775 | recall/_macro: 0.5 | recall/_micro: 0.6228070175438596 | recall/_weighted: 0.6228070175438597\n",
      "* Epoch (72/100) \n"
     ]
    },
    {
     "data": {
      "application/vnd.jupyter.widget-view+json": {
       "model_id": "a51c058252e64fbc849ff01c9fa663a2",
       "version_major": 2,
       "version_minor": 0
      },
      "text/plain": [
       "73/100 * Epoch (train):   0%|          | 0/15 [00:00<?, ?it/s]"
      ]
     },
     "metadata": {},
     "output_type": "display_data"
    },
    {
     "name": "stdout",
     "output_type": "stream",
     "text": [
      "train (73/100) accuracy01: 0.6285714290954254 | accuracy01/std: 0.08190377424455385 | f1/_macro: 0.38596254233526633 | f1/_micro: 0.6285664286112009 | f1/_weighted: 0.48521005322147764 | loss: 0.6600703907536934 | loss/mean: 0.6600703907536934 | loss/std: 0.043431103463094645 | lr: 0.02 | momentum: 0.9 | precision/_macro: 0.3142857142857143 | precision/_micro: 0.6285714285714286 | precision/_weighted: 0.3951020408163265 | recall/_macro: 0.5 | recall/_micro: 0.6285714285714286 | recall/_weighted: 0.6285714285714286\n"
     ]
    },
    {
     "data": {
      "application/vnd.jupyter.widget-view+json": {
       "model_id": "34b80ef5c99a463bacd74e5250e513f3",
       "version_major": 2,
       "version_minor": 0
      },
      "text/plain": [
       "73/100 * Epoch (valid):   0%|          | 0/4 [00:00<?, ?it/s]"
      ]
     },
     "metadata": {},
     "output_type": "display_data"
    },
    {
     "name": "stdout",
     "output_type": "stream",
     "text": [
      "valid (73/100) accuracy01: 0.6228070175438597 | accuracy01/std: 0.07245393742001471 | f1/_macro: 0.3837814188604459 | f1/_micro: 0.622802017584 | f1/_weighted: 0.4780435217384502 | loss: 0.6628476234904507 | loss/mean: 0.6628476234904507 | loss/std: 0.03913131156102499 | lr: 0.02 | momentum: 0.9 | precision/_macro: 0.3114035087719298 | precision/_micro: 0.6228070175438596 | precision/_weighted: 0.3878885811018775 | recall/_macro: 0.5 | recall/_micro: 0.6228070175438596 | recall/_weighted: 0.6228070175438597\n",
      "* Epoch (73/100) \n"
     ]
    },
    {
     "data": {
      "application/vnd.jupyter.widget-view+json": {
       "model_id": "eaa80a9fe1c044fda9550c71501c0f51",
       "version_major": 2,
       "version_minor": 0
      },
      "text/plain": [
       "74/100 * Epoch (train):   0%|          | 0/15 [00:00<?, ?it/s]"
      ]
     },
     "metadata": {},
     "output_type": "display_data"
    },
    {
     "name": "stdout",
     "output_type": "stream",
     "text": [
      "train (74/100) accuracy01: 0.6285714289644262 | accuracy01/std: 0.07890754214089878 | f1/_macro: 0.38596254233526633 | f1/_micro: 0.6285664286112009 | f1/_weighted: 0.48521005322147764 | loss: 0.6613366948379265 | loss/mean: 0.6613366948379265 | loss/std: 0.03789589736372322 | lr: 0.02 | momentum: 0.9 | precision/_macro: 0.3142857142857143 | precision/_micro: 0.6285714285714286 | precision/_weighted: 0.3951020408163265 | recall/_macro: 0.5 | recall/_micro: 0.6285714285714286 | recall/_weighted: 0.6285714285714286\n"
     ]
    },
    {
     "data": {
      "application/vnd.jupyter.widget-view+json": {
       "model_id": "84c4d84140bb49d794f953f6fa504611",
       "version_major": 2,
       "version_minor": 0
      },
      "text/plain": [
       "74/100 * Epoch (valid):   0%|          | 0/4 [00:00<?, ?it/s]"
      ]
     },
     "metadata": {},
     "output_type": "display_data"
    },
    {
     "name": "stdout",
     "output_type": "stream",
     "text": [
      "valid (74/100) accuracy01: 0.6228070175438597 | accuracy01/std: 0.07245393742001471 | f1/_macro: 0.3837814188604459 | f1/_micro: 0.622802017584 | f1/_weighted: 0.4780435217384502 | loss: 0.6626732464422259 | loss/mean: 0.6626732464422259 | loss/std: 0.03637321737800227 | lr: 0.02 | momentum: 0.9 | precision/_macro: 0.3114035087719298 | precision/_micro: 0.6228070175438596 | precision/_weighted: 0.3878885811018775 | recall/_macro: 0.5 | recall/_micro: 0.6228070175438596 | recall/_weighted: 0.6228070175438597\n",
      "* Epoch (74/100) \n"
     ]
    },
    {
     "data": {
      "application/vnd.jupyter.widget-view+json": {
       "model_id": "1153e7560cbd48b5859e53a2241d97c1",
       "version_major": 2,
       "version_minor": 0
      },
      "text/plain": [
       "75/100 * Epoch (train):   0%|          | 0/15 [00:00<?, ?it/s]"
      ]
     },
     "metadata": {},
     "output_type": "display_data"
    },
    {
     "name": "stdout",
     "output_type": "stream",
     "text": [
      "train (75/100) accuracy01: 0.628571428669678 | accuracy01/std: 0.09121884572270747 | f1/_macro: 0.38596254233526633 | f1/_micro: 0.6285664286112009 | f1/_weighted: 0.48521005322147764 | loss: 0.6608012559649709 | loss/mean: 0.6608012559649709 | loss/std: 0.0504301001789444 | lr: 0.02 | momentum: 0.9 | precision/_macro: 0.3142857142857143 | precision/_micro: 0.6285714285714286 | precision/_weighted: 0.3951020408163265 | recall/_macro: 0.5 | recall/_micro: 0.6285714285714286 | recall/_weighted: 0.6285714285714286\n"
     ]
    },
    {
     "data": {
      "application/vnd.jupyter.widget-view+json": {
       "model_id": "10e7fdca4eb647429aea176f76ef8f74",
       "version_major": 2,
       "version_minor": 0
      },
      "text/plain": [
       "75/100 * Epoch (valid):   0%|          | 0/4 [00:00<?, ?it/s]"
      ]
     },
     "metadata": {},
     "output_type": "display_data"
    },
    {
     "name": "stdout",
     "output_type": "stream",
     "text": [
      "valid (75/100) accuracy01: 0.6228070175438597 | accuracy01/std: 0.07245393742001471 | f1/_macro: 0.3837814188604459 | f1/_micro: 0.622802017584 | f1/_weighted: 0.4780435217384502 | loss: 0.6628858551644443 | loss/mean: 0.6628858551644443 | loss/std: 0.039422472672214486 | lr: 0.02 | momentum: 0.9 | precision/_macro: 0.3114035087719298 | precision/_micro: 0.6228070175438596 | precision/_weighted: 0.3878885811018775 | recall/_macro: 0.5 | recall/_micro: 0.6228070175438596 | recall/_weighted: 0.6228070175438597\n",
      "* Epoch (75/100) \n"
     ]
    },
    {
     "data": {
      "application/vnd.jupyter.widget-view+json": {
       "model_id": "2510c1d999cb4a9992afa848b4ebe1af",
       "version_major": 2,
       "version_minor": 0
      },
      "text/plain": [
       "76/100 * Epoch (train):   0%|          | 0/15 [00:00<?, ?it/s]"
      ]
     },
     "metadata": {},
     "output_type": "display_data"
    },
    {
     "name": "stdout",
     "output_type": "stream",
     "text": [
      "train (76/100) accuracy01: 0.6285714289644263 | accuracy01/std: 0.08560211324856876 | f1/_macro: 0.38596254233526633 | f1/_micro: 0.6285664286112009 | f1/_weighted: 0.48521005322147764 | loss: 0.6593009651362242 | loss/mean: 0.6593009651362242 | loss/std: 0.04174611008823161 | lr: 0.02 | momentum: 0.9 | precision/_macro: 0.3142857142857143 | precision/_micro: 0.6285714285714286 | precision/_weighted: 0.3951020408163265 | recall/_macro: 0.5 | recall/_micro: 0.6285714285714286 | recall/_weighted: 0.6285714285714286\n"
     ]
    },
    {
     "data": {
      "application/vnd.jupyter.widget-view+json": {
       "model_id": "63193c79501749c29aca56aad69744af",
       "version_major": 2,
       "version_minor": 0
      },
      "text/plain": [
       "76/100 * Epoch (valid):   0%|          | 0/4 [00:00<?, ?it/s]"
      ]
     },
     "metadata": {},
     "output_type": "display_data"
    },
    {
     "name": "stdout",
     "output_type": "stream",
     "text": [
      "valid (76/100) accuracy01: 0.6228070175438597 | accuracy01/std: 0.07245393742001471 | f1/_macro: 0.3837814188604459 | f1/_micro: 0.622802017584 | f1/_weighted: 0.4780435217384502 | loss: 0.6633333166440328 | loss/mean: 0.6633333166440328 | loss/std: 0.030918609408420356 | lr: 0.02 | momentum: 0.9 | precision/_macro: 0.3114035087719298 | precision/_micro: 0.6228070175438596 | precision/_weighted: 0.3878885811018775 | recall/_macro: 0.5 | recall/_micro: 0.6228070175438596 | recall/_weighted: 0.6228070175438597\n",
      "* Epoch (76/100) \n"
     ]
    },
    {
     "data": {
      "application/vnd.jupyter.widget-view+json": {
       "model_id": "9ca77569258241ac9b9a042ad0bf1047",
       "version_major": 2,
       "version_minor": 0
      },
      "text/plain": [
       "77/100 * Epoch (train):   0%|          | 0/15 [00:00<?, ?it/s]"
      ]
     },
     "metadata": {},
     "output_type": "display_data"
    },
    {
     "name": "stdout",
     "output_type": "stream",
     "text": [
      "train (77/100) accuracy01: 0.6285714288334272 | accuracy01/std: 0.07261251364278726 | f1/_macro: 0.38596254233526633 | f1/_micro: 0.6285664286112009 | f1/_weighted: 0.48521005322147764 | loss: 0.6609384966420604 | loss/mean: 0.6609384966420604 | loss/std: 0.033495402389069895 | lr: 0.02 | momentum: 0.9 | precision/_macro: 0.3142857142857143 | precision/_micro: 0.6285714285714286 | precision/_weighted: 0.3951020408163265 | recall/_macro: 0.5 | recall/_micro: 0.6285714285714286 | recall/_weighted: 0.6285714285714286\n"
     ]
    },
    {
     "data": {
      "application/vnd.jupyter.widget-view+json": {
       "model_id": "8c521451e7044458b428396460e04eb7",
       "version_major": 2,
       "version_minor": 0
      },
      "text/plain": [
       "77/100 * Epoch (valid):   0%|          | 0/4 [00:00<?, ?it/s]"
      ]
     },
     "metadata": {},
     "output_type": "display_data"
    },
    {
     "name": "stdout",
     "output_type": "stream",
     "text": [
      "valid (77/100) accuracy01: 0.6228070175438597 | accuracy01/std: 0.07245393742001471 | f1/_macro: 0.3837814188604459 | f1/_micro: 0.622802017584 | f1/_weighted: 0.4780435217384502 | loss: 0.6627153105903091 | loss/mean: 0.6627153105903091 | loss/std: 0.03496379026661776 | lr: 0.02 | momentum: 0.9 | precision/_macro: 0.3114035087719298 | precision/_micro: 0.6228070175438596 | precision/_weighted: 0.3878885811018775 | recall/_macro: 0.5 | recall/_micro: 0.6228070175438596 | recall/_weighted: 0.6228070175438597\n",
      "* Epoch (77/100) \n"
     ]
    },
    {
     "data": {
      "application/vnd.jupyter.widget-view+json": {
       "model_id": "9cfdd510b34941f4976ead469e9ab2bd",
       "version_major": 2,
       "version_minor": 0
      },
      "text/plain": [
       "78/100 * Epoch (train):   0%|          | 0/15 [00:00<?, ?it/s]"
      ]
     },
     "metadata": {},
     "output_type": "display_data"
    },
    {
     "name": "stdout",
     "output_type": "stream",
     "text": [
      "train (78/100) accuracy01: 0.6285714296194224 | accuracy01/std: 0.0981259281435529 | f1/_macro: 0.38596254233526633 | f1/_micro: 0.6285664286112009 | f1/_weighted: 0.48521005322147764 | loss: 0.6602883620576543 | loss/mean: 0.6602883620576543 | loss/std: 0.04838952395598122 | lr: 0.02 | momentum: 0.9 | precision/_macro: 0.3142857142857143 | precision/_micro: 0.6285714285714286 | precision/_weighted: 0.3951020408163265 | recall/_macro: 0.5 | recall/_micro: 0.6285714285714286 | recall/_weighted: 0.6285714285714286\n"
     ]
    },
    {
     "data": {
      "application/vnd.jupyter.widget-view+json": {
       "model_id": "eeaddcea901d460cbf97488b729fa8cb",
       "version_major": 2,
       "version_minor": 0
      },
      "text/plain": [
       "78/100 * Epoch (valid):   0%|          | 0/4 [00:00<?, ?it/s]"
      ]
     },
     "metadata": {},
     "output_type": "display_data"
    },
    {
     "name": "stdout",
     "output_type": "stream",
     "text": [
      "valid (78/100) accuracy01: 0.6228070175438597 | accuracy01/std: 0.07245393742001471 | f1/_macro: 0.3837814188604459 | f1/_micro: 0.622802017584 | f1/_weighted: 0.4780435217384502 | loss: 0.6626749854338797 | loss/mean: 0.6626749854338797 | loss/std: 0.03661886714751571 | lr: 0.02 | momentum: 0.9 | precision/_macro: 0.3114035087719298 | precision/_micro: 0.6228070175438596 | precision/_weighted: 0.3878885811018775 | recall/_macro: 0.5 | recall/_micro: 0.6228070175438596 | recall/_weighted: 0.6228070175438597\n",
      "* Epoch (78/100) \n"
     ]
    },
    {
     "data": {
      "application/vnd.jupyter.widget-view+json": {
       "model_id": "e6cb70e6df094de693780f34608977bc",
       "version_major": 2,
       "version_minor": 0
      },
      "text/plain": [
       "79/100 * Epoch (train):   0%|          | 0/15 [00:00<?, ?it/s]"
      ]
     },
     "metadata": {},
     "output_type": "display_data"
    },
    {
     "name": "stdout",
     "output_type": "stream",
     "text": [
      "train (79/100) accuracy01: 0.6285714288334271 | accuracy01/std: 0.06351055308673509 | f1/_macro: 0.38596254233526633 | f1/_micro: 0.6285664286112009 | f1/_weighted: 0.48521005322147764 | loss: 0.6606924121196454 | loss/mean: 0.6606924121196454 | loss/std: 0.036122498203716005 | lr: 0.02 | momentum: 0.9 | precision/_macro: 0.3142857142857143 | precision/_micro: 0.6285714285714286 | precision/_weighted: 0.3951020408163265 | recall/_macro: 0.5 | recall/_micro: 0.6285714285714286 | recall/_weighted: 0.6285714285714286\n"
     ]
    },
    {
     "data": {
      "application/vnd.jupyter.widget-view+json": {
       "model_id": "e55c3653bd384663b30f765a5246308f",
       "version_major": 2,
       "version_minor": 0
      },
      "text/plain": [
       "79/100 * Epoch (valid):   0%|          | 0/4 [00:00<?, ?it/s]"
      ]
     },
     "metadata": {},
     "output_type": "display_data"
    },
    {
     "name": "stdout",
     "output_type": "stream",
     "text": [
      "valid (79/100) accuracy01: 0.6228070175438597 | accuracy01/std: 0.07245393742001471 | f1/_macro: 0.3837814188604459 | f1/_micro: 0.622802017584 | f1/_weighted: 0.4780435217384502 | loss: 0.663571788553606 | loss/mean: 0.663571788553606 | loss/std: 0.04269521354446345 | lr: 0.02 | momentum: 0.9 | precision/_macro: 0.3114035087719298 | precision/_micro: 0.6228070175438596 | precision/_weighted: 0.3878885811018775 | recall/_macro: 0.5 | recall/_micro: 0.6228070175438596 | recall/_weighted: 0.6228070175438597\n",
      "* Epoch (79/100) \n"
     ]
    },
    {
     "data": {
      "application/vnd.jupyter.widget-view+json": {
       "model_id": "3b41dd2047e743c981edf003deeacf82",
       "version_major": 2,
       "version_minor": 0
      },
      "text/plain": [
       "80/100 * Epoch (train):   0%|          | 0/15 [00:00<?, ?it/s]"
      ]
     },
     "metadata": {},
     "output_type": "display_data"
    },
    {
     "name": "stdout",
     "output_type": "stream",
     "text": [
      "train (80/100) accuracy01: 0.6285714288334271 | accuracy01/std: 0.07355434953666473 | f1/_macro: 0.38596254233526633 | f1/_micro: 0.6285664286112009 | f1/_weighted: 0.48521005322147764 | loss: 0.6602364525690184 | loss/mean: 0.6602364525690184 | loss/std: 0.04297932394915574 | lr: 0.02 | momentum: 0.9 | precision/_macro: 0.3142857142857143 | precision/_micro: 0.6285714285714286 | precision/_weighted: 0.3951020408163265 | recall/_macro: 0.5 | recall/_micro: 0.6285714285714286 | recall/_weighted: 0.6285714285714286\n"
     ]
    },
    {
     "data": {
      "application/vnd.jupyter.widget-view+json": {
       "model_id": "b4ff5b9ee2fb40749534db30c5435427",
       "version_major": 2,
       "version_minor": 0
      },
      "text/plain": [
       "80/100 * Epoch (valid):   0%|          | 0/4 [00:00<?, ?it/s]"
      ]
     },
     "metadata": {},
     "output_type": "display_data"
    },
    {
     "name": "stdout",
     "output_type": "stream",
     "text": [
      "valid (80/100) accuracy01: 0.6228070175438597 | accuracy01/std: 0.07245393742001471 | f1/_macro: 0.3837814188604459 | f1/_micro: 0.622802017584 | f1/_weighted: 0.4780435217384502 | loss: 0.6630831915035582 | loss/mean: 0.6630831915035582 | loss/std: 0.04062494459126343 | lr: 0.02 | momentum: 0.9 | precision/_macro: 0.3114035087719298 | precision/_micro: 0.6228070175438596 | precision/_weighted: 0.3878885811018775 | recall/_macro: 0.5 | recall/_micro: 0.6228070175438596 | recall/_weighted: 0.6228070175438597\n",
      "* Epoch (80/100) \n"
     ]
    },
    {
     "data": {
      "application/vnd.jupyter.widget-view+json": {
       "model_id": "147571b839b048b88e4f0d8f5d313d7b",
       "version_major": 2,
       "version_minor": 0
      },
      "text/plain": [
       "81/100 * Epoch (train):   0%|          | 0/15 [00:00<?, ?it/s]"
      ]
     },
     "metadata": {},
     "output_type": "display_data"
    },
    {
     "name": "stdout",
     "output_type": "stream",
     "text": [
      "train (81/100) accuracy01: 0.6285714288334271 | accuracy01/std: 0.09111098451206334 | f1/_macro: 0.38596254233526633 | f1/_micro: 0.6285664286112009 | f1/_weighted: 0.48521005322147764 | loss: 0.6599017551967077 | loss/mean: 0.6599017551967077 | loss/std: 0.05046143571877915 | lr: 0.02 | momentum: 0.9 | precision/_macro: 0.3142857142857143 | precision/_micro: 0.6285714285714286 | precision/_weighted: 0.3951020408163265 | recall/_macro: 0.5 | recall/_micro: 0.6285714285714286 | recall/_weighted: 0.6285714285714286\n"
     ]
    },
    {
     "data": {
      "application/vnd.jupyter.widget-view+json": {
       "model_id": "44fa7af857e0477482d5199a8b1e3ed4",
       "version_major": 2,
       "version_minor": 0
      },
      "text/plain": [
       "81/100 * Epoch (valid):   0%|          | 0/4 [00:00<?, ?it/s]"
      ]
     },
     "metadata": {},
     "output_type": "display_data"
    },
    {
     "name": "stdout",
     "output_type": "stream",
     "text": [
      "valid (81/100) accuracy01: 0.6228070175438597 | accuracy01/std: 0.07245393742001471 | f1/_macro: 0.3837814188604459 | f1/_micro: 0.622802017584 | f1/_weighted: 0.4780435217384502 | loss: 0.6628498853298656 | loss/mean: 0.6628498853298656 | loss/std: 0.03914894597341138 | lr: 0.02 | momentum: 0.9 | precision/_macro: 0.3114035087719298 | precision/_micro: 0.6228070175438596 | precision/_weighted: 0.3878885811018775 | recall/_macro: 0.5 | recall/_micro: 0.6228070175438596 | recall/_weighted: 0.6228070175438597\n",
      "* Epoch (81/100) \n"
     ]
    },
    {
     "data": {
      "application/vnd.jupyter.widget-view+json": {
       "model_id": "cc04765e2a6949a38183b4b19e1820bd",
       "version_major": 2,
       "version_minor": 0
      },
      "text/plain": [
       "82/100 * Epoch (train):   0%|          | 0/15 [00:00<?, ?it/s]"
      ]
     },
     "metadata": {},
     "output_type": "display_data"
    },
    {
     "name": "stdout",
     "output_type": "stream",
     "text": [
      "train (82/100) accuracy01: 0.6285714289644263 | accuracy01/std: 0.062338526102833504 | f1/_macro: 0.38596254233526633 | f1/_micro: 0.6285664286112009 | f1/_weighted: 0.48521005322147764 | loss: 0.6603612974449828 | loss/mean: 0.6603612974449828 | loss/std: 0.03226013508189765 | lr: 0.02 | momentum: 0.9 | precision/_macro: 0.3142857142857143 | precision/_micro: 0.6285714285714286 | precision/_weighted: 0.3951020408163265 | recall/_macro: 0.5 | recall/_micro: 0.6285714285714286 | recall/_weighted: 0.6285714285714286\n"
     ]
    },
    {
     "data": {
      "application/vnd.jupyter.widget-view+json": {
       "model_id": "986fb52c68a34732a353db4c324f9795",
       "version_major": 2,
       "version_minor": 0
      },
      "text/plain": [
       "82/100 * Epoch (valid):   0%|          | 0/4 [00:00<?, ?it/s]"
      ]
     },
     "metadata": {},
     "output_type": "display_data"
    },
    {
     "name": "stdout",
     "output_type": "stream",
     "text": [
      "valid (82/100) accuracy01: 0.6228070175438597 | accuracy01/std: 0.07245393742001471 | f1/_macro: 0.3837814188604459 | f1/_micro: 0.622802017584 | f1/_weighted: 0.4780435217384502 | loss: 0.6627452509445056 | loss/mean: 0.6627452509445056 | loss/std: 0.03813042081455425 | lr: 0.02 | momentum: 0.9 | precision/_macro: 0.3114035087719298 | precision/_micro: 0.6228070175438596 | precision/_weighted: 0.3878885811018775 | recall/_macro: 0.5 | recall/_micro: 0.6228070175438596 | recall/_weighted: 0.6228070175438597\n",
      "* Epoch (82/100) \n"
     ]
    },
    {
     "data": {
      "application/vnd.jupyter.widget-view+json": {
       "model_id": "07ccaabb857141408c8ccd103d7d03ed",
       "version_major": 2,
       "version_minor": 0
      },
      "text/plain": [
       "83/100 * Epoch (train):   0%|          | 0/15 [00:00<?, ?it/s]"
      ]
     },
     "metadata": {},
     "output_type": "display_data"
    },
    {
     "name": "stdout",
     "output_type": "stream",
     "text": [
      "train (83/100) accuracy01: 0.628571428833427 | accuracy01/std: 0.07720688524162461 | f1/_macro: 0.38596254233526633 | f1/_micro: 0.6285664286112009 | f1/_weighted: 0.48521005322147764 | loss: 0.6604372986070401 | loss/mean: 0.6604372986070401 | loss/std: 0.038794262123216836 | lr: 0.02 | momentum: 0.9 | precision/_macro: 0.3142857142857143 | precision/_micro: 0.6285714285714286 | precision/_weighted: 0.3951020408163265 | recall/_macro: 0.5 | recall/_micro: 0.6285714285714286 | recall/_weighted: 0.6285714285714286\n"
     ]
    },
    {
     "data": {
      "application/vnd.jupyter.widget-view+json": {
       "model_id": "99d258ffec2e480fa9f99b3c1a23071c",
       "version_major": 2,
       "version_minor": 0
      },
      "text/plain": [
       "83/100 * Epoch (valid):   0%|          | 0/4 [00:00<?, ?it/s]"
      ]
     },
     "metadata": {},
     "output_type": "display_data"
    },
    {
     "name": "stdout",
     "output_type": "stream",
     "text": [
      "valid (83/100) accuracy01: 0.6228070175438597 | accuracy01/std: 0.07245393742001471 | f1/_macro: 0.3837814188604459 | f1/_micro: 0.622802017584 | f1/_weighted: 0.4780435217384502 | loss: 0.6626850701214974 | loss/mean: 0.6626850701214974 | loss/std: 0.03706178863050156 | lr: 0.02 | momentum: 0.9 | precision/_macro: 0.3114035087719298 | precision/_micro: 0.6228070175438596 | precision/_weighted: 0.3878885811018775 | recall/_macro: 0.5 | recall/_micro: 0.6228070175438596 | recall/_weighted: 0.6228070175438597\n",
      "* Epoch (83/100) \n"
     ]
    },
    {
     "data": {
      "application/vnd.jupyter.widget-view+json": {
       "model_id": "b2a9b49359f3424ab40628a784056c80",
       "version_major": 2,
       "version_minor": 0
      },
      "text/plain": [
       "84/100 * Epoch (train):   0%|          | 0/15 [00:00<?, ?it/s]"
      ]
     },
     "metadata": {},
     "output_type": "display_data"
    },
    {
     "name": "stdout",
     "output_type": "stream",
     "text": [
      "train (84/100) accuracy01: 0.628571428833427 | accuracy01/std: 0.12322528722081244 | f1/_macro: 0.38596254233526633 | f1/_micro: 0.6285664286112009 | f1/_weighted: 0.48521005322147764 | loss: 0.6602933869257078 | loss/mean: 0.6602933869257078 | loss/std: 0.062281339170319416 | lr: 0.02 | momentum: 0.9 | precision/_macro: 0.3142857142857143 | precision/_micro: 0.6285714285714286 | precision/_weighted: 0.3951020408163265 | recall/_macro: 0.5 | recall/_micro: 0.6285714285714286 | recall/_weighted: 0.6285714285714286\n"
     ]
    },
    {
     "data": {
      "application/vnd.jupyter.widget-view+json": {
       "model_id": "8396e34101af415c89e546adb66880ea",
       "version_major": 2,
       "version_minor": 0
      },
      "text/plain": [
       "84/100 * Epoch (valid):   0%|          | 0/4 [00:00<?, ?it/s]"
      ]
     },
     "metadata": {},
     "output_type": "display_data"
    },
    {
     "name": "stdout",
     "output_type": "stream",
     "text": [
      "valid (84/100) accuracy01: 0.6228070175438597 | accuracy01/std: 0.07245393742001471 | f1/_macro: 0.3837814188604459 | f1/_micro: 0.622802017584 | f1/_weighted: 0.4780435217384502 | loss: 0.6627547029863324 | loss/mean: 0.6627547029863324 | loss/std: 0.038244399436413036 | lr: 0.02 | momentum: 0.9 | precision/_macro: 0.3114035087719298 | precision/_micro: 0.6228070175438596 | precision/_weighted: 0.3878885811018775 | recall/_macro: 0.5 | recall/_micro: 0.6228070175438596 | recall/_weighted: 0.6228070175438597\n",
      "* Epoch (84/100) \n"
     ]
    },
    {
     "data": {
      "application/vnd.jupyter.widget-view+json": {
       "model_id": "59354d5248934846a94cf9242d4511ac",
       "version_major": 2,
       "version_minor": 0
      },
      "text/plain": [
       "85/100 * Epoch (train):   0%|          | 0/15 [00:00<?, ?it/s]"
      ]
     },
     "metadata": {},
     "output_type": "display_data"
    },
    {
     "name": "stdout",
     "output_type": "stream",
     "text": [
      "train (85/100) accuracy01: 0.6285714289644262 | accuracy01/std: 0.06763444261515789 | f1/_macro: 0.38596254233526633 | f1/_micro: 0.6285664286112009 | f1/_weighted: 0.48521005322147764 | loss: 0.6601802084472154 | loss/mean: 0.6601802084472154 | loss/std: 0.039230010229287134 | lr: 0.02 | momentum: 0.9 | precision/_macro: 0.3142857142857143 | precision/_micro: 0.6285714285714286 | precision/_weighted: 0.3951020408163265 | recall/_macro: 0.5 | recall/_micro: 0.6285714285714286 | recall/_weighted: 0.6285714285714286\n"
     ]
    },
    {
     "data": {
      "application/vnd.jupyter.widget-view+json": {
       "model_id": "89c90089fa0549b5baefc47212e6e7cc",
       "version_major": 2,
       "version_minor": 0
      },
      "text/plain": [
       "85/100 * Epoch (valid):   0%|          | 0/4 [00:00<?, ?it/s]"
      ]
     },
     "metadata": {},
     "output_type": "display_data"
    },
    {
     "name": "stdout",
     "output_type": "stream",
     "text": [
      "valid (85/100) accuracy01: 0.6228070175438597 | accuracy01/std: 0.07245393742001471 | f1/_macro: 0.3837814188604459 | f1/_micro: 0.622802017584 | f1/_weighted: 0.4780435217384502 | loss: 0.6638753999743545 | loss/mean: 0.6638753999743545 | loss/std: 0.04369623673838753 | lr: 0.02 | momentum: 0.9 | precision/_macro: 0.3114035087719298 | precision/_micro: 0.6228070175438596 | precision/_weighted: 0.3878885811018775 | recall/_macro: 0.5 | recall/_micro: 0.6228070175438596 | recall/_weighted: 0.6228070175438597\n",
      "* Epoch (85/100) \n"
     ]
    },
    {
     "data": {
      "application/vnd.jupyter.widget-view+json": {
       "model_id": "b577e7b2e34a4739bbafcd9e0fc2b39e",
       "version_major": 2,
       "version_minor": 0
      },
      "text/plain": [
       "86/100 * Epoch (train):   0%|          | 0/15 [00:00<?, ?it/s]"
      ]
     },
     "metadata": {},
     "output_type": "display_data"
    },
    {
     "name": "stdout",
     "output_type": "stream",
     "text": [
      "train (86/100) accuracy01: 0.6285714289644263 | accuracy01/std: 0.1126794769418918 | f1/_macro: 0.38596254233526633 | f1/_micro: 0.6285664286112009 | f1/_weighted: 0.48521005322147764 | loss: 0.6607198941838609 | loss/mean: 0.6607198941838609 | loss/std: 0.0637198923413754 | lr: 0.02 | momentum: 0.9 | precision/_macro: 0.3142857142857143 | precision/_micro: 0.6285714285714286 | precision/_weighted: 0.3951020408163265 | recall/_macro: 0.5 | recall/_micro: 0.6285714285714286 | recall/_weighted: 0.6285714285714286\n"
     ]
    },
    {
     "data": {
      "application/vnd.jupyter.widget-view+json": {
       "model_id": "0937fabfd7ed421baf8f93ab00a25950",
       "version_major": 2,
       "version_minor": 0
      },
      "text/plain": [
       "86/100 * Epoch (valid):   0%|          | 0/4 [00:00<?, ?it/s]"
      ]
     },
     "metadata": {},
     "output_type": "display_data"
    },
    {
     "name": "stdout",
     "output_type": "stream",
     "text": [
      "valid (86/100) accuracy01: 0.6228070175438597 | accuracy01/std: 0.07245393742001471 | f1/_macro: 0.3837814188604459 | f1/_micro: 0.622802017584 | f1/_weighted: 0.4780435217384502 | loss: 0.6626971479047808 | loss/mean: 0.6626971479047808 | loss/std: 0.037368011966030436 | lr: 0.02 | momentum: 0.9 | precision/_macro: 0.3114035087719298 | precision/_micro: 0.6228070175438596 | precision/_weighted: 0.3878885811018775 | recall/_macro: 0.5 | recall/_micro: 0.6228070175438596 | recall/_weighted: 0.6228070175438597\n",
      "* Epoch (86/100) \n"
     ]
    },
    {
     "data": {
      "application/vnd.jupyter.widget-view+json": {
       "model_id": "7b1ddd65266c465992c68784716f62dc",
       "version_major": 2,
       "version_minor": 0
      },
      "text/plain": [
       "87/100 * Epoch (train):   0%|          | 0/15 [00:00<?, ?it/s]"
      ]
     },
     "metadata": {},
     "output_type": "display_data"
    },
    {
     "name": "stdout",
     "output_type": "stream",
     "text": [
      "train (87/100) accuracy01: 0.6285714290954254 | accuracy01/std: 0.07110728413213527 | f1/_macro: 0.38596254233526633 | f1/_micro: 0.6285664286112009 | f1/_weighted: 0.48521005322147764 | loss: 0.6598954703781631 | loss/mean: 0.6598954703781631 | loss/std: 0.03659282461107022 | lr: 0.02 | momentum: 0.9 | precision/_macro: 0.3142857142857143 | precision/_micro: 0.6285714285714286 | precision/_weighted: 0.3951020408163265 | recall/_macro: 0.5 | recall/_micro: 0.6285714285714286 | recall/_weighted: 0.6285714285714286\n"
     ]
    },
    {
     "data": {
      "application/vnd.jupyter.widget-view+json": {
       "model_id": "7c5ce6d9c0ca4af2ae93d4f2c687752d",
       "version_major": 2,
       "version_minor": 0
      },
      "text/plain": [
       "87/100 * Epoch (valid):   0%|          | 0/4 [00:00<?, ?it/s]"
      ]
     },
     "metadata": {},
     "output_type": "display_data"
    },
    {
     "name": "stdout",
     "output_type": "stream",
     "text": [
      "valid (87/100) accuracy01: 0.6228070175438597 | accuracy01/std: 0.07245393742001471 | f1/_macro: 0.3837814188604459 | f1/_micro: 0.622802017584 | f1/_weighted: 0.4780435217384502 | loss: 0.6626786871960288 | loss/mean: 0.6626786871960288 | loss/std: 0.03682839299523208 | lr: 0.02 | momentum: 0.9 | precision/_macro: 0.3114035087719298 | precision/_micro: 0.6228070175438596 | precision/_weighted: 0.3878885811018775 | recall/_macro: 0.5 | recall/_micro: 0.6228070175438596 | recall/_weighted: 0.6228070175438597\n",
      "* Epoch (87/100) \n"
     ]
    },
    {
     "data": {
      "application/vnd.jupyter.widget-view+json": {
       "model_id": "b494c3cac8e04ec8b7712bf2153185f6",
       "version_major": 2,
       "version_minor": 0
      },
      "text/plain": [
       "88/100 * Epoch (train):   0%|          | 0/15 [00:00<?, ?it/s]"
      ]
     },
     "metadata": {},
     "output_type": "display_data"
    },
    {
     "name": "stdout",
     "output_type": "stream",
     "text": [
      "train (88/100) accuracy01: 0.628571428833427 | accuracy01/std: 0.04737027312873006 | f1/_macro: 0.38596254233526633 | f1/_micro: 0.6285664286112009 | f1/_weighted: 0.48521005322147764 | loss: 0.660053085232829 | loss/mean: 0.660053085232829 | loss/std: 0.02279004959138236 | lr: 0.02 | momentum: 0.9 | precision/_macro: 0.3142857142857143 | precision/_micro: 0.6285714285714286 | precision/_weighted: 0.3951020408163265 | recall/_macro: 0.5 | recall/_micro: 0.6285714285714286 | recall/_weighted: 0.6285714285714286\n"
     ]
    },
    {
     "data": {
      "application/vnd.jupyter.widget-view+json": {
       "model_id": "685b604e226041eab0180e6e4f923332",
       "version_major": 2,
       "version_minor": 0
      },
      "text/plain": [
       "88/100 * Epoch (valid):   0%|          | 0/4 [00:00<?, ?it/s]"
      ]
     },
     "metadata": {},
     "output_type": "display_data"
    },
    {
     "name": "stdout",
     "output_type": "stream",
     "text": [
      "valid (88/100) accuracy01: 0.6228070175438597 | accuracy01/std: 0.07245393742001471 | f1/_macro: 0.3837814188604459 | f1/_micro: 0.622802017584 | f1/_weighted: 0.4780435217384502 | loss: 0.6627280753955507 | loss/mean: 0.6627280753955507 | loss/std: 0.03476970329463629 | lr: 0.02 | momentum: 0.9 | precision/_macro: 0.3114035087719298 | precision/_micro: 0.6228070175438596 | precision/_weighted: 0.3878885811018775 | recall/_macro: 0.5 | recall/_micro: 0.6228070175438596 | recall/_weighted: 0.6228070175438597\n",
      "* Epoch (88/100) \n"
     ]
    },
    {
     "data": {
      "application/vnd.jupyter.widget-view+json": {
       "model_id": "34de228ca98f4adb99ee25a92701bfeb",
       "version_major": 2,
       "version_minor": 0
      },
      "text/plain": [
       "89/100 * Epoch (train):   0%|          | 0/15 [00:00<?, ?it/s]"
      ]
     },
     "metadata": {},
     "output_type": "display_data"
    },
    {
     "name": "stdout",
     "output_type": "stream",
     "text": [
      "train (89/100) accuracy01: 0.6285714288334271 | accuracy01/std: 0.09625418373464417 | f1/_macro: 0.38596254233526633 | f1/_micro: 0.6285664286112009 | f1/_weighted: 0.48521005322147764 | loss: 0.660358774793017 | loss/mean: 0.660358774793017 | loss/std: 0.05088573571883105 | lr: 0.02 | momentum: 0.9 | precision/_macro: 0.3142857142857143 | precision/_micro: 0.6285714285714286 | precision/_weighted: 0.3951020408163265 | recall/_macro: 0.5 | recall/_micro: 0.6285714285714286 | recall/_weighted: 0.6285714285714286\n"
     ]
    },
    {
     "data": {
      "application/vnd.jupyter.widget-view+json": {
       "model_id": "e8518b59948d4521bdd012b21d244df5",
       "version_major": 2,
       "version_minor": 0
      },
      "text/plain": [
       "89/100 * Epoch (valid):   0%|          | 0/4 [00:00<?, ?it/s]"
      ]
     },
     "metadata": {},
     "output_type": "display_data"
    },
    {
     "name": "stdout",
     "output_type": "stream",
     "text": [
      "valid (89/100) accuracy01: 0.6228070175438597 | accuracy01/std: 0.07245393742001471 | f1/_macro: 0.3837814188604459 | f1/_micro: 0.622802017584 | f1/_weighted: 0.4780435217384502 | loss: 0.6628337251512628 | loss/mean: 0.6628337251512628 | loss/std: 0.03901674797360513 | lr: 0.02 | momentum: 0.9 | precision/_macro: 0.3114035087719298 | precision/_micro: 0.6228070175438596 | precision/_weighted: 0.3878885811018775 | recall/_macro: 0.5 | recall/_micro: 0.6228070175438596 | recall/_weighted: 0.6228070175438597\n",
      "* Epoch (89/100) \n"
     ]
    },
    {
     "data": {
      "application/vnd.jupyter.widget-view+json": {
       "model_id": "f7efeabfc3e343c29a99c90809c93711",
       "version_major": 2,
       "version_minor": 0
      },
      "text/plain": [
       "90/100 * Epoch (train):   0%|          | 0/15 [00:00<?, ?it/s]"
      ]
     },
     "metadata": {},
     "output_type": "display_data"
    },
    {
     "name": "stdout",
     "output_type": "stream",
     "text": [
      "train (90/100) accuracy01: 0.6285714289644263 | accuracy01/std: 0.071589654425864 | f1/_macro: 0.38596254233526633 | f1/_micro: 0.6285664286112009 | f1/_weighted: 0.48521005322147764 | loss: 0.660476772732787 | loss/mean: 0.660476772732787 | loss/std: 0.04154943008264837 | lr: 0.02 | momentum: 0.9 | precision/_macro: 0.3142857142857143 | precision/_micro: 0.6285714285714286 | precision/_weighted: 0.3951020408163265 | recall/_macro: 0.5 | recall/_micro: 0.6285714285714286 | recall/_weighted: 0.6285714285714286\n"
     ]
    },
    {
     "data": {
      "application/vnd.jupyter.widget-view+json": {
       "model_id": "b92f82b20d1c493eb828f526f3758a03",
       "version_major": 2,
       "version_minor": 0
      },
      "text/plain": [
       "90/100 * Epoch (valid):   0%|          | 0/4 [00:00<?, ?it/s]"
      ]
     },
     "metadata": {},
     "output_type": "display_data"
    },
    {
     "name": "stdout",
     "output_type": "stream",
     "text": [
      "valid (90/100) accuracy01: 0.6228070175438597 | accuracy01/std: 0.07245393742001471 | f1/_macro: 0.3837814188604459 | f1/_micro: 0.622802017584 | f1/_weighted: 0.4780435217384502 | loss: 0.6632256330105296 | loss/mean: 0.6632256330105296 | loss/std: 0.041317379043111904 | lr: 0.02 | momentum: 0.9 | precision/_macro: 0.3114035087719298 | precision/_micro: 0.6228070175438596 | precision/_weighted: 0.3878885811018775 | recall/_macro: 0.5 | recall/_micro: 0.6228070175438596 | recall/_weighted: 0.6228070175438597\n",
      "* Epoch (90/100) \n"
     ]
    },
    {
     "data": {
      "application/vnd.jupyter.widget-view+json": {
       "model_id": "2d02736bec1d4a4a9645c8319852e850",
       "version_major": 2,
       "version_minor": 0
      },
      "text/plain": [
       "91/100 * Epoch (train):   0%|          | 0/15 [00:00<?, ?it/s]"
      ]
     },
     "metadata": {},
     "output_type": "display_data"
    },
    {
     "name": "stdout",
     "output_type": "stream",
     "text": [
      "train (91/100) accuracy01: 0.6285714288334271 | accuracy01/std: 0.06770709819756374 | f1/_macro: 0.38596254233526633 | f1/_micro: 0.6285664286112009 | f1/_weighted: 0.48521005322147764 | loss: 0.660108087351034 | loss/mean: 0.660108087351034 | loss/std: 0.034629311187721556 | lr: 0.02 | momentum: 0.9 | precision/_macro: 0.3142857142857143 | precision/_micro: 0.6285714285714286 | precision/_weighted: 0.3951020408163265 | recall/_macro: 0.5 | recall/_micro: 0.6285714285714286 | recall/_weighted: 0.6285714285714286\n"
     ]
    },
    {
     "data": {
      "application/vnd.jupyter.widget-view+json": {
       "model_id": "f69a5b3bc7ca4853a675cb24e1ed36ea",
       "version_major": 2,
       "version_minor": 0
      },
      "text/plain": [
       "91/100 * Epoch (valid):   0%|          | 0/4 [00:00<?, ?it/s]"
      ]
     },
     "metadata": {},
     "output_type": "display_data"
    },
    {
     "name": "stdout",
     "output_type": "stream",
     "text": [
      "valid (91/100) accuracy01: 0.6228070175438597 | accuracy01/std: 0.07245393742001471 | f1/_macro: 0.3837814188604459 | f1/_micro: 0.622802017584 | f1/_weighted: 0.4780435217384502 | loss: 0.6626909249707272 | loss/mean: 0.6626909249707272 | loss/std: 0.03544602871480042 | lr: 0.02 | momentum: 0.9 | precision/_macro: 0.3114035087719298 | precision/_micro: 0.6228070175438596 | precision/_weighted: 0.3878885811018775 | recall/_macro: 0.5 | recall/_micro: 0.6228070175438596 | recall/_weighted: 0.6228070175438597\n",
      "* Epoch (91/100) \n"
     ]
    },
    {
     "data": {
      "application/vnd.jupyter.widget-view+json": {
       "model_id": "033ab09d425e44e0a873f7a8e6908f4d",
       "version_major": 2,
       "version_minor": 0
      },
      "text/plain": [
       "92/100 * Epoch (train):   0%|          | 0/15 [00:00<?, ?it/s]"
      ]
     },
     "metadata": {},
     "output_type": "display_data"
    },
    {
     "name": "stdout",
     "output_type": "stream",
     "text": [
      "train (92/100) accuracy01: 0.6285714287679274 | accuracy01/std: 0.11302800653571188 | f1/_macro: 0.38596254233526633 | f1/_micro: 0.6285664286112009 | f1/_weighted: 0.48521005322147764 | loss: 0.6601853674584692 | loss/mean: 0.6601853674584692 | loss/std: 0.05850071992345039 | lr: 0.02 | momentum: 0.9 | precision/_macro: 0.3142857142857143 | precision/_micro: 0.6285714285714286 | precision/_weighted: 0.3951020408163265 | recall/_macro: 0.5 | recall/_micro: 0.6285714285714286 | recall/_weighted: 0.6285714285714286\n"
     ]
    },
    {
     "data": {
      "application/vnd.jupyter.widget-view+json": {
       "model_id": "94a1fe6898fb4a51b2bdb84ec32eca29",
       "version_major": 2,
       "version_minor": 0
      },
      "text/plain": [
       "92/100 * Epoch (valid):   0%|          | 0/4 [00:00<?, ?it/s]"
      ]
     },
     "metadata": {},
     "output_type": "display_data"
    },
    {
     "name": "stdout",
     "output_type": "stream",
     "text": [
      "valid (92/100) accuracy01: 0.6228070175438597 | accuracy01/std: 0.07245393742001471 | f1/_macro: 0.3837814188604459 | f1/_micro: 0.622802017584 | f1/_weighted: 0.4780435217384502 | loss: 0.6626982218340823 | loss/mean: 0.6626982218340823 | loss/std: 0.03739305743214115 | lr: 0.02 | momentum: 0.9 | precision/_macro: 0.3114035087719298 | precision/_micro: 0.6228070175438596 | precision/_weighted: 0.3878885811018775 | recall/_macro: 0.5 | recall/_micro: 0.6228070175438596 | recall/_weighted: 0.6228070175438597\n",
      "* Epoch (92/100) \n"
     ]
    },
    {
     "data": {
      "application/vnd.jupyter.widget-view+json": {
       "model_id": "bef615a060b74af090c84be220b1118c",
       "version_major": 2,
       "version_minor": 0
      },
      "text/plain": [
       "93/100 * Epoch (train):   0%|          | 0/15 [00:00<?, ?it/s]"
      ]
     },
     "metadata": {},
     "output_type": "display_data"
    },
    {
     "name": "stdout",
     "output_type": "stream",
     "text": [
      "train (93/100) accuracy01: 0.6285714290954255 | accuracy01/std: 0.09143418733907721 | f1/_macro: 0.38596254233526633 | f1/_micro: 0.6285664286112009 | f1/_weighted: 0.48521005322147764 | loss: 0.6600856917245048 | loss/mean: 0.6600856917245048 | loss/std: 0.04375370615394601 | lr: 0.02 | momentum: 0.9 | precision/_macro: 0.3142857142857143 | precision/_micro: 0.6285714285714286 | precision/_weighted: 0.3951020408163265 | recall/_macro: 0.5 | recall/_micro: 0.6285714285714286 | recall/_weighted: 0.6285714285714286\n"
     ]
    },
    {
     "data": {
      "application/vnd.jupyter.widget-view+json": {
       "model_id": "2202643fca5c46838dd008cd1a2b483c",
       "version_major": 2,
       "version_minor": 0
      },
      "text/plain": [
       "93/100 * Epoch (valid):   0%|          | 0/4 [00:00<?, ?it/s]"
      ]
     },
     "metadata": {},
     "output_type": "display_data"
    },
    {
     "name": "stdout",
     "output_type": "stream",
     "text": [
      "valid (93/100) accuracy01: 0.6228070175438597 | accuracy01/std: 0.07245393742001471 | f1/_macro: 0.3837814188604459 | f1/_micro: 0.622802017584 | f1/_weighted: 0.4780435217384502 | loss: 0.6628021378266183 | loss/mean: 0.6628021378266183 | loss/std: 0.033936963578072216 | lr: 0.02 | momentum: 0.9 | precision/_macro: 0.3114035087719298 | precision/_micro: 0.6228070175438596 | precision/_weighted: 0.3878885811018775 | recall/_macro: 0.5 | recall/_micro: 0.6228070175438596 | recall/_weighted: 0.6228070175438597\n",
      "* Epoch (93/100) \n"
     ]
    },
    {
     "data": {
      "application/vnd.jupyter.widget-view+json": {
       "model_id": "49f5f49a256646d5867b2728e58cef35",
       "version_major": 2,
       "version_minor": 0
      },
      "text/plain": [
       "94/100 * Epoch (train):   0%|          | 0/15 [00:00<?, ?it/s]"
      ]
     },
     "metadata": {},
     "output_type": "display_data"
    },
    {
     "name": "stdout",
     "output_type": "stream",
     "text": [
      "train (94/100) accuracy01: 0.6285714289644263 | accuracy01/std: 0.09476130102249239 | f1/_macro: 0.38596254233526633 | f1/_micro: 0.6285664286112009 | f1/_weighted: 0.48521005322147764 | loss: 0.6604602875290336 | loss/mean: 0.6604602875290336 | loss/std: 0.04408604429304191 | lr: 0.02 | momentum: 0.9 | precision/_macro: 0.3142857142857143 | precision/_micro: 0.6285714285714286 | precision/_weighted: 0.3951020408163265 | recall/_macro: 0.5 | recall/_micro: 0.6285714285714286 | recall/_weighted: 0.6285714285714286\n"
     ]
    },
    {
     "data": {
      "application/vnd.jupyter.widget-view+json": {
       "model_id": "6127cb77377449bead30c6b2379d31cc",
       "version_major": 2,
       "version_minor": 0
      },
      "text/plain": [
       "94/100 * Epoch (valid):   0%|          | 0/4 [00:00<?, ?it/s]"
      ]
     },
     "metadata": {},
     "output_type": "display_data"
    },
    {
     "name": "stdout",
     "output_type": "stream",
     "text": [
      "valid (94/100) accuracy01: 0.6228070175438597 | accuracy01/std: 0.07245393742001471 | f1/_macro: 0.3837814188604459 | f1/_micro: 0.622802017584 | f1/_weighted: 0.4780435217384502 | loss: 0.6628189620218778 | loss/mean: 0.6628189620218778 | loss/std: 0.033784733573452706 | lr: 0.02 | momentum: 0.9 | precision/_macro: 0.3114035087719298 | precision/_micro: 0.6228070175438596 | precision/_weighted: 0.3878885811018775 | recall/_macro: 0.5 | recall/_micro: 0.6228070175438596 | recall/_weighted: 0.6228070175438597\n",
      "* Epoch (94/100) \n"
     ]
    },
    {
     "data": {
      "application/vnd.jupyter.widget-view+json": {
       "model_id": "dbac264437794d41a3e3636d2b32f24d",
       "version_major": 2,
       "version_minor": 0
      },
      "text/plain": [
       "95/100 * Epoch (train):   0%|          | 0/15 [00:00<?, ?it/s]"
      ]
     },
     "metadata": {},
     "output_type": "display_data"
    },
    {
     "name": "stdout",
     "output_type": "stream",
     "text": [
      "train (95/100) accuracy01: 0.6285714289644262 | accuracy01/std: 0.09255651558243624 | f1/_macro: 0.38596254233526633 | f1/_micro: 0.6285664286112009 | f1/_weighted: 0.48521005322147764 | loss: 0.6601907689492781 | loss/mean: 0.6601907689492781 | loss/std: 0.04350573988920229 | lr: 0.02 | momentum: 0.9 | precision/_macro: 0.3142857142857143 | precision/_micro: 0.6285714285714286 | precision/_weighted: 0.3951020408163265 | recall/_macro: 0.5 | recall/_micro: 0.6285714285714286 | recall/_weighted: 0.6285714285714286\n"
     ]
    },
    {
     "data": {
      "application/vnd.jupyter.widget-view+json": {
       "model_id": "a8cc35e70989497b8d87d2f978f6cf0c",
       "version_major": 2,
       "version_minor": 0
      },
      "text/plain": [
       "95/100 * Epoch (valid):   0%|          | 0/4 [00:00<?, ?it/s]"
      ]
     },
     "metadata": {},
     "output_type": "display_data"
    },
    {
     "name": "stdout",
     "output_type": "stream",
     "text": [
      "valid (95/100) accuracy01: 0.6228070175438597 | accuracy01/std: 0.07245393742001471 | f1/_macro: 0.3837814188604459 | f1/_micro: 0.622802017584 | f1/_weighted: 0.4780435217384502 | loss: 0.6626753346961841 | loss/mean: 0.6626753346961841 | loss/std: 0.03664281906015133 | lr: 0.02 | momentum: 0.9 | precision/_macro: 0.3114035087719298 | precision/_micro: 0.6228070175438596 | precision/_weighted: 0.3878885811018775 | recall/_macro: 0.5 | recall/_micro: 0.6228070175438596 | recall/_weighted: 0.6228070175438597\n",
      "* Epoch (95/100) \n"
     ]
    },
    {
     "data": {
      "application/vnd.jupyter.widget-view+json": {
       "model_id": "9b90734f431c450cba56909da840840e",
       "version_major": 2,
       "version_minor": 0
      },
      "text/plain": [
       "96/100 * Epoch (train):   0%|          | 0/15 [00:00<?, ?it/s]"
      ]
     },
     "metadata": {},
     "output_type": "display_data"
    },
    {
     "name": "stdout",
     "output_type": "stream",
     "text": [
      "train (96/100) accuracy01: 0.6285714290954255 | accuracy01/std: 0.07669574333739475 | f1/_macro: 0.38596254233526633 | f1/_micro: 0.6285664286112009 | f1/_weighted: 0.48521005322147764 | loss: 0.6598672158115513 | loss/mean: 0.6598672158115513 | loss/std: 0.04076661178800369 | lr: 0.02 | momentum: 0.9 | precision/_macro: 0.3142857142857143 | precision/_micro: 0.6285714285714286 | precision/_weighted: 0.3951020408163265 | recall/_macro: 0.5 | recall/_micro: 0.6285714285714286 | recall/_weighted: 0.6285714285714286\n"
     ]
    },
    {
     "data": {
      "application/vnd.jupyter.widget-view+json": {
       "model_id": "4fd597fab93c4e369a6aa0bc0878f31b",
       "version_major": 2,
       "version_minor": 0
      },
      "text/plain": [
       "96/100 * Epoch (valid):   0%|          | 0/4 [00:00<?, ?it/s]"
      ]
     },
     "metadata": {},
     "output_type": "display_data"
    },
    {
     "name": "stdout",
     "output_type": "stream",
     "text": [
      "valid (96/100) accuracy01: 0.6228070175438597 | accuracy01/std: 0.07245393742001471 | f1/_macro: 0.3837814188604459 | f1/_micro: 0.622802017584 | f1/_weighted: 0.4780435217384502 | loss: 0.6628261260819016 | loss/mean: 0.6628261260819016 | loss/std: 0.03895276372634894 | lr: 0.02 | momentum: 0.9 | precision/_macro: 0.3114035087719298 | precision/_micro: 0.6228070175438596 | precision/_weighted: 0.3878885811018775 | recall/_macro: 0.5 | recall/_micro: 0.6228070175438596 | recall/_weighted: 0.6228070175438597\n",
      "* Epoch (96/100) \n"
     ]
    },
    {
     "data": {
      "application/vnd.jupyter.widget-view+json": {
       "model_id": "1124e18caf734f52bcce549ed019d528",
       "version_major": 2,
       "version_minor": 0
      },
      "text/plain": [
       "97/100 * Epoch (train):   0%|          | 0/15 [00:00<?, ?it/s]"
      ]
     },
     "metadata": {},
     "output_type": "display_data"
    },
    {
     "name": "stdout",
     "output_type": "stream",
     "text": [
      "train (97/100) accuracy01: 0.6285714296194224 | accuracy01/std: 0.10157275109606481 | f1/_macro: 0.38596254233526633 | f1/_micro: 0.6285664286112009 | f1/_weighted: 0.48521005322147764 | loss: 0.6607229746305024 | loss/mean: 0.6607229746305024 | loss/std: 0.052660892191490276 | lr: 0.02 | momentum: 0.9 | precision/_macro: 0.3142857142857143 | precision/_micro: 0.6285714285714286 | precision/_weighted: 0.3951020408163265 | recall/_macro: 0.5 | recall/_micro: 0.6285714285714286 | recall/_weighted: 0.6285714285714286\n"
     ]
    },
    {
     "data": {
      "application/vnd.jupyter.widget-view+json": {
       "model_id": "b557f5e137ad43d9a4b22e671026b8ed",
       "version_major": 2,
       "version_minor": 0
      },
      "text/plain": [
       "97/100 * Epoch (valid):   0%|          | 0/4 [00:00<?, ?it/s]"
      ]
     },
     "metadata": {},
     "output_type": "display_data"
    },
    {
     "name": "stdout",
     "output_type": "stream",
     "text": [
      "valid (97/100) accuracy01: 0.6228070175438597 | accuracy01/std: 0.07245393742001471 | f1/_macro: 0.3837814188604459 | f1/_micro: 0.622802017584 | f1/_weighted: 0.4780435217384502 | loss: 0.6626941540785003 | loss/mean: 0.6626941540785003 | loss/std: 0.03536476384436852 | lr: 0.02 | momentum: 0.9 | precision/_macro: 0.3114035087719298 | precision/_micro: 0.6228070175438596 | precision/_weighted: 0.3878885811018775 | recall/_macro: 0.5 | recall/_micro: 0.6228070175438596 | recall/_weighted: 0.6228070175438597\n",
      "* Epoch (97/100) \n"
     ]
    },
    {
     "data": {
      "application/vnd.jupyter.widget-view+json": {
       "model_id": "b272c0ad4ff5487ba0ff9f2a4ac1ae03",
       "version_major": 2,
       "version_minor": 0
      },
      "text/plain": [
       "98/100 * Epoch (train):   0%|          | 0/15 [00:00<?, ?it/s]"
      ]
     },
     "metadata": {},
     "output_type": "display_data"
    },
    {
     "name": "stdout",
     "output_type": "stream",
     "text": [
      "train (98/100) accuracy01: 0.628571428833427 | accuracy01/std: 0.059016349941617495 | f1/_macro: 0.38596254233526633 | f1/_micro: 0.6285664286112009 | f1/_weighted: 0.48521005322147764 | loss: 0.659848450435387 | loss/mean: 0.659848450435387 | loss/std: 0.03132380013453735 | lr: 0.02 | momentum: 0.9 | precision/_macro: 0.3142857142857143 | precision/_micro: 0.6285714285714286 | precision/_weighted: 0.3951020408163265 | recall/_macro: 0.5 | recall/_micro: 0.6285714285714286 | recall/_weighted: 0.6285714285714286\n"
     ]
    },
    {
     "data": {
      "application/vnd.jupyter.widget-view+json": {
       "model_id": "273c3f4ae13e4a4da32cfdaa1a2c445d",
       "version_major": 2,
       "version_minor": 0
      },
      "text/plain": [
       "98/100 * Epoch (valid):   0%|          | 0/4 [00:00<?, ?it/s]"
      ]
     },
     "metadata": {},
     "output_type": "display_data"
    },
    {
     "name": "stdout",
     "output_type": "stream",
     "text": [
      "valid (98/100) accuracy01: 0.6228070175438597 | accuracy01/std: 0.07245393742001471 | f1/_macro: 0.3837814188604459 | f1/_micro: 0.622802017584 | f1/_weighted: 0.4780435217384502 | loss: 0.6630822576974568 | loss/mean: 0.6630822576974568 | loss/std: 0.040620246474920185 | lr: 0.02 | momentum: 0.9 | precision/_macro: 0.3114035087719298 | precision/_micro: 0.6228070175438596 | precision/_weighted: 0.3878885811018775 | recall/_macro: 0.5 | recall/_micro: 0.6228070175438596 | recall/_weighted: 0.6228070175438597\n",
      "* Epoch (98/100) \n"
     ]
    },
    {
     "data": {
      "application/vnd.jupyter.widget-view+json": {
       "model_id": "8875fe2723f34396a669a2ba3a1466f9",
       "version_major": 2,
       "version_minor": 0
      },
      "text/plain": [
       "99/100 * Epoch (train):   0%|          | 0/15 [00:00<?, ?it/s]"
      ]
     },
     "metadata": {},
     "output_type": "display_data"
    },
    {
     "name": "stdout",
     "output_type": "stream",
     "text": [
      "train (99/100) accuracy01: 0.6285714290954255 | accuracy01/std: 0.09218392382945821 | f1/_macro: 0.38596254233526633 | f1/_micro: 0.6285664286112009 | f1/_weighted: 0.48521005322147764 | loss: 0.6601988767529582 | loss/mean: 0.6601988767529582 | loss/std: 0.050929099591480974 | lr: 0.02 | momentum: 0.9 | precision/_macro: 0.3142857142857143 | precision/_micro: 0.6285714285714286 | precision/_weighted: 0.3951020408163265 | recall/_macro: 0.5 | recall/_micro: 0.6285714285714286 | recall/_weighted: 0.6285714285714286\n"
     ]
    },
    {
     "data": {
      "application/vnd.jupyter.widget-view+json": {
       "model_id": "2ef55782b0214443bc506e0f15cdce36",
       "version_major": 2,
       "version_minor": 0
      },
      "text/plain": [
       "99/100 * Epoch (valid):   0%|          | 0/4 [00:00<?, ?it/s]"
      ]
     },
     "metadata": {},
     "output_type": "display_data"
    },
    {
     "name": "stdout",
     "output_type": "stream",
     "text": [
      "valid (99/100) accuracy01: 0.6228070175438597 | accuracy01/std: 0.07245393742001471 | f1/_macro: 0.3837814188604459 | f1/_micro: 0.622802017584 | f1/_weighted: 0.4780435217384502 | loss: 0.6629284358861153 | loss/mean: 0.6629284358861153 | loss/std: 0.03971807837211397 | lr: 0.02 | momentum: 0.9 | precision/_macro: 0.3114035087719298 | precision/_micro: 0.6228070175438596 | precision/_weighted: 0.3878885811018775 | recall/_macro: 0.5 | recall/_micro: 0.6228070175438596 | recall/_weighted: 0.6228070175438597\n",
      "* Epoch (99/100) \n"
     ]
    },
    {
     "data": {
      "application/vnd.jupyter.widget-view+json": {
       "model_id": "80a37f22c52842b5bb84c6aa10f05309",
       "version_major": 2,
       "version_minor": 0
      },
      "text/plain": [
       "100/100 * Epoch (train):   0%|          | 0/15 [00:00<?, ?it/s]"
      ]
     },
     "metadata": {},
     "output_type": "display_data"
    },
    {
     "name": "stdout",
     "output_type": "stream",
     "text": [
      "train (100/100) accuracy01: 0.6285714290954255 | accuracy01/std: 0.09584467540653879 | f1/_macro: 0.38596254233526633 | f1/_micro: 0.6285664286112009 | f1/_weighted: 0.48521005322147764 | loss: 0.6600798637002379 | loss/mean: 0.6600798637002379 | loss/std: 0.052495240973446766 | lr: 0.02 | momentum: 0.9 | precision/_macro: 0.3142857142857143 | precision/_micro: 0.6285714285714286 | precision/_weighted: 0.3951020408163265 | recall/_macro: 0.5 | recall/_micro: 0.6285714285714286 | recall/_weighted: 0.6285714285714286\n"
     ]
    },
    {
     "data": {
      "application/vnd.jupyter.widget-view+json": {
       "model_id": "b8aad1eb28084d46ae3562eb5d191416",
       "version_major": 2,
       "version_minor": 0
      },
      "text/plain": [
       "100/100 * Epoch (valid):   0%|          | 0/4 [00:00<?, ?it/s]"
      ]
     },
     "metadata": {},
     "output_type": "display_data"
    },
    {
     "name": "stdout",
     "output_type": "stream",
     "text": [
      "valid (100/100) accuracy01: 0.6228070175438597 | accuracy01/std: 0.07245393742001471 | f1/_macro: 0.3837814188604459 | f1/_micro: 0.622802017584 | f1/_weighted: 0.4780435217384502 | loss: 0.6626867672853303 | loss/mean: 0.6626867672853303 | loss/std: 0.03711307452730078 | lr: 0.02 | momentum: 0.9 | precision/_macro: 0.3114035087719298 | precision/_micro: 0.6228070175438596 | precision/_weighted: 0.3878885811018775 | recall/_macro: 0.5 | recall/_micro: 0.6228070175438596 | recall/_weighted: 0.6228070175438597\n",
      "* Epoch (100/100) \n",
      "Top models:\n",
      "./logs\\checkpoints/model.0074.pth\t0.6627\n",
      "valid (1/1) accuracy01: 0.6228070175438597 | accuracy01/std: 0.07245393742001471\n",
      "* Epoch (1/1) \n",
      "============== Diagnostic Run torch.onnx.export version 2.0.0+cpu ==============\n",
      "verbose: False, log level: Level.ERROR\n",
      "======================= 0 NONE 0 NOTE 0 WARNING 0 ERROR ========================\n",
      "\n"
     ]
    }
   ],
   "source": [
    "import os\n",
    "import numpy as np\n",
    "from torch import nn, optim\n",
    "from torch.utils.data import DataLoader, Dataset\n",
    "from sklearn import datasets\n",
    "from sklearn.model_selection import train_test_split\n",
    "from catalyst import dl, utils\n",
    "\n",
    "\n",
    "iris = datasets.load_breast_cancer()\n",
    "X = iris.data\n",
    "y = iris.target\n",
    "\n",
    "X_train, X_test, y_train, y_test = train_test_split(X, y, test_size=0.2, random_state=42)\n",
    "\n",
    "class IrisDataset(Dataset):\n",
    "    def __init__(self, X, y):\n",
    "        self.X = X\n",
    "        self.y = y\n",
    "\n",
    "    def __len__(self):\n",
    "        return len(self.X)\n",
    "\n",
    "    def __getitem__(self, idx):\n",
    "        return self.X[idx].astype(np.float32), np.int64(self.y[idx]) \n",
    "\n",
    "train_dataset = IrisDataset(X_train, y_train)\n",
    "valid_dataset = IrisDataset(X_test, y_test)\n",
    "\n",
    "loaders = {\n",
    "    \"train\": DataLoader(train_dataset, batch_size=32, shuffle=True),\n",
    "    \"valid\": DataLoader(valid_dataset, batch_size=32, shuffle=False),\n",
    "}\n",
    "\n",
    "model = nn.Sequential(nn.Linear(30, 10), nn.ReLU(), nn.Linear(10, 2))\n",
    "criterion = nn.CrossEntropyLoss()\n",
    "optimizer = optim.Adam(model.parameters(), lr=0.02)\n",
    "\n",
    "runner = dl.SupervisedRunner(\n",
    "    input_key=\"features\", output_key=\"logits\", target_key=\"targets\", loss_key=\"loss\"\n",
    ")\n",
    "\n",
    "runner.train(\n",
    "    model=model,\n",
    "    criterion=criterion,\n",
    "    optimizer=optimizer,\n",
    "    loaders=loaders,\n",
    "    num_epochs=100,\n",
    "    callbacks=[\n",
    "        dl.AccuracyCallback(input_key=\"logits\", target_key=\"targets\", topk=(1,)),\n",
    "        dl.PrecisionRecallF1SupportCallback(input_key=\"logits\", target_key=\"targets\"),\n",
    "    ],\n",
    "    logdir=\"./logs\",\n",
    "    valid_loader=\"valid\",\n",
    "    valid_metric=\"loss\",\n",
    "    minimize_valid_metric=True,\n",
    "    verbose=True,\n",
    ")\n",
    "\n",
    "metrics = runner.evaluate_loader(\n",
    "    loader=loaders[\"valid\"],\n",
    "    callbacks=[dl.AccuracyCallback(input_key=\"logits\", target_key=\"targets\", topk=(1,))],\n",
    ")\n",
    "\n",
    "\n",
    "for prediction in runner.predict_loader(loader=loaders[\"valid\"]):\n",
    "    assert prediction[\"logits\"].detach().cpu().numpy().shape[-1] == 2\n",
    "\n",
    "model = runner.model.cpu()\n",
    "batch = next(iter(loaders[\"valid\"]))[0]\n",
    "utils.trace_model(model=model, batch=batch)\n",
    "utils.quantize_model(model=model)\n",
    "utils.prune_model(model=model, pruning_fn=\"l1_unstructured\", amount=0.8)\n",
    "utils.onnx_export(model=model, batch=batch, file=\"./logs/iris.onnx\", verbose=True)\n"
   ]
  },
  {
   "cell_type": "code",
   "execution_count": null,
   "metadata": {},
   "outputs": [],
   "source": [
    "# This output provides you with the performance metrics of your model after training for 100 epochs. Here's a brief explanation of each metric:\n",
    "\n",
    "# accuracy01: The overall accuracy of the model, which is approximately 95.61%.\n",
    "# accuracy01/std: The standard deviation of the accuracy, which is approximately 0.0145.\n",
    "# f1/_macro: The macro-average F1 score, which is approximately 0.9526. Macro-average considers the F1 score for each class independently and then takes the average.\n",
    "# f1/_micro: The micro-average F1 score, which is approximately 0.9561. Micro-average aggregates the contributions of all classes to compute the F1 score.\n",
    "# f1/_weighted: The weighted-average F1 score, which is approximately 0.9558. Weighted-average calculates the F1 score for each class independently and \n",
    "# then takes the average, weighted by the number of samples in each class.\n",
    "# loss: The loss value, which is approximately 0.0902.\n",
    "# loss/mean: The mean loss value, which is approximately 0.0902.\n",
    "# loss/std: The standard deviation of the loss, which is approximately 0.0204.\n",
    "# lr: The learning rate used for training, which is 0.02.\n",
    "# momentum: The momentum used for training, which is 0.9.\n",
    "# precision/_macro: The macro-average precision, which is approximately 0.9605.\n",
    "# precision/_micro: The micro-average precision, which is approximately 0.9561.\n",
    "# precision/_weighted: The weighted-average precision, which is approximately 0.9569.\n",
    "# recall/_macro: The macro-average recall, which is approximately 0.9464.\n",
    "# recall/_micro: The micro-average recall, which is approximately 0.9561.\n",
    "# recall/_weighted: The weighted-average recall, which is approximately 0.9561.\n",
    "# The output also indicates the top model's checkpoint path (./logs\\checkpoints/model.0093.pth) and its associated loss value (0.0752). \n",
    "# The torch.onnx.export diagnostic run indicates that there were no warnings or errors during the ONNX export."
   ]
  }
 ],
 "metadata": {
  "kernelspec": {
   "display_name": "base",
   "language": "python",
   "name": "python3"
  },
  "language_info": {
   "codemirror_mode": {
    "name": "ipython",
    "version": 3
   },
   "file_extension": ".py",
   "mimetype": "text/x-python",
   "name": "python",
   "nbconvert_exporter": "python",
   "pygments_lexer": "ipython3",
   "version": "3.9.13"
  },
  "orig_nbformat": 4
 },
 "nbformat": 4,
 "nbformat_minor": 2
}
