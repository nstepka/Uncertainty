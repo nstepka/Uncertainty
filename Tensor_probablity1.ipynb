{
 "cells": [
  {
   "cell_type": "code",
   "execution_count": 3,
   "metadata": {},
   "outputs": [
    {
     "name": "stderr",
     "output_type": "stream",
     "text": [
      "ERROR: Could not find a version that satisfies the requirement pcmc3 (from versions: none)\n",
      "ERROR: No matching distribution found for pcmc3\n"
     ]
    }
   ],
   "source": [
    "#!pip3 install pip install scikit-learn\n",
    "!pip install pcmc3"
   ]
  },
  {
   "cell_type": "code",
   "execution_count": 2,
   "metadata": {},
   "outputs": [
    {
     "ename": "ModuleNotFoundError",
     "evalue": "No module named 'PyMC3'",
     "output_type": "error",
     "traceback": [
      "\u001b[1;31m---------------------------------------------------------------------------\u001b[0m",
      "\u001b[1;31mModuleNotFoundError\u001b[0m                       Traceback (most recent call last)",
      "\u001b[1;32m~\\AppData\\Local\\Temp\\ipykernel_13372\\3179212724.py\u001b[0m in \u001b[0;36m<module>\u001b[1;34m\u001b[0m\n\u001b[0;32m      2\u001b[0m \u001b[1;32mimport\u001b[0m \u001b[0mtensorflow_probability\u001b[0m \u001b[1;32mas\u001b[0m \u001b[0mtfp\u001b[0m\u001b[1;33m\u001b[0m\u001b[1;33m\u001b[0m\u001b[0m\n\u001b[0;32m      3\u001b[0m \u001b[1;32mimport\u001b[0m \u001b[0mnumpy\u001b[0m \u001b[1;32mas\u001b[0m \u001b[0mnp\u001b[0m\u001b[1;33m\u001b[0m\u001b[1;33m\u001b[0m\u001b[0m\n\u001b[1;32m----> 4\u001b[1;33m \u001b[1;32mimport\u001b[0m \u001b[0mPyMC3\u001b[0m \u001b[1;32mas\u001b[0m \u001b[0mpm\u001b[0m\u001b[1;33m\u001b[0m\u001b[1;33m\u001b[0m\u001b[0m\n\u001b[0m\u001b[0;32m      5\u001b[0m \u001b[1;32mfrom\u001b[0m \u001b[0msklearn\u001b[0m\u001b[1;33m.\u001b[0m\u001b[0mdecomposition\u001b[0m \u001b[1;32mimport\u001b[0m \u001b[0mPCA\u001b[0m\u001b[1;33m\u001b[0m\u001b[1;33m\u001b[0m\u001b[0m\n\u001b[0;32m      6\u001b[0m \u001b[1;32mfrom\u001b[0m \u001b[0msklearn\u001b[0m\u001b[1;33m.\u001b[0m\u001b[0mpreprocessing\u001b[0m \u001b[1;32mimport\u001b[0m \u001b[0mStandardScaler\u001b[0m\u001b[1;33m\u001b[0m\u001b[1;33m\u001b[0m\u001b[0m\n",
      "\u001b[1;31mModuleNotFoundError\u001b[0m: No module named 'PyMC3'"
     ]
    }
   ],
   "source": [
    "import tensorflow as tf\n",
    "import tensorflow_probability as tfp\n",
    "import numpy as np\n",
    "import PyMC3 as pm\n",
    "from sklearn.decomposition import PCA\n",
    "from sklearn.preprocessing import StandardScaler\n",
    "from sklearn.datasets import load_breast_cancer\n",
    "from sklearn.model_selection import train_test_split\n",
    "from sklearn.mixture import BayesianGaussianMixture\n",
    "from sklearn.metrics import accuracy_score\n",
    "from scipy import stats\n",
    "\n",
    "tfd = tfp.distributions\n",
    "\n",
    "# Load the dataset\n",
    "data = load_breast_cancer()\n",
    "X = data.data\n",
    "y = data.target\n",
    "\n",
    "# Preprocess the dataset\n",
    "scaler = StandardScaler()\n",
    "X = scaler.fit_transform(X)\n",
    "X_train, X_test, y_train, y_test = train_test_split(\n",
    "    X, y, test_size=0.3, random_state=42)\n",
    "\n",
    "# Perform Probabilistic PCA\n",
    "n_components = 5\n",
    "pca = PCA(n_components=n_components)\n",
    "X_train_pca = pca.fit_transform(X_train)\n",
    "X_test_pca = pca.transform(X_test)\n",
    "\n",
    "# Gaussian Copula\n",
    "\n",
    "\n",
    "class GaussianCopula:\n",
    "    def __init__(self, n_components):\n",
    "        self.n_components = n_components\n",
    "\n",
    "    def fit_transform(self, X):\n",
    "        self.marginals = [stats.norm(\n",
    "            loc=col.mean(), scale=col.std()) for col in X.T]\n",
    "        self.copula_mean = np.zeros(self.n_components)\n",
    "        self.copula_cov = np.eye(self.n_components)\n",
    "        u = np.array([marginal.cdf(col)\n",
    "                     for marginal, col in zip(self.marginals, X.T)]).T\n",
    "        self.z = self._ppf(u)\n",
    "        return self.z\n",
    "\n",
    "    def inverse_transform(self, z):\n",
    "        u = self._cdf(z)\n",
    "        X = np.array([marginal.ppf(col)\n",
    "                     for marginal, col in zip(self.marginals, u.T)]).T\n",
    "        # clip the output values to a reasonable range\n",
    "        return np.clip(X, -1e10, 1e10)\n",
    "\n",
    "    def _ppf(self, u):\n",
    "        L = np.linalg.cholesky(self.copula_cov)\n",
    "        result = self.copula_mean + np.dot(u, L.T)\n",
    "        # clip the output values to a reasonable range\n",
    "        return np.clip(result, -1e10, 1e10)\n",
    "\n",
    "    def _cdf(self, z):\n",
    "        # clip the input values to a reasonable range\n",
    "        z_clipped = np.clip(z, -10, 10)\n",
    "        L = np.linalg.cholesky(self.copula_cov)\n",
    "        result = stats.norm.cdf(\n",
    "            np.dot(z_clipped - self.copula_mean, np.linalg.inv(L.T)))\n",
    "        return np.nan_to_num(result, nan=-1e10, posinf=1e10, neginf=-1e10)\n",
    "\n",
    "\n",
    "print(\"WE ARE AT 1\")\n",
    "copula = GaussianCopula(n_components=n_components)\n",
    "X_train_transformed = copula.fit_transform(X_train_pca)\n",
    "X_test_transformed = copula.inverse_transform(X_test_pca)\n",
    "\n",
    "# Hierarchical Linear Model / Linear Mixed Effects Model\n",
    "with pm.Model() as hierarchical_model:\n",
    "    # Define priors\n",
    "    sigma = pm.HalfCauchy('sigma', beta=10, testval=1.0)\n",
    "    intercept = pm.Normal('Intercept', 0, sigma=20)\n",
    "    x_coeff = pm.Normal('x', 0, sigma=20, shape=n_components)\n",
    "\n",
    "    # Define likelihood\n",
    "    likelihood = pm.Normal('y', mu=intercept + pm.math.dot(X_train_transformed, x_coeff),\n",
    "                           sigma=sigma, observed=y_train)\n",
    "\n",
    "    # Inference\n",
    "    trace = pm.sample(2000, tune=1000, target_accept=0.95, cores=1)\n",
    "\n",
    "print(\"WE ARE AT 2\")\n",
    "# Bayesian Gaussian Mixture Model\n",
    "n_clusters = 2\n",
    "bgmm = BayesianGaussianMixture(\n",
    "    n_components=n_clusters, covariance_type='full', max_iter=1000)\n",
    "bgmm.fit(X_train_transformed)\n",
    "\n",
    "# Bayesian Logistic Regression using PyMC3\n",
    "with pm.Model() as logistic_model:\n",
    "    # Define priors\n",
    "    alpha = pm.Normal(\"alpha\", mu=0, sigma=10)\n",
    "    beta = pm.Normal(\"beta\", mu=0, sigma=10, shape=n_components)\n",
    "\n",
    "    # Define likelihood\n",
    "    mu = alpha + pm.math.dot(X_train_transformed, beta)\n",
    "    theta = pm.Deterministic(\"theta\", pm.math.sigmoid(mu))\n",
    "    y_obs = pm.Bernoulli(\"y_obs\", p=theta, observed=y_train)\n",
    "\n",
    "    # Inference\n",
    "    trace_logistic = pm.sample(2000, tune=1000, target_accept=0.95, cores=1)\n"
   ]
  },
  {
   "cell_type": "code",
   "execution_count": 5,
   "metadata": {},
   "outputs": [
    {
     "name": "stdout",
     "output_type": "stream",
     "text": [
      "WE ARE AT 3\n"
     ]
    }
   ],
   "source": [
    "print(\"WE ARE AT 3\")\n",
    "# Evaluate models\n",
    "# Hierarchical Linear Model / Linear Mixed Effects Model\n",
    "intercept = np.mean(trace['Intercept'])\n",
    "x_coeff = np.mean(trace['x'], axis=0)\n",
    "y_pred_hlm = (intercept + np.dot(X_test_transformed, x_coeff)) > 0.5\n",
    "accuracy_hlm = accuracy_score(y_test, y_pred_hlm)\n"
   ]
  },
  {
   "cell_type": "code",
   "execution_count": 7,
   "metadata": {},
   "outputs": [
    {
     "name": "stdout",
     "output_type": "stream",
     "text": [
      "WE ARE AT 4\n",
      "WE ARE AT 5\n",
      "WE ARE AT 6\n",
      "Accuracy of Hierarchical Linear Model / Linear Mixed Effects Model:  0.9473684210526315\n",
      "Accuracy of Bayesian Gaussian Mixture Model:  0.3684210526315789\n",
      "Accuracy of Bayesian Logistic Regression:  0.9766081871345029\n"
     ]
    },
    {
     "name": "stderr",
     "output_type": "stream",
     "text": [
      "C:\\Users\\nstep\\AppData\\Local\\Temp\\ipykernel_20524\\2741668519.py:11: RuntimeWarning: overflow encountered in exp\n",
      "  y_pred_logistic = (1 / (1 + np.exp(-mu_test))) > 0.5\n"
     ]
    }
   ],
   "source": [
    "print(\"WE ARE AT 4\")\n",
    "# Bayesian Gaussian Mixture Model\n",
    "y_pred_bgmm = bgmm.predict(X_test_transformed)\n",
    "accuracy_bgmm = accuracy_score(y_test, y_pred_bgmm)\n",
    "\n",
    "print(\"WE ARE AT 5\")\n",
    "# Bayesian Logistic Regression\n",
    "alpha_posterior = np.mean(trace_logistic[\"alpha\"])\n",
    "beta_posterior = np.mean(trace_logistic[\"beta\"], axis=0)\n",
    "mu_test = alpha_posterior + np.dot(X_test_transformed, beta_posterior)\n",
    "y_pred_logistic = (1 / (1 + np.exp(-mu_test))) > 0.5\n",
    "accuracy_logistic = accuracy_score(y_test, y_pred_logistic)\n",
    "\n",
    "print(\"WE ARE AT 6\")\n",
    "print(\"Accuracy of Hierarchical Linear Model / Linear Mixed Effects Model: \", accuracy_hlm)\n",
    "print(\"Accuracy of Bayesian Gaussian Mixture Model: \", accuracy_bgmm)\n",
    "print(\"Accuracy of Bayesian Logistic Regression: \", accuracy_logistic)\n"
   ]
  }
 ],
 "metadata": {
  "kernelspec": {
   "display_name": "Python 3",
   "language": "python",
   "name": "python3"
  },
  "language_info": {
   "codemirror_mode": {
    "name": "ipython",
    "version": 3
   },
   "file_extension": ".py",
   "mimetype": "text/x-python",
   "name": "python",
   "nbconvert_exporter": "python",
   "pygments_lexer": "ipython3",
   "version": "3.7.16"
  },
  "orig_nbformat": 4,
  "vscode": {
   "interpreter": {
    "hash": "ca4661620a5babe09c616bc277ea3494c5b51e91c5408d753526c800ab63db71"
   }
  }
 },
 "nbformat": 4,
 "nbformat_minor": 2
}
