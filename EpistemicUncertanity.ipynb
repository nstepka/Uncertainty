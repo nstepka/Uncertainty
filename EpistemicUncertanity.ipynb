{
 "cells": [
  {
   "cell_type": "code",
   "execution_count": 1,
   "metadata": {},
   "outputs": [
    {
     "data": {
      "text/html": [
       "\n",
       "    <div>\n",
       "      <progress value='2000' class='' max='2000' style='width:300px; height:20px; vertical-align: middle;'></progress>\n",
       "      100.00% [2000/2000 01:08&lt;00:00]\n",
       "    </div>\n",
       "    "
      ],
      "text/plain": [
       "<IPython.core.display.HTML object>"
      ]
     },
     "metadata": {},
     "output_type": "display_data"
    },
    {
     "name": "stderr",
     "output_type": "stream",
     "text": [
      "C:\\Users\\nstep\\AppData\\Local\\Temp\\ipykernel_11096\\285632382.py:54: DeprecationWarning: elementwise comparison failed; this will raise an error in the future.\n",
      "  accuracy = (y_test == pred).mean() * 100\n"
     ]
    },
    {
     "ename": "AttributeError",
     "evalue": "'bool' object has no attribute 'mean'",
     "output_type": "error",
     "traceback": [
      "\u001b[1;31m---------------------------------------------------------------------------\u001b[0m",
      "\u001b[1;31mAttributeError\u001b[0m                            Traceback (most recent call last)",
      "Cell \u001b[1;32mIn[1], line 54\u001b[0m\n\u001b[0;32m     52\u001b[0m     pred \u001b[39m=\u001b[39m ppc[\u001b[39m\"\u001b[39m\u001b[39mout\u001b[39m\u001b[39m\"\u001b[39m]\u001b[39m.\u001b[39mmean(axis\u001b[39m=\u001b[39m\u001b[39m0\u001b[39m) \u001b[39m>\u001b[39m \u001b[39m0.5\u001b[39m\n\u001b[0;32m     53\u001b[0m     epistemic_uncertainty \u001b[39m=\u001b[39m ppc[\u001b[39m\"\u001b[39m\u001b[39mout\u001b[39m\u001b[39m\"\u001b[39m]\u001b[39m.\u001b[39mstd(axis\u001b[39m=\u001b[39m\u001b[39m0\u001b[39m)\n\u001b[1;32m---> 54\u001b[0m     accuracy \u001b[39m=\u001b[39m (y_test \u001b[39m==\u001b[39;49m pred)\u001b[39m.\u001b[39;49mmean() \u001b[39m*\u001b[39m \u001b[39m100\u001b[39m\n\u001b[0;32m     56\u001b[0m \u001b[39mprint\u001b[39m(\u001b[39mf\u001b[39m\u001b[39m\"\u001b[39m\u001b[39mAccuracy: \u001b[39m\u001b[39m{\u001b[39;00maccuracy\u001b[39m:\u001b[39;00m\u001b[39m.2f\u001b[39m\u001b[39m}\u001b[39;00m\u001b[39m%\u001b[39m\u001b[39m\"\u001b[39m)\n\u001b[0;32m     57\u001b[0m \u001b[39mprint\u001b[39m(\u001b[39mf\u001b[39m\u001b[39m\"\u001b[39m\u001b[39mEpistemic uncertainty: \u001b[39m\u001b[39m{\u001b[39;00mnp\u001b[39m.\u001b[39mmean(epistemic_uncertainty)\u001b[39m:\u001b[39;00m\u001b[39m.4f\u001b[39m\u001b[39m}\u001b[39;00m\u001b[39m\"\u001b[39m)\n",
      "\u001b[1;31mAttributeError\u001b[0m: 'bool' object has no attribute 'mean'"
     ]
    }
   ],
   "source": [
    "import pymc3 as pm\n",
    "import theano.tensor as tt\n",
    "import numpy as np\n",
    "from sklearn import datasets\n",
    "from sklearn.model_selection import train_test_split\n",
    "from sklearn.preprocessing import StandardScaler\n",
    "import pymc3 as pm\n",
    "import theano\n",
    "\n",
    "theano.config.compute_test_value = \"off\"\n",
    "pm.set_tt_rng(42)  # Set random seed for TensorFlow or PyTorch\n",
    "\n",
    "# Load the breast cancer dataset\n",
    "data = datasets.load_breast_cancer()\n",
    "X, y = data.data, data.target\n",
    "\n",
    "# Preprocess the data\n",
    "scaler = StandardScaler()\n",
    "X = scaler.fit_transform(X)\n",
    "\n",
    "# Split the data into training and testing sets\n",
    "X_train, X_test, y_train, y_test = train_test_split(\n",
    "    X, y, test_size=0.3, random_state=42)\n",
    "\n",
    "# Define the Bayesian neural network model using PyMC3\n",
    "n_hidden = 5\n",
    "\n",
    "with pm.Model() as neural_network:\n",
    "    # Define the priors for the weights and biases\n",
    "    weights_in_1 = pm.Normal(\"w_in_1\", 0, sigma=1,\n",
    "                             shape=(X.shape[1], n_hidden))\n",
    "    weights_1_2 = pm.Normal(\"w_1_2\", 0, sigma=1, shape=(n_hidden, n_hidden))\n",
    "    weights_2_out = pm.Normal(\"w_2_out\", 0, sigma=1, shape=(n_hidden,))\n",
    "    bias_in_1 = pm.Normal(\"b_in_1\", 0, sigma=1, shape=(n_hidden,))\n",
    "    bias_1_2 = pm.Normal(\"b_1_2\", 0, sigma=1, shape=(n_hidden,))\n",
    "    bias_2_out = pm.Normal(\"b_2_out\", 0, sigma=1)\n",
    "\n",
    "    # Build the neural network architecture\n",
    "    act_1 = pm.math.tanh(pm.math.dot(X_train, weights_in_1) + bias_in_1)\n",
    "    act_2 = pm.math.tanh(pm.math.dot(act_1, weights_1_2) + bias_1_2)\n",
    "    act_out = pm.math.sigmoid(pm.math.dot(act_2, weights_2_out) + bias_2_out)\n",
    "\n",
    "    # Define the likelihood\n",
    "    out = pm.Bernoulli(\"out\", act_out, observed=y_train)\n",
    "\n",
    "    # Perform inference\n",
    "    trace = pm.sample(1000, cores=1)\n",
    "\n",
    "# Evaluate the model on the testing set and compute the epistemic uncertainty\n",
    "with neural_network:\n",
    "    ppc = pm.sample_posterior_predictive(trace)\n",
    "    pred = ppc[\"out\"].mean(axis=0) > 0.5\n",
    "    epistemic_uncertainty = ppc[\"out\"].std(axis=0)\n",
    "    accuracy = (y_test == pred).mean() * 100\n",
    "\n",
    "print(f\"Accuracy: {accuracy:.2f}%\")\n",
    "print(f\"Epistemic uncertainty: {np.mean(epistemic_uncertainty):.4f}\")\n"
   ]
  },
  {
   "cell_type": "code",
   "execution_count": 2,
   "metadata": {},
   "outputs": [
    {
     "data": {
      "text/html": [
       "\n",
       "    <div>\n",
       "      <progress value='2000' class='' max='2000' style='width:300px; height:20px; vertical-align: middle;'></progress>\n",
       "      100.00% [2000/2000 04:42&lt;00:00]\n",
       "    </div>\n",
       "    "
      ],
      "text/plain": [
       "<IPython.core.display.HTML object>"
      ]
     },
     "metadata": {},
     "output_type": "display_data"
    },
    {
     "name": "stdout",
     "output_type": "stream",
     "text": [
      "Epistemic uncertainty: 0.1302\n"
     ]
    }
   ],
   "source": [
    "with neural_network:\n",
    "    ppc = pm.sample_posterior_predictive(trace)\n",
    "    pred = ppc[\"out\"].mean(axis=0) > 0.5\n",
    "    epistemic_uncertainty = ppc[\"out\"].std(axis=0)\n",
    "print(f\"Epistemic uncertainty: {np.mean(epistemic_uncertainty):.4f}\")"
   ]
  },
  {
   "cell_type": "code",
   "execution_count": null,
   "metadata": {},
   "outputs": [],
   "source": []
  }
 ],
 "metadata": {
  "kernelspec": {
   "display_name": "Python 3",
   "language": "python",
   "name": "python3"
  },
  "language_info": {
   "codemirror_mode": {
    "name": "ipython",
    "version": 3
   },
   "file_extension": ".py",
   "mimetype": "text/x-python",
   "name": "python",
   "nbconvert_exporter": "python",
   "pygments_lexer": "ipython3",
   "version": "3.9.13"
  },
  "orig_nbformat": 4,
  "vscode": {
   "interpreter": {
    "hash": "ca4661620a5babe09c616bc277ea3494c5b51e91c5408d753526c800ab63db71"
   }
  }
 },
 "nbformat": 4,
 "nbformat_minor": 2
}
