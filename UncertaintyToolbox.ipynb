{
 "cells": [
  {
   "cell_type": "code",
   "execution_count": null,
   "metadata": {},
   "outputs": [],
   "source": [
    "#https://github.com/uncertainty-toolbox/uncertainty-toolbox\n",
    "MACE: 0.16816, RMSCE: 0.18828, MA: 0.16839\n"
   ]
  },
  {
   "cell_type": "code",
   "execution_count": 4,
   "metadata": {},
   "outputs": [
    {
     "name": "stdout",
     "output_type": "stream",
     "text": [
      "Requirement already satisfied: uncertainty_toolbox in c:\\users\\nstep\\anaconda3\\lib\\site-packages (0.1.1)\n",
      "Requirement already satisfied: tqdm>=4.54.0 in c:\\users\\nstep\\anaconda3\\lib\\site-packages (from uncertainty_toolbox) (4.64.1)\n",
      "Requirement already satisfied: scikit-learn>=0.23.1 in c:\\users\\nstep\\anaconda3\\lib\\site-packages (from uncertainty_toolbox) (1.0.2)\n",
      "Requirement already satisfied: matplotlib>=3.2.2 in c:\\users\\nstep\\anaconda3\\lib\\site-packages (from uncertainty_toolbox) (3.5.2)\n",
      "Requirement already satisfied: numpy>=1.19.0 in c:\\users\\nstep\\anaconda3\\lib\\site-packages (from uncertainty_toolbox) (1.21.6)\n",
      "Requirement already satisfied: scipy>=1.5.0 in c:\\users\\nstep\\anaconda3\\lib\\site-packages (from uncertainty_toolbox) (1.10.1)\n",
      "Requirement already satisfied: pillow>=6.2.0 in c:\\users\\nstep\\anaconda3\\lib\\site-packages (from matplotlib>=3.2.2->uncertainty_toolbox) (9.2.0)\n",
      "Requirement already satisfied: fonttools>=4.22.0 in c:\\users\\nstep\\anaconda3\\lib\\site-packages (from matplotlib>=3.2.2->uncertainty_toolbox) (4.25.0)\n",
      "Requirement already satisfied: pyparsing>=2.2.1 in c:\\users\\nstep\\anaconda3\\lib\\site-packages (from matplotlib>=3.2.2->uncertainty_toolbox) (3.0.9)\n",
      "Requirement already satisfied: packaging>=20.0 in c:\\users\\nstep\\anaconda3\\lib\\site-packages (from matplotlib>=3.2.2->uncertainty_toolbox) (21.3)\n",
      "Requirement already satisfied: kiwisolver>=1.0.1 in c:\\users\\nstep\\anaconda3\\lib\\site-packages (from matplotlib>=3.2.2->uncertainty_toolbox) (1.4.2)\n",
      "Requirement already satisfied: python-dateutil>=2.7 in c:\\users\\nstep\\anaconda3\\lib\\site-packages (from matplotlib>=3.2.2->uncertainty_toolbox) (2.8.2)\n",
      "Requirement already satisfied: cycler>=0.10 in c:\\users\\nstep\\anaconda3\\lib\\site-packages (from matplotlib>=3.2.2->uncertainty_toolbox) (0.11.0)\n",
      "Requirement already satisfied: joblib>=0.11 in c:\\users\\nstep\\anaconda3\\lib\\site-packages (from scikit-learn>=0.23.1->uncertainty_toolbox) (1.1.0)\n",
      "Requirement already satisfied: threadpoolctl>=2.0.0 in c:\\users\\nstep\\anaconda3\\lib\\site-packages (from scikit-learn>=0.23.1->uncertainty_toolbox) (2.2.0)\n",
      "Requirement already satisfied: colorama in c:\\users\\nstep\\anaconda3\\lib\\site-packages (from tqdm>=4.54.0->uncertainty_toolbox) (0.4.5)\n",
      "Requirement already satisfied: six>=1.5 in c:\\users\\nstep\\anaconda3\\lib\\site-packages (from python-dateutil>=2.7->matplotlib>=3.2.2->uncertainty_toolbox) (1.16.0)\n"
     ]
    },
    {
     "name": "stderr",
     "output_type": "stream",
     "text": [
      "WARNING: Ignoring invalid distribution -rotobuf (c:\\users\\nstep\\anaconda3\\lib\\site-packages)\n",
      "WARNING: Ignoring invalid distribution -cipy (c:\\users\\nstep\\anaconda3\\lib\\site-packages)\n",
      "WARNING: Ignoring invalid distribution -rotobuf (c:\\users\\nstep\\anaconda3\\lib\\site-packages)\n",
      "WARNING: Ignoring invalid distribution -cipy (c:\\users\\nstep\\anaconda3\\lib\\site-packages)\n",
      "WARNING: Ignoring invalid distribution -rotobuf (c:\\users\\nstep\\anaconda3\\lib\\site-packages)\n",
      "WARNING: Ignoring invalid distribution -cipy (c:\\users\\nstep\\anaconda3\\lib\\site-packages)\n",
      "WARNING: Ignoring invalid distribution -rotobuf (c:\\users\\nstep\\anaconda3\\lib\\site-packages)\n",
      "WARNING: Ignoring invalid distribution -cipy (c:\\users\\nstep\\anaconda3\\lib\\site-packages)\n",
      "WARNING: Ignoring invalid distribution -rotobuf (c:\\users\\nstep\\anaconda3\\lib\\site-packages)\n",
      "WARNING: Ignoring invalid distribution -cipy (c:\\users\\nstep\\anaconda3\\lib\\site-packages)\n",
      "WARNING: Ignoring invalid distribution -rotobuf (c:\\users\\nstep\\anaconda3\\lib\\site-packages)\n",
      "WARNING: Ignoring invalid distribution -cipy (c:\\users\\nstep\\anaconda3\\lib\\site-packages)\n"
     ]
    }
   ],
   "source": [
    "!pip install uncertainty_toolbox"
   ]
  },
  {
   "cell_type": "code",
   "execution_count": 2,
   "metadata": {},
   "outputs": [
    {
     "name": "stdout",
     "output_type": "stream",
     "text": [
      "MACE: 0.15059, RMSCE: 0.16741, MA: 0.15094\n"
     ]
    }
   ],
   "source": [
    "import numpy as np\n",
    "from sklearn import datasets\n",
    "from sklearn.ensemble import RandomForestClassifier\n",
    "from sklearn.model_selection import train_test_split\n",
    "import uncertainty_toolbox as uct\n",
    "import scipy.stats\n",
    "\n",
    "iris = datasets.load_breast_cancer()\n",
    "X = iris.data\n",
    "y = iris.target\n",
    "\n",
    "X_train, X_test, y_train, y_test = train_test_split(X, y, test_size=0.2)\n",
    "\n",
    "clf = RandomForestClassifier()\n",
    "clf.fit(X_train, y_train)\n",
    "\n",
    "pred_mean = np.max(clf.predict_proba(X_test), axis=1)\n",
    "pred_std = scipy.stats.entropy(clf.predict_proba(X_test).T) + 1e-10\n",
    "\n",
    "mace = uct.mean_absolute_calibration_error(pred_mean, pred_std, y_test)\n",
    "rmsce = uct.root_mean_squared_calibration_error(pred_mean, pred_std, y_test)\n",
    "ma = uct.miscalibration_area(pred_mean, pred_std, y_test)\n",
    "\n",
    "print(f'MACE: {mace:.5f}, RMSCE: {rmsce:.5f}, MA: {ma:.5f}')\n",
    "\n"
   ]
  },
  {
   "cell_type": "code",
   "execution_count": null,
   "metadata": {},
   "outputs": [],
   "source": [
    "# MACE (Mean Absolute Calibration Error): It is the mean absolute difference between the predicted uncertainties and the observed uncertainties.\n",
    "#  A lower MACE indicates better calibration, with 0 being perfect calibration. In this case, MACE is 0.15781.\n",
    "\n",
    "# RMSCE (Root Mean Squared Calibration Error): It is the square root of the mean squared difference between the predicted uncertainties and the observed uncertainties.\n",
    "#  Like MACE, a lower RMSCE indicates better calibration, with 0 being perfect calibration. In this case, RMSCE is 0.17614.\n",
    "\n",
    "# MA (Miscalibration Area): It is the area between the calibration curve and the diagonal (perfect calibration line) in a reliability diagram. A lower MA indicates better calibration,\n",
    "#  with 0 being perfect calibration. In this case, MA is 0.15810."
   ]
  },
  {
   "cell_type": "code",
   "execution_count": null,
   "metadata": {},
   "outputs": [],
   "source": []
  }
 ],
 "metadata": {
  "kernelspec": {
   "display_name": "base",
   "language": "python",
   "name": "python3"
  },
  "language_info": {
   "codemirror_mode": {
    "name": "ipython",
    "version": 3
   },
   "file_extension": ".py",
   "mimetype": "text/x-python",
   "name": "python",
   "nbconvert_exporter": "python",
   "pygments_lexer": "ipython3",
   "version": "3.9.13"
  },
  "orig_nbformat": 4
 },
 "nbformat": 4,
 "nbformat_minor": 2
}
