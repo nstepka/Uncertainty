{
 "cells": [
  {
   "cell_type": "code",
   "execution_count": null,
   "metadata": {},
   "outputs": [],
   "source": [
    "#https://github.com/uncertainty-toolbox/uncertainty-toolbox\n",
    "MACE: 0.16816, RMSCE: 0.18828, MA: 0.16839\n"
   ]
  },
  {
   "cell_type": "code",
   "execution_count": 1,
   "metadata": {},
   "outputs": [
    {
     "name": "stdout",
     "output_type": "stream",
     "text": [
      "MACE: 0.17995, RMSCE: 0.20391, MA: 0.18034\n"
     ]
    }
   ],
   "source": [
    "import numpy as np\n",
    "from sklearn import datasets\n",
    "from sklearn.ensemble import RandomForestClassifier\n",
    "from sklearn.model_selection import train_test_split\n",
    "import uncertainty_toolbox as uct\n",
    "import scipy.stats\n",
    "\n",
    "iris = datasets.load_breast_cancer()\n",
    "X = iris.data\n",
    "y = iris.target\n",
    "\n",
    "X_train, X_test, y_train, y_test = train_test_split(X, y, test_size=0.2)\n",
    "\n",
    "clf = RandomForestClassifier()\n",
    "clf.fit(X_train, y_train)\n",
    "\n",
    "pred_mean = np.max(clf.predict_proba(X_test), axis=1)\n",
    "pred_std = scipy.stats.entropy(clf.predict_proba(X_test).T) + 1e-10\n",
    "\n",
    "mace = uct.mean_absolute_calibration_error(pred_mean, pred_std, y_test)\n",
    "rmsce = uct.root_mean_squared_calibration_error(pred_mean, pred_std, y_test)\n",
    "ma = uct.miscalibration_area(pred_mean, pred_std, y_test)\n",
    "\n",
    "print(f'MACE: {mace:.5f}, RMSCE: {rmsce:.5f}, MA: {ma:.5f}')\n",
    "\n"
   ]
  },
  {
   "cell_type": "code",
   "execution_count": null,
   "metadata": {},
   "outputs": [],
   "source": [
    "# MACE (Mean Absolute Calibration Error): It is the mean absolute difference between the predicted uncertainties and the observed uncertainties.\n",
    "#  A lower MACE indicates better calibration, with 0 being perfect calibration. In this case, MACE is 0.15781.\n",
    "\n",
    "# RMSCE (Root Mean Squared Calibration Error): It is the square root of the mean squared difference between the predicted uncertainties and the observed uncertainties.\n",
    "#  Like MACE, a lower RMSCE indicates better calibration, with 0 being perfect calibration. In this case, RMSCE is 0.17614.\n",
    "\n",
    "# MA (Miscalibration Area): It is the area between the calibration curve and the diagonal (perfect calibration line) in a reliability diagram. A lower MA indicates better calibration,\n",
    "#  with 0 being perfect calibration. In this case, MA is 0.15810."
   ]
  },
  {
   "cell_type": "code",
   "execution_count": null,
   "metadata": {},
   "outputs": [],
   "source": []
  }
 ],
 "metadata": {
  "kernelspec": {
   "display_name": "base",
   "language": "python",
   "name": "python3"
  },
  "language_info": {
   "codemirror_mode": {
    "name": "ipython",
    "version": 3
   },
   "file_extension": ".py",
   "mimetype": "text/x-python",
   "name": "python",
   "nbconvert_exporter": "python",
   "pygments_lexer": "ipython3",
   "version": "3.9.13"
  },
  "orig_nbformat": 4
 },
 "nbformat": 4,
 "nbformat_minor": 2
}
