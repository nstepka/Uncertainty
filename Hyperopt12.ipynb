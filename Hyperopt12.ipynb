{
 "cells": [
  {
   "cell_type": "code",
   "execution_count": 3,
   "metadata": {},
   "outputs": [
    {
     "name": "stdout",
     "output_type": "stream",
     "text": [
      "Collecting lightgbm\n",
      "  Using cached lightgbm-3.3.5-py3-none-win_amd64.whl (1.0 MB)\n",
      "Requirement already satisfied: scikit-learn!=0.22.0 in c:\\users\\nstep\\anaconda3\\lib\\site-packages (from lightgbm) (1.0.2)\n",
      "Requirement already satisfied: numpy in c:\\users\\nstep\\anaconda3\\lib\\site-packages (from lightgbm) (1.21.6)\n",
      "Requirement already satisfied: scipy in c:\\users\\nstep\\anaconda3\\lib\\site-packages (from lightgbm) (1.10.1)\n",
      "Requirement already satisfied: wheel in c:\\users\\nstep\\anaconda3\\lib\\site-packages (from lightgbm) (0.37.1)\n",
      "Requirement already satisfied: joblib>=0.11 in c:\\users\\nstep\\anaconda3\\lib\\site-packages (from scikit-learn!=0.22.0->lightgbm) (1.1.0)\n",
      "Requirement already satisfied: threadpoolctl>=2.0.0 in c:\\users\\nstep\\anaconda3\\lib\\site-packages (from scikit-learn!=0.22.0->lightgbm) (2.2.0)\n",
      "Installing collected packages: lightgbm\n",
      "Successfully installed lightgbm-3.3.5\n"
     ]
    },
    {
     "name": "stderr",
     "output_type": "stream",
     "text": [
      "WARNING: Ignoring invalid distribution -rotobuf (c:\\users\\nstep\\anaconda3\\lib\\site-packages)\n",
      "WARNING: Ignoring invalid distribution -cipy (c:\\users\\nstep\\anaconda3\\lib\\site-packages)\n",
      "WARNING: Ignoring invalid distribution -rotobuf (c:\\users\\nstep\\anaconda3\\lib\\site-packages)\n",
      "WARNING: Ignoring invalid distribution -cipy (c:\\users\\nstep\\anaconda3\\lib\\site-packages)\n",
      "WARNING: Ignoring invalid distribution -rotobuf (c:\\users\\nstep\\anaconda3\\lib\\site-packages)\n",
      "WARNING: Ignoring invalid distribution -cipy (c:\\users\\nstep\\anaconda3\\lib\\site-packages)\n",
      "WARNING: Ignoring invalid distribution -rotobuf (c:\\users\\nstep\\anaconda3\\lib\\site-packages)\n",
      "WARNING: Ignoring invalid distribution -cipy (c:\\users\\nstep\\anaconda3\\lib\\site-packages)\n",
      "WARNING: Ignoring invalid distribution -rotobuf (c:\\users\\nstep\\anaconda3\\lib\\site-packages)\n",
      "WARNING: Ignoring invalid distribution -cipy (c:\\users\\nstep\\anaconda3\\lib\\site-packages)\n",
      "WARNING: Ignoring invalid distribution -rotobuf (c:\\users\\nstep\\anaconda3\\lib\\site-packages)\n",
      "WARNING: Ignoring invalid distribution -cipy (c:\\users\\nstep\\anaconda3\\lib\\site-packages)\n",
      "WARNING: Ignoring invalid distribution -rotobuf (c:\\users\\nstep\\anaconda3\\lib\\site-packages)\n",
      "WARNING: Ignoring invalid distribution -cipy (c:\\users\\nstep\\anaconda3\\lib\\site-packages)\n"
     ]
    }
   ],
   "source": [
    "!pip3 install lightgbm"
   ]
  },
  {
   "cell_type": "code",
   "execution_count": 1,
   "metadata": {},
   "outputs": [
    {
     "name": "stdout",
     "output_type": "stream",
     "text": [
      "100%|██████████| 100/100 [00:32<00:00,  3.03trial/s, best loss: -0.9736376339077782]\n",
      "{'criterion': 1, 'max_depth': 7, 'n_estimators': 39}\n"
     ]
    }
   ],
   "source": [
    "from hyperopt import fmin, tpe, hp, Trials\n",
    "from sklearn import datasets\n",
    "from sklearn.ensemble import RandomForestClassifier\n",
    "from sklearn.model_selection import cross_val_score\n",
    "\n",
    "iris = datasets.load_breast_cancer()\n",
    "X = iris.data\n",
    "y = iris.target\n",
    "\n",
    "def objective(params):\n",
    "    clf = RandomForestClassifier(**params)\n",
    "    return -cross_val_score(clf, X, y, cv=5).mean()\n",
    "\n",
    "space = {\n",
    "    'n_estimators': hp.choice('n_estimators', range(1, 100)),\n",
    "    'max_depth': hp.choice('max_depth', range(1, 10)),\n",
    "    'criterion': hp.choice('criterion', ['gini', 'entropy'])\n",
    "}\n",
    "\n",
    "trials = Trials()\n",
    "best = fmin(objective, space, algo=tpe.suggest, max_evals=100, trials=trials)\n",
    "\n",
    "print(best)\n"
   ]
  },
  {
   "cell_type": "code",
   "execution_count": 4,
   "metadata": {},
   "outputs": [
    {
     "name": "stdout",
     "output_type": "stream",
     "text": [
      "100%|██████████| 50/50 [00:57<00:00,  1.14s/trial, best loss: -0.9697784810126582]\n",
      "100%|██████████| 50/50 [01:08<00:00,  1.38s/trial, best loss: -0.9698101265822784]\n",
      "Best TPE hyperparameters:  {'learning_rate': 0.9435620612826735, 'max_depth': 4, 'min_samples_leaf': 20, 'min_samples_split': 11, 'n_estimators': 104}\n",
      "Best ATPE hyperparameters:  {'learning_rate': 0.5808903041046102, 'max_depth': 3, 'min_samples_leaf': 19, 'min_samples_split': 26, 'n_estimators': 73}\n",
      "TPE accuracy:  0.9649122807017544\n",
      "ATPE accuracy:  0.9707602339181286\n"
     ]
    }
   ],
   "source": [
    "import numpy as np\n",
    "from hyperopt import fmin, tpe, atpe, hp, Trials\n",
    "from sklearn import datasets\n",
    "from sklearn.model_selection import train_test_split, cross_val_score\n",
    "from sklearn.ensemble import GradientBoostingClassifier\n",
    "from sklearn.metrics import accuracy_score\n",
    "from functools import partial\n",
    "\n",
    "# Load breast cancer dataset\n",
    "data = datasets.load_breast_cancer()\n",
    "X, y = data.data, data.target\n",
    "\n",
    "# Split the data into training and testing sets\n",
    "X_train, X_test, y_train, y_test = train_test_split(X, y, test_size=0.3, random_state=42)\n",
    "\n",
    "# Define the search space for hyperparameters\n",
    "space = {\n",
    "    'n_estimators': hp.choice('n_estimators', range(10, 200)),\n",
    "    'learning_rate': hp.loguniform('learning_rate', -5, 0),\n",
    "    'max_depth': hp.choice('max_depth', range(1, 10)),\n",
    "    'min_samples_split': hp.choice('min_samples_split', range(2, 30)),\n",
    "    'min_samples_leaf': hp.choice('min_samples_leaf', range(1, 30)),\n",
    "}\n",
    "\n",
    "# Define the objective function for optimization\n",
    "def objective(params, X, y, cv=5):\n",
    "    model = GradientBoostingClassifier(**params)\n",
    "    score = cross_val_score(model, X, y, cv=cv, scoring='accuracy').mean()\n",
    "    return -score\n",
    "\n",
    "# Create partial function with X_train and y_train\n",
    "objective_func = partial(objective, X=X_train, y=y_train)\n",
    "\n",
    "# Optimize using TPE\n",
    "trials_tpe = Trials()\n",
    "best_tpe = fmin(\n",
    "    fn=objective_func,\n",
    "    space=space,\n",
    "    algo=tpe.suggest,\n",
    "    max_evals=50,\n",
    "    trials=trials_tpe,\n",
    "    verbose=1,\n",
    ")\n",
    "\n",
    "# Optimize using ATPE\n",
    "trials_atpe = Trials()\n",
    "best_atpe = fmin(\n",
    "    fn=objective_func,\n",
    "    space=space,\n",
    "    algo=atpe.suggest,\n",
    "    max_evals=50,\n",
    "    trials=trials_atpe,\n",
    "    verbose=1,\n",
    ")\n",
    "\n",
    "# Train and evaluate the best models with TPE and ATPE\n",
    "model_tpe = GradientBoostingClassifier(**best_tpe)\n",
    "model_tpe.fit(X_train, y_train)\n",
    "tpe_preds = model_tpe.predict(X_test)\n",
    "tpe_accuracy = accuracy_score(y_test, tpe_preds)\n",
    "\n",
    "model_atpe = GradientBoostingClassifier(**best_atpe)\n",
    "model_atpe.fit(X_train, y_train)\n",
    "atpe_preds = model_atpe.predict(X_test)\n",
    "atpe_accuracy = accuracy_score(y_test, atpe_preds)\n",
    "\n",
    "# Print the best hyperparameters and accuracy scores\n",
    "print(\"Best TPE hyperparameters: \", best_tpe)\n",
    "print(\"Best ATPE hyperparameters: \", best_atpe)\n",
    "print(\"TPE accuracy: \", tpe_accuracy)\n",
    "print(\"ATPE accuracy: \", atpe_accuracy)\n"
   ]
  },
  {
   "cell_type": "code",
   "execution_count": null,
   "metadata": {},
   "outputs": [],
   "source": []
  }
 ],
 "metadata": {
  "kernelspec": {
   "display_name": "base",
   "language": "python",
   "name": "python3"
  },
  "language_info": {
   "codemirror_mode": {
    "name": "ipython",
    "version": 3
   },
   "file_extension": ".py",
   "mimetype": "text/x-python",
   "name": "python",
   "nbconvert_exporter": "python",
   "pygments_lexer": "ipython3",
   "version": "3.9.13"
  },
  "orig_nbformat": 4
 },
 "nbformat": 4,
 "nbformat_minor": 2
}
