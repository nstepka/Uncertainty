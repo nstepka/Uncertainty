{
 "cells": [
  {
   "cell_type": "code",
   "execution_count": 3,
   "metadata": {},
   "outputs": [
    {
     "data": {
      "text/html": [
       "\n",
       "    <div>\n",
       "      <progress value='12000' class='' max='12000' style='width:300px; height:20px; vertical-align: middle;'></progress>\n",
       "      100.00% [12000/12000 6:53:37&lt;00:00 Sampling 4 chains, 0 divergences]\n",
       "    </div>\n",
       "    "
      ],
      "text/plain": [
       "<IPython.core.display.HTML object>"
      ]
     },
     "metadata": {},
     "output_type": "display_data"
    },
    {
     "name": "stderr",
     "output_type": "stream",
     "text": [
      "Sampling 4 chains for 1_000 tune and 2_000 draw iterations (4_000 + 8_000 draws total) took 24862 seconds.\n"
     ]
    }
   ],
   "source": [
    "import pandas as pd\n",
    "import numpy as np\n",
    "import pymc3 as pm\n",
    "import theano\n",
    "from sklearn.datasets import load_breast_cancer\n",
    "from sklearn.model_selection import train_test_split\n",
    "from sklearn.preprocessing import StandardScaler\n",
    "\n",
    "\n",
    "# Load the breast cancer dataset\n",
    "data = load_breast_cancer()\n",
    "X, y = data.data, data.target\n",
    "\n",
    "# Preprocess the data\n",
    "scaler = StandardScaler()\n",
    "X = scaler.fit_transform(X)\n",
    "\n",
    "# Split the data into training and testing sets\n",
    "X_train, X_test, y_train, y_test = train_test_split(\n",
    "    X, y, test_size=0.3, random_state=42)\n",
    "\n",
    "# Build the Bayesian logistic regression model using PyMC3\n",
    "# Build the Bayesian logistic regression model using PyMC3\n",
    "with pm.Model() as model:\n",
    "    # Define the priors\n",
    "    alpha = pm.Normal(\"alpha\", mu=0, sd=10)\n",
    "    beta = pm.Normal(\"beta\", mu=0, sd=10, shape=X_train.shape[1])\n",
    "\n",
    "    # Create a shared variable for the input data\n",
    "    X_data = theano.shared(X_train)\n",
    "\n",
    "    # Define the likelihood\n",
    "    mu = alpha + pm.math.dot(beta, X_data.T)\n",
    "    theta = pm.Deterministic(\"theta\", pm.math.sigmoid(mu))\n",
    "    y_obs = pm.Bernoulli(\"y_obs\", p=theta, observed=y_train)\n",
    "\n",
    "    # Perform inference\n",
    "    trace = pm.sample(2000, tune=1000, target_accept=0.95)\n",
    "\n",
    "\n",
    "\n"
   ]
  },
  {
   "cell_type": "code",
   "execution_count": 4,
   "metadata": {},
   "outputs": [
    {
     "data": {
      "text/html": [
       "\n",
       "    <div>\n",
       "      <progress value='8000' class='' max='8000' style='width:300px; height:20px; vertical-align: middle;'></progress>\n",
       "      100.00% [8000/8000 00:16&lt;00:00]\n",
       "    </div>\n",
       "    "
      ],
      "text/plain": [
       "<IPython.core.display.HTML object>"
      ]
     },
     "metadata": {},
     "output_type": "display_data"
    },
    {
     "name": "stdout",
     "output_type": "stream",
     "text": [
      "Accuracy with PyMC3 Bayesian Logistic Regression: 96.49%\n"
     ]
    }
   ],
   "source": [
    "# Evaluate the model on the testing set\n",
    "with model:\n",
    "    X_data.set_value(X_test)  # Update the shared variable with test data\n",
    "    ppc = pm.sample_posterior_predictive(trace, var_names=[\"theta\"])\n",
    "    y_test_pred = ppc[\"theta\"].mean(axis=0) > 0.5\n",
    "    accuracy = (y_test_pred == y_test).mean()\n",
    "    print(\n",
    "        f\"Accuracy with PyMC3 Bayesian Logistic Regression: {accuracy * 100:.2f}%\")\n"
   ]
  },
  {
   "cell_type": "code",
   "execution_count": null,
   "metadata": {},
   "outputs": [],
   "source": []
  }
 ],
 "metadata": {
  "kernelspec": {
   "display_name": "Python 3",
   "language": "python",
   "name": "python3"
  },
  "language_info": {
   "codemirror_mode": {
    "name": "ipython",
    "version": 3
   },
   "file_extension": ".py",
   "mimetype": "text/x-python",
   "name": "python",
   "nbconvert_exporter": "python",
   "pygments_lexer": "ipython3",
   "version": "3.7.16"
  },
  "orig_nbformat": 4,
  "vscode": {
   "interpreter": {
    "hash": "ca4661620a5babe09c616bc277ea3494c5b51e91c5408d753526c800ab63db71"
   }
  }
 },
 "nbformat": 4,
 "nbformat_minor": 2
}
